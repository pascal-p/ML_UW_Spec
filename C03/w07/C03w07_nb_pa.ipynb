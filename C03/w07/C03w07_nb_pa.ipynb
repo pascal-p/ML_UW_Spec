{
 "cells": [
  {
   "cell_type": "markdown",
   "metadata": {},
   "source": [
    "# Training Logistic Regression via Stochastic Gradient Ascent\n",
    "\n",
    "The goal of this notebook is to implement a logistic regression classifier using stochastic gradient ascent. We will:\n",
    "  - Extract features from Amazon product reviews.\n",
    "  - Convert an SFrame into a NumPy array.\n",
    "  - Write a function to compute the derivative of log likelihood function with respect to a single coefficient.\n",
    "  - Implement stochastic gradient ascent.\n",
    "  - Compare convergence of stochastic gradient ascent with that of batch gradient ascent."
   ]
  },
  {
   "cell_type": "markdown",
   "metadata": {},
   "source": [
    "# Fire up Turi Create\n",
    " \n",
    "Make sure you have the latest version of Turi Create."
   ]
  },
  {
   "cell_type": "code",
   "execution_count": 1,
   "metadata": {},
   "outputs": [],
   "source": [
    "import turicreate"
   ]
  },
  {
   "cell_type": "code",
   "execution_count": 2,
   "metadata": {},
   "outputs": [],
   "source": [
    "## utils for this notebooks moved into its own package\n",
    "import sys\n",
    "sys.path.append(\"../common\")\n",
    "\n",
    "from utils import time_it, assert_all, get_numpy_data, load_important_words"
   ]
  },
  {
   "cell_type": "markdown",
   "metadata": {},
   "source": [
    "## Load and process review dataset"
   ]
  },
  {
   "cell_type": "markdown",
   "metadata": {},
   "source": [
    "For this assignment, we will use the same subset of the Amazon product review dataset that we used in Module 3 assignment. The subset was chosen to contain similar numbers of positive and negative reviews, as the original dataset consisted of mostly positive reviews."
   ]
  },
  {
   "cell_type": "code",
   "execution_count": 3,
   "metadata": {},
   "outputs": [],
   "source": [
    "products = turicreate.SFrame('../data/amazon_baby_subset.sframe/')"
   ]
  },
  {
   "cell_type": "markdown",
   "metadata": {},
   "source": [
    "Just like we did previously, we will work with a hand-curated list of important words extracted from the review data. We will also perform 2 simple data transformations:\n",
    "\n",
    "1. Remove punctuation using [Python's built-in](https://docs.python.org/2/library/string.html) string manipulation functionality.\n",
    "2. Compute word counts (only for the important_words)\n",
    "\n",
    "Refer to Module 3 assignment for more details."
   ]
  },
  {
   "cell_type": "code",
   "execution_count": 4,
   "metadata": {},
   "outputs": [],
   "source": [
    "import string\n",
    "\n",
    "def remove_punctuation(text):\n",
    "  translator = text.maketrans('', '', string.punctuation)\n",
    "  return text.translate(translator)"
   ]
  },
  {
   "cell_type": "code",
   "execution_count": 5,
   "metadata": {},
   "outputs": [],
   "source": [
    "important_words = load_important_words()"
   ]
  },
  {
   "cell_type": "code",
   "execution_count": 6,
   "metadata": {},
   "outputs": [],
   "source": [
    "# Remove punctuation.\n",
    "products['review_clean'] = products['review'].apply(remove_punctuation)\n",
    "\n",
    "# Split out the words into individual columns\n",
    "for word in important_words:\n",
    "    products[word] = products['review_clean'].apply(lambda s: s.split().count(word))"
   ]
  },
  {
   "cell_type": "markdown",
   "metadata": {},
   "source": [
    "The SFrame **products** now contains one column for each of the 193 **important_words**. "
   ]
  },
  {
   "cell_type": "code",
   "execution_count": 7,
   "metadata": {
    "scrolled": true
   },
   "outputs": [
    {
     "data": {
      "text/html": [
       "<div style=\"max-height:1000px;max-width:1500px;overflow:auto;\"><table frame=\"box\" rules=\"cols\">\n",
       "    <tr>\n",
       "        <th style=\"padding-left: 1em; padding-right: 1em; text-align: center\">name</th>\n",
       "        <th style=\"padding-left: 1em; padding-right: 1em; text-align: center\">review</th>\n",
       "        <th style=\"padding-left: 1em; padding-right: 1em; text-align: center\">rating</th>\n",
       "        <th style=\"padding-left: 1em; padding-right: 1em; text-align: center\">sentiment</th>\n",
       "        <th style=\"padding-left: 1em; padding-right: 1em; text-align: center\">review_clean</th>\n",
       "        <th style=\"padding-left: 1em; padding-right: 1em; text-align: center\">baby</th>\n",
       "    </tr>\n",
       "    <tr>\n",
       "        <td style=\"padding-left: 1em; padding-right: 1em; text-align: center; vertical-align: top\">Stop Pacifier Sucking<br>without tears with ...</td>\n",
       "        <td style=\"padding-left: 1em; padding-right: 1em; text-align: center; vertical-align: top\">All of my kids have cried<br>non-stop when I tried to ...</td>\n",
       "        <td style=\"padding-left: 1em; padding-right: 1em; text-align: center; vertical-align: top\">5.0</td>\n",
       "        <td style=\"padding-left: 1em; padding-right: 1em; text-align: center; vertical-align: top\">1</td>\n",
       "        <td style=\"padding-left: 1em; padding-right: 1em; text-align: center; vertical-align: top\">All of my kids have cried<br>nonstop when I tried to ...</td>\n",
       "        <td style=\"padding-left: 1em; padding-right: 1em; text-align: center; vertical-align: top\">0</td>\n",
       "    </tr>\n",
       "    <tr>\n",
       "        <td style=\"padding-left: 1em; padding-right: 1em; text-align: center; vertical-align: top\">Nature&#x27;s Lullabies Second<br>Year Sticker Calendar ...</td>\n",
       "        <td style=\"padding-left: 1em; padding-right: 1em; text-align: center; vertical-align: top\">We wanted to get<br>something to keep track ...</td>\n",
       "        <td style=\"padding-left: 1em; padding-right: 1em; text-align: center; vertical-align: top\">5.0</td>\n",
       "        <td style=\"padding-left: 1em; padding-right: 1em; text-align: center; vertical-align: top\">1</td>\n",
       "        <td style=\"padding-left: 1em; padding-right: 1em; text-align: center; vertical-align: top\">We wanted to get<br>something to keep track ...</td>\n",
       "        <td style=\"padding-left: 1em; padding-right: 1em; text-align: center; vertical-align: top\">0</td>\n",
       "    </tr>\n",
       "    <tr>\n",
       "        <td style=\"padding-left: 1em; padding-right: 1em; text-align: center; vertical-align: top\">Nature&#x27;s Lullabies Second<br>Year Sticker Calendar ...</td>\n",
       "        <td style=\"padding-left: 1em; padding-right: 1em; text-align: center; vertical-align: top\">My daughter had her 1st<br>baby over a year ago. ...</td>\n",
       "        <td style=\"padding-left: 1em; padding-right: 1em; text-align: center; vertical-align: top\">5.0</td>\n",
       "        <td style=\"padding-left: 1em; padding-right: 1em; text-align: center; vertical-align: top\">1</td>\n",
       "        <td style=\"padding-left: 1em; padding-right: 1em; text-align: center; vertical-align: top\">My daughter had her 1st<br>baby over a year ago She ...</td>\n",
       "        <td style=\"padding-left: 1em; padding-right: 1em; text-align: center; vertical-align: top\">1</td>\n",
       "    </tr>\n",
       "    <tr>\n",
       "        <td style=\"padding-left: 1em; padding-right: 1em; text-align: center; vertical-align: top\">Lamaze Peekaboo, I Love<br>You ...</td>\n",
       "        <td style=\"padding-left: 1em; padding-right: 1em; text-align: center; vertical-align: top\">One of baby&#x27;s first and<br>favorite books, and i ...</td>\n",
       "        <td style=\"padding-left: 1em; padding-right: 1em; text-align: center; vertical-align: top\">4.0</td>\n",
       "        <td style=\"padding-left: 1em; padding-right: 1em; text-align: center; vertical-align: top\">1</td>\n",
       "        <td style=\"padding-left: 1em; padding-right: 1em; text-align: center; vertical-align: top\">One of babys first and<br>favorite books and it is ...</td>\n",
       "        <td style=\"padding-left: 1em; padding-right: 1em; text-align: center; vertical-align: top\">0</td>\n",
       "    </tr>\n",
       "    <tr>\n",
       "        <td style=\"padding-left: 1em; padding-right: 1em; text-align: center; vertical-align: top\">SoftPlay Peek-A-Boo<br>Where&#x27;s Elmo A Childr ...</td>\n",
       "        <td style=\"padding-left: 1em; padding-right: 1em; text-align: center; vertical-align: top\">Very cute interactive<br>book! My son loves this ...</td>\n",
       "        <td style=\"padding-left: 1em; padding-right: 1em; text-align: center; vertical-align: top\">5.0</td>\n",
       "        <td style=\"padding-left: 1em; padding-right: 1em; text-align: center; vertical-align: top\">1</td>\n",
       "        <td style=\"padding-left: 1em; padding-right: 1em; text-align: center; vertical-align: top\">Very cute interactive<br>book My son loves this ...</td>\n",
       "        <td style=\"padding-left: 1em; padding-right: 1em; text-align: center; vertical-align: top\">0</td>\n",
       "    </tr>\n",
       "</table>\n",
       "<table frame=\"box\" rules=\"cols\">\n",
       "    <tr>\n",
       "        <th style=\"padding-left: 1em; padding-right: 1em; text-align: center\">one</th>\n",
       "        <th style=\"padding-left: 1em; padding-right: 1em; text-align: center\">great</th>\n",
       "        <th style=\"padding-left: 1em; padding-right: 1em; text-align: center\">love</th>\n",
       "        <th style=\"padding-left: 1em; padding-right: 1em; text-align: center\">use</th>\n",
       "        <th style=\"padding-left: 1em; padding-right: 1em; text-align: center\">would</th>\n",
       "        <th style=\"padding-left: 1em; padding-right: 1em; text-align: center\">like</th>\n",
       "        <th style=\"padding-left: 1em; padding-right: 1em; text-align: center\">easy</th>\n",
       "        <th style=\"padding-left: 1em; padding-right: 1em; text-align: center\">little</th>\n",
       "        <th style=\"padding-left: 1em; padding-right: 1em; text-align: center\">seat</th>\n",
       "        <th style=\"padding-left: 1em; padding-right: 1em; text-align: center\">old</th>\n",
       "        <th style=\"padding-left: 1em; padding-right: 1em; text-align: center\">well</th>\n",
       "        <th style=\"padding-left: 1em; padding-right: 1em; text-align: center\">get</th>\n",
       "        <th style=\"padding-left: 1em; padding-right: 1em; text-align: center\">also</th>\n",
       "        <th style=\"padding-left: 1em; padding-right: 1em; text-align: center\">really</th>\n",
       "        <th style=\"padding-left: 1em; padding-right: 1em; text-align: center\">son</th>\n",
       "        <th style=\"padding-left: 1em; padding-right: 1em; text-align: center\">time</th>\n",
       "        <th style=\"padding-left: 1em; padding-right: 1em; text-align: center\">bought</th>\n",
       "    </tr>\n",
       "    <tr>\n",
       "        <td style=\"padding-left: 1em; padding-right: 1em; text-align: center; vertical-align: top\">0</td>\n",
       "        <td style=\"padding-left: 1em; padding-right: 1em; text-align: center; vertical-align: top\">1</td>\n",
       "        <td style=\"padding-left: 1em; padding-right: 1em; text-align: center; vertical-align: top\">0</td>\n",
       "        <td style=\"padding-left: 1em; padding-right: 1em; text-align: center; vertical-align: top\">0</td>\n",
       "        <td style=\"padding-left: 1em; padding-right: 1em; text-align: center; vertical-align: top\">0</td>\n",
       "        <td style=\"padding-left: 1em; padding-right: 1em; text-align: center; vertical-align: top\">0</td>\n",
       "        <td style=\"padding-left: 1em; padding-right: 1em; text-align: center; vertical-align: top\">1</td>\n",
       "        <td style=\"padding-left: 1em; padding-right: 1em; text-align: center; vertical-align: top\">0</td>\n",
       "        <td style=\"padding-left: 1em; padding-right: 1em; text-align: center; vertical-align: top\">0</td>\n",
       "        <td style=\"padding-left: 1em; padding-right: 1em; text-align: center; vertical-align: top\">0</td>\n",
       "        <td style=\"padding-left: 1em; padding-right: 1em; text-align: center; vertical-align: top\">0</td>\n",
       "        <td style=\"padding-left: 1em; padding-right: 1em; text-align: center; vertical-align: top\">0</td>\n",
       "        <td style=\"padding-left: 1em; padding-right: 1em; text-align: center; vertical-align: top\">0</td>\n",
       "        <td style=\"padding-left: 1em; padding-right: 1em; text-align: center; vertical-align: top\">0</td>\n",
       "        <td style=\"padding-left: 1em; padding-right: 1em; text-align: center; vertical-align: top\">0</td>\n",
       "        <td style=\"padding-left: 1em; padding-right: 1em; text-align: center; vertical-align: top\">0</td>\n",
       "        <td style=\"padding-left: 1em; padding-right: 1em; text-align: center; vertical-align: top\">0</td>\n",
       "    </tr>\n",
       "    <tr>\n",
       "        <td style=\"padding-left: 1em; padding-right: 1em; text-align: center; vertical-align: top\">0</td>\n",
       "        <td style=\"padding-left: 1em; padding-right: 1em; text-align: center; vertical-align: top\">0</td>\n",
       "        <td style=\"padding-left: 1em; padding-right: 1em; text-align: center; vertical-align: top\">0</td>\n",
       "        <td style=\"padding-left: 1em; padding-right: 1em; text-align: center; vertical-align: top\">0</td>\n",
       "        <td style=\"padding-left: 1em; padding-right: 1em; text-align: center; vertical-align: top\">0</td>\n",
       "        <td style=\"padding-left: 1em; padding-right: 1em; text-align: center; vertical-align: top\">0</td>\n",
       "        <td style=\"padding-left: 1em; padding-right: 1em; text-align: center; vertical-align: top\">0</td>\n",
       "        <td style=\"padding-left: 1em; padding-right: 1em; text-align: center; vertical-align: top\">0</td>\n",
       "        <td style=\"padding-left: 1em; padding-right: 1em; text-align: center; vertical-align: top\">0</td>\n",
       "        <td style=\"padding-left: 1em; padding-right: 1em; text-align: center; vertical-align: top\">0</td>\n",
       "        <td style=\"padding-left: 1em; padding-right: 1em; text-align: center; vertical-align: top\">0</td>\n",
       "        <td style=\"padding-left: 1em; padding-right: 1em; text-align: center; vertical-align: top\">1</td>\n",
       "        <td style=\"padding-left: 1em; padding-right: 1em; text-align: center; vertical-align: top\">0</td>\n",
       "        <td style=\"padding-left: 1em; padding-right: 1em; text-align: center; vertical-align: top\">0</td>\n",
       "        <td style=\"padding-left: 1em; padding-right: 1em; text-align: center; vertical-align: top\">0</td>\n",
       "        <td style=\"padding-left: 1em; padding-right: 1em; text-align: center; vertical-align: top\">0</td>\n",
       "        <td style=\"padding-left: 1em; padding-right: 1em; text-align: center; vertical-align: top\">0</td>\n",
       "    </tr>\n",
       "    <tr>\n",
       "        <td style=\"padding-left: 1em; padding-right: 1em; text-align: center; vertical-align: top\">0</td>\n",
       "        <td style=\"padding-left: 1em; padding-right: 1em; text-align: center; vertical-align: top\">0</td>\n",
       "        <td style=\"padding-left: 1em; padding-right: 1em; text-align: center; vertical-align: top\">0</td>\n",
       "        <td style=\"padding-left: 1em; padding-right: 1em; text-align: center; vertical-align: top\">0</td>\n",
       "        <td style=\"padding-left: 1em; padding-right: 1em; text-align: center; vertical-align: top\">0</td>\n",
       "        <td style=\"padding-left: 1em; padding-right: 1em; text-align: center; vertical-align: top\">0</td>\n",
       "        <td style=\"padding-left: 1em; padding-right: 1em; text-align: center; vertical-align: top\">0</td>\n",
       "        <td style=\"padding-left: 1em; padding-right: 1em; text-align: center; vertical-align: top\">0</td>\n",
       "        <td style=\"padding-left: 1em; padding-right: 1em; text-align: center; vertical-align: top\">0</td>\n",
       "        <td style=\"padding-left: 1em; padding-right: 1em; text-align: center; vertical-align: top\">1</td>\n",
       "        <td style=\"padding-left: 1em; padding-right: 1em; text-align: center; vertical-align: top\">0</td>\n",
       "        <td style=\"padding-left: 1em; padding-right: 1em; text-align: center; vertical-align: top\">1</td>\n",
       "        <td style=\"padding-left: 1em; padding-right: 1em; text-align: center; vertical-align: top\">0</td>\n",
       "        <td style=\"padding-left: 1em; padding-right: 1em; text-align: center; vertical-align: top\">0</td>\n",
       "        <td style=\"padding-left: 1em; padding-right: 1em; text-align: center; vertical-align: top\">1</td>\n",
       "        <td style=\"padding-left: 1em; padding-right: 1em; text-align: center; vertical-align: top\">0</td>\n",
       "        <td style=\"padding-left: 1em; padding-right: 1em; text-align: center; vertical-align: top\">0</td>\n",
       "    </tr>\n",
       "    <tr>\n",
       "        <td style=\"padding-left: 1em; padding-right: 1em; text-align: center; vertical-align: top\">0</td>\n",
       "        <td style=\"padding-left: 1em; padding-right: 1em; text-align: center; vertical-align: top\">0</td>\n",
       "        <td style=\"padding-left: 1em; padding-right: 1em; text-align: center; vertical-align: top\">0</td>\n",
       "        <td style=\"padding-left: 1em; padding-right: 1em; text-align: center; vertical-align: top\">0</td>\n",
       "        <td style=\"padding-left: 1em; padding-right: 1em; text-align: center; vertical-align: top\">0</td>\n",
       "        <td style=\"padding-left: 1em; padding-right: 1em; text-align: center; vertical-align: top\">1</td>\n",
       "        <td style=\"padding-left: 1em; padding-right: 1em; text-align: center; vertical-align: top\">0</td>\n",
       "        <td style=\"padding-left: 1em; padding-right: 1em; text-align: center; vertical-align: top\">0</td>\n",
       "        <td style=\"padding-left: 1em; padding-right: 1em; text-align: center; vertical-align: top\">0</td>\n",
       "        <td style=\"padding-left: 1em; padding-right: 1em; text-align: center; vertical-align: top\">0</td>\n",
       "        <td style=\"padding-left: 1em; padding-right: 1em; text-align: center; vertical-align: top\">0</td>\n",
       "        <td style=\"padding-left: 1em; padding-right: 1em; text-align: center; vertical-align: top\">0</td>\n",
       "        <td style=\"padding-left: 1em; padding-right: 1em; text-align: center; vertical-align: top\">0</td>\n",
       "        <td style=\"padding-left: 1em; padding-right: 1em; text-align: center; vertical-align: top\">0</td>\n",
       "        <td style=\"padding-left: 1em; padding-right: 1em; text-align: center; vertical-align: top\">0</td>\n",
       "        <td style=\"padding-left: 1em; padding-right: 1em; text-align: center; vertical-align: top\">0</td>\n",
       "        <td style=\"padding-left: 1em; padding-right: 1em; text-align: center; vertical-align: top\">0</td>\n",
       "    </tr>\n",
       "    <tr>\n",
       "        <td style=\"padding-left: 1em; padding-right: 1em; text-align: center; vertical-align: top\">0</td>\n",
       "        <td style=\"padding-left: 1em; padding-right: 1em; text-align: center; vertical-align: top\">1</td>\n",
       "        <td style=\"padding-left: 1em; padding-right: 1em; text-align: center; vertical-align: top\">0</td>\n",
       "        <td style=\"padding-left: 1em; padding-right: 1em; text-align: center; vertical-align: top\">0</td>\n",
       "        <td style=\"padding-left: 1em; padding-right: 1em; text-align: center; vertical-align: top\">0</td>\n",
       "        <td style=\"padding-left: 1em; padding-right: 1em; text-align: center; vertical-align: top\">0</td>\n",
       "        <td style=\"padding-left: 1em; padding-right: 1em; text-align: center; vertical-align: top\">0</td>\n",
       "        <td style=\"padding-left: 1em; padding-right: 1em; text-align: center; vertical-align: top\">0</td>\n",
       "        <td style=\"padding-left: 1em; padding-right: 1em; text-align: center; vertical-align: top\">0</td>\n",
       "        <td style=\"padding-left: 1em; padding-right: 1em; text-align: center; vertical-align: top\">0</td>\n",
       "        <td style=\"padding-left: 1em; padding-right: 1em; text-align: center; vertical-align: top\">0</td>\n",
       "        <td style=\"padding-left: 1em; padding-right: 1em; text-align: center; vertical-align: top\">0</td>\n",
       "        <td style=\"padding-left: 1em; padding-right: 1em; text-align: center; vertical-align: top\">0</td>\n",
       "        <td style=\"padding-left: 1em; padding-right: 1em; text-align: center; vertical-align: top\">0</td>\n",
       "        <td style=\"padding-left: 1em; padding-right: 1em; text-align: center; vertical-align: top\">1</td>\n",
       "        <td style=\"padding-left: 1em; padding-right: 1em; text-align: center; vertical-align: top\">0</td>\n",
       "        <td style=\"padding-left: 1em; padding-right: 1em; text-align: center; vertical-align: top\">0</td>\n",
       "    </tr>\n",
       "</table>\n",
       "<table frame=\"box\" rules=\"cols\">\n",
       "    <tr>\n",
       "        <th style=\"padding-left: 1em; padding-right: 1em; text-align: center\">product</th>\n",
       "        <th style=\"padding-left: 1em; padding-right: 1em; text-align: center\">good</th>\n",
       "        <th style=\"padding-left: 1em; padding-right: 1em; text-align: center\">daughter</th>\n",
       "        <th style=\"padding-left: 1em; padding-right: 1em; text-align: center\">much</th>\n",
       "        <th style=\"padding-left: 1em; padding-right: 1em; text-align: center\">loves</th>\n",
       "        <th style=\"padding-left: 1em; padding-right: 1em; text-align: center\">stroller</th>\n",
       "        <th style=\"padding-left: 1em; padding-right: 1em; text-align: center\">put</th>\n",
       "        <th style=\"padding-left: 1em; padding-right: 1em; text-align: center\">months</th>\n",
       "        <th style=\"padding-left: 1em; padding-right: 1em; text-align: center\">car</th>\n",
       "        <th style=\"padding-left: 1em; padding-right: 1em; text-align: center\">still</th>\n",
       "        <th style=\"padding-left: 1em; padding-right: 1em; text-align: center\">back</th>\n",
       "        <th style=\"padding-left: 1em; padding-right: 1em; text-align: center\">used</th>\n",
       "        <th style=\"padding-left: 1em; padding-right: 1em; text-align: center\">recommend</th>\n",
       "        <th style=\"padding-left: 1em; padding-right: 1em; text-align: center\">first</th>\n",
       "        <th style=\"padding-left: 1em; padding-right: 1em; text-align: center\">even</th>\n",
       "    </tr>\n",
       "    <tr>\n",
       "        <td style=\"padding-left: 1em; padding-right: 1em; text-align: center; vertical-align: top\">0</td>\n",
       "        <td style=\"padding-left: 1em; padding-right: 1em; text-align: center; vertical-align: top\">0</td>\n",
       "        <td style=\"padding-left: 1em; padding-right: 1em; text-align: center; vertical-align: top\">0</td>\n",
       "        <td style=\"padding-left: 1em; padding-right: 1em; text-align: center; vertical-align: top\">0</td>\n",
       "        <td style=\"padding-left: 1em; padding-right: 1em; text-align: center; vertical-align: top\">0</td>\n",
       "        <td style=\"padding-left: 1em; padding-right: 1em; text-align: center; vertical-align: top\">0</td>\n",
       "        <td style=\"padding-left: 1em; padding-right: 1em; text-align: center; vertical-align: top\">0</td>\n",
       "        <td style=\"padding-left: 1em; padding-right: 1em; text-align: center; vertical-align: top\">0</td>\n",
       "        <td style=\"padding-left: 1em; padding-right: 1em; text-align: center; vertical-align: top\">0</td>\n",
       "        <td style=\"padding-left: 1em; padding-right: 1em; text-align: center; vertical-align: top\">0</td>\n",
       "        <td style=\"padding-left: 1em; padding-right: 1em; text-align: center; vertical-align: top\">0</td>\n",
       "        <td style=\"padding-left: 1em; padding-right: 1em; text-align: center; vertical-align: top\">0</td>\n",
       "        <td style=\"padding-left: 1em; padding-right: 1em; text-align: center; vertical-align: top\">0</td>\n",
       "        <td style=\"padding-left: 1em; padding-right: 1em; text-align: center; vertical-align: top\">0</td>\n",
       "        <td style=\"padding-left: 1em; padding-right: 1em; text-align: center; vertical-align: top\">0</td>\n",
       "    </tr>\n",
       "    <tr>\n",
       "        <td style=\"padding-left: 1em; padding-right: 1em; text-align: center; vertical-align: top\">0</td>\n",
       "        <td style=\"padding-left: 1em; padding-right: 1em; text-align: center; vertical-align: top\">0</td>\n",
       "        <td style=\"padding-left: 1em; padding-right: 1em; text-align: center; vertical-align: top\">0</td>\n",
       "        <td style=\"padding-left: 1em; padding-right: 1em; text-align: center; vertical-align: top\">0</td>\n",
       "        <td style=\"padding-left: 1em; padding-right: 1em; text-align: center; vertical-align: top\">0</td>\n",
       "        <td style=\"padding-left: 1em; padding-right: 1em; text-align: center; vertical-align: top\">0</td>\n",
       "        <td style=\"padding-left: 1em; padding-right: 1em; text-align: center; vertical-align: top\">0</td>\n",
       "        <td style=\"padding-left: 1em; padding-right: 1em; text-align: center; vertical-align: top\">0</td>\n",
       "        <td style=\"padding-left: 1em; padding-right: 1em; text-align: center; vertical-align: top\">0</td>\n",
       "        <td style=\"padding-left: 1em; padding-right: 1em; text-align: center; vertical-align: top\">0</td>\n",
       "        <td style=\"padding-left: 1em; padding-right: 1em; text-align: center; vertical-align: top\">0</td>\n",
       "        <td style=\"padding-left: 1em; padding-right: 1em; text-align: center; vertical-align: top\">0</td>\n",
       "        <td style=\"padding-left: 1em; padding-right: 1em; text-align: center; vertical-align: top\">0</td>\n",
       "        <td style=\"padding-left: 1em; padding-right: 1em; text-align: center; vertical-align: top\">0</td>\n",
       "        <td style=\"padding-left: 1em; padding-right: 1em; text-align: center; vertical-align: top\">0</td>\n",
       "    </tr>\n",
       "    <tr>\n",
       "        <td style=\"padding-left: 1em; padding-right: 1em; text-align: center; vertical-align: top\">0</td>\n",
       "        <td style=\"padding-left: 1em; padding-right: 1em; text-align: center; vertical-align: top\">0</td>\n",
       "        <td style=\"padding-left: 1em; padding-right: 1em; text-align: center; vertical-align: top\">1</td>\n",
       "        <td style=\"padding-left: 1em; padding-right: 1em; text-align: center; vertical-align: top\">0</td>\n",
       "        <td style=\"padding-left: 1em; padding-right: 1em; text-align: center; vertical-align: top\">0</td>\n",
       "        <td style=\"padding-left: 1em; padding-right: 1em; text-align: center; vertical-align: top\">0</td>\n",
       "        <td style=\"padding-left: 1em; padding-right: 1em; text-align: center; vertical-align: top\">0</td>\n",
       "        <td style=\"padding-left: 1em; padding-right: 1em; text-align: center; vertical-align: top\">0</td>\n",
       "        <td style=\"padding-left: 1em; padding-right: 1em; text-align: center; vertical-align: top\">0</td>\n",
       "        <td style=\"padding-left: 1em; padding-right: 1em; text-align: center; vertical-align: top\">0</td>\n",
       "        <td style=\"padding-left: 1em; padding-right: 1em; text-align: center; vertical-align: top\">0</td>\n",
       "        <td style=\"padding-left: 1em; padding-right: 1em; text-align: center; vertical-align: top\">0</td>\n",
       "        <td style=\"padding-left: 1em; padding-right: 1em; text-align: center; vertical-align: top\">0</td>\n",
       "        <td style=\"padding-left: 1em; padding-right: 1em; text-align: center; vertical-align: top\">1</td>\n",
       "        <td style=\"padding-left: 1em; padding-right: 1em; text-align: center; vertical-align: top\">0</td>\n",
       "    </tr>\n",
       "    <tr>\n",
       "        <td style=\"padding-left: 1em; padding-right: 1em; text-align: center; vertical-align: top\">0</td>\n",
       "        <td style=\"padding-left: 1em; padding-right: 1em; text-align: center; vertical-align: top\">0</td>\n",
       "        <td style=\"padding-left: 1em; padding-right: 1em; text-align: center; vertical-align: top\">0</td>\n",
       "        <td style=\"padding-left: 1em; padding-right: 1em; text-align: center; vertical-align: top\">0</td>\n",
       "        <td style=\"padding-left: 1em; padding-right: 1em; text-align: center; vertical-align: top\">0</td>\n",
       "        <td style=\"padding-left: 1em; padding-right: 1em; text-align: center; vertical-align: top\">0</td>\n",
       "        <td style=\"padding-left: 1em; padding-right: 1em; text-align: center; vertical-align: top\">0</td>\n",
       "        <td style=\"padding-left: 1em; padding-right: 1em; text-align: center; vertical-align: top\">0</td>\n",
       "        <td style=\"padding-left: 1em; padding-right: 1em; text-align: center; vertical-align: top\">0</td>\n",
       "        <td style=\"padding-left: 1em; padding-right: 1em; text-align: center; vertical-align: top\">0</td>\n",
       "        <td style=\"padding-left: 1em; padding-right: 1em; text-align: center; vertical-align: top\">0</td>\n",
       "        <td style=\"padding-left: 1em; padding-right: 1em; text-align: center; vertical-align: top\">0</td>\n",
       "        <td style=\"padding-left: 1em; padding-right: 1em; text-align: center; vertical-align: top\">0</td>\n",
       "        <td style=\"padding-left: 1em; padding-right: 1em; text-align: center; vertical-align: top\">1</td>\n",
       "        <td style=\"padding-left: 1em; padding-right: 1em; text-align: center; vertical-align: top\">0</td>\n",
       "    </tr>\n",
       "    <tr>\n",
       "        <td style=\"padding-left: 1em; padding-right: 1em; text-align: center; vertical-align: top\">0</td>\n",
       "        <td style=\"padding-left: 1em; padding-right: 1em; text-align: center; vertical-align: top\">0</td>\n",
       "        <td style=\"padding-left: 1em; padding-right: 1em; text-align: center; vertical-align: top\">0</td>\n",
       "        <td style=\"padding-left: 1em; padding-right: 1em; text-align: center; vertical-align: top\">0</td>\n",
       "        <td style=\"padding-left: 1em; padding-right: 1em; text-align: center; vertical-align: top\">1</td>\n",
       "        <td style=\"padding-left: 1em; padding-right: 1em; text-align: center; vertical-align: top\">0</td>\n",
       "        <td style=\"padding-left: 1em; padding-right: 1em; text-align: center; vertical-align: top\">0</td>\n",
       "        <td style=\"padding-left: 1em; padding-right: 1em; text-align: center; vertical-align: top\">0</td>\n",
       "        <td style=\"padding-left: 1em; padding-right: 1em; text-align: center; vertical-align: top\">0</td>\n",
       "        <td style=\"padding-left: 1em; padding-right: 1em; text-align: center; vertical-align: top\">0</td>\n",
       "        <td style=\"padding-left: 1em; padding-right: 1em; text-align: center; vertical-align: top\">0</td>\n",
       "        <td style=\"padding-left: 1em; padding-right: 1em; text-align: center; vertical-align: top\">0</td>\n",
       "        <td style=\"padding-left: 1em; padding-right: 1em; text-align: center; vertical-align: top\">0</td>\n",
       "        <td style=\"padding-left: 1em; padding-right: 1em; text-align: center; vertical-align: top\">0</td>\n",
       "        <td style=\"padding-left: 1em; padding-right: 1em; text-align: center; vertical-align: top\">0</td>\n",
       "    </tr>\n",
       "</table>\n",
       "<table frame=\"box\" rules=\"cols\">\n",
       "    <tr>\n",
       "        <th style=\"padding-left: 1em; padding-right: 1em; text-align: center\">perfect</th>\n",
       "        <th style=\"padding-left: 1em; padding-right: 1em; text-align: center\">nice</th>\n",
       "        <th style=\"padding-left: 1em; padding-right: 1em; text-align: center\">...</th>\n",
       "    </tr>\n",
       "    <tr>\n",
       "        <td style=\"padding-left: 1em; padding-right: 1em; text-align: center; vertical-align: top\">0</td>\n",
       "        <td style=\"padding-left: 1em; padding-right: 1em; text-align: center; vertical-align: top\">0</td>\n",
       "        <td style=\"padding-left: 1em; padding-right: 1em; text-align: center; vertical-align: top\">...</td>\n",
       "    </tr>\n",
       "    <tr>\n",
       "        <td style=\"padding-left: 1em; padding-right: 1em; text-align: center; vertical-align: top\">0</td>\n",
       "        <td style=\"padding-left: 1em; padding-right: 1em; text-align: center; vertical-align: top\">0</td>\n",
       "        <td style=\"padding-left: 1em; padding-right: 1em; text-align: center; vertical-align: top\">...</td>\n",
       "    </tr>\n",
       "    <tr>\n",
       "        <td style=\"padding-left: 1em; padding-right: 1em; text-align: center; vertical-align: top\">0</td>\n",
       "        <td style=\"padding-left: 1em; padding-right: 1em; text-align: center; vertical-align: top\">1</td>\n",
       "        <td style=\"padding-left: 1em; padding-right: 1em; text-align: center; vertical-align: top\">...</td>\n",
       "    </tr>\n",
       "    <tr>\n",
       "        <td style=\"padding-left: 1em; padding-right: 1em; text-align: center; vertical-align: top\">1</td>\n",
       "        <td style=\"padding-left: 1em; padding-right: 1em; text-align: center; vertical-align: top\">0</td>\n",
       "        <td style=\"padding-left: 1em; padding-right: 1em; text-align: center; vertical-align: top\">...</td>\n",
       "    </tr>\n",
       "    <tr>\n",
       "        <td style=\"padding-left: 1em; padding-right: 1em; text-align: center; vertical-align: top\">0</td>\n",
       "        <td style=\"padding-left: 1em; padding-right: 1em; text-align: center; vertical-align: top\">0</td>\n",
       "        <td style=\"padding-left: 1em; padding-right: 1em; text-align: center; vertical-align: top\">...</td>\n",
       "    </tr>\n",
       "</table>\n",
       "[5 rows x 198 columns]<br/>\n",
       "</div>"
      ],
      "text/plain": [
       "Columns:\n",
       "\tname\tstr\n",
       "\treview\tstr\n",
       "\trating\tfloat\n",
       "\tsentiment\tint\n",
       "\treview_clean\tstr\n",
       "\tbaby\tint\n",
       "\tone\tint\n",
       "\tgreat\tint\n",
       "\tlove\tint\n",
       "\tuse\tint\n",
       "\twould\tint\n",
       "\tlike\tint\n",
       "\teasy\tint\n",
       "\tlittle\tint\n",
       "\tseat\tint\n",
       "\told\tint\n",
       "\twell\tint\n",
       "\tget\tint\n",
       "\talso\tint\n",
       "\treally\tint\n",
       "\tson\tint\n",
       "\ttime\tint\n",
       "\tbought\tint\n",
       "\tproduct\tint\n",
       "\tgood\tint\n",
       "\tdaughter\tint\n",
       "\tmuch\tint\n",
       "\tloves\tint\n",
       "\tstroller\tint\n",
       "\tput\tint\n",
       "\tmonths\tint\n",
       "\tcar\tint\n",
       "\tstill\tint\n",
       "\tback\tint\n",
       "\tused\tint\n",
       "\trecommend\tint\n",
       "\tfirst\tint\n",
       "\teven\tint\n",
       "\tperfect\tint\n",
       "\tnice\tint\n",
       "\tbag\tint\n",
       "\ttwo\tint\n",
       "\tusing\tint\n",
       "\tgot\tint\n",
       "\tfit\tint\n",
       "\taround\tint\n",
       "\tdiaper\tint\n",
       "\tenough\tint\n",
       "\tmonth\tint\n",
       "\tprice\tint\n",
       "\tgo\tint\n",
       "\tcould\tint\n",
       "\tsoft\tint\n",
       "\tsince\tint\n",
       "\tbuy\tint\n",
       "\troom\tint\n",
       "\tworks\tint\n",
       "\tmade\tint\n",
       "\tchild\tint\n",
       "\tkeep\tint\n",
       "\tsize\tint\n",
       "\tsmall\tint\n",
       "\tneed\tint\n",
       "\tyear\tint\n",
       "\tbig\tint\n",
       "\tmake\tint\n",
       "\ttake\tint\n",
       "\teasily\tint\n",
       "\tthink\tint\n",
       "\tcrib\tint\n",
       "\tclean\tint\n",
       "\tway\tint\n",
       "\tquality\tint\n",
       "\tthing\tint\n",
       "\tbetter\tint\n",
       "\twithout\tint\n",
       "\tset\tint\n",
       "\tnew\tint\n",
       "\tevery\tint\n",
       "\tcute\tint\n",
       "\tbest\tint\n",
       "\tbottles\tint\n",
       "\twork\tint\n",
       "\tpurchased\tint\n",
       "\tright\tint\n",
       "\tlot\tint\n",
       "\tside\tint\n",
       "\thappy\tint\n",
       "\tcomfortable\tint\n",
       "\ttoy\tint\n",
       "\table\tint\n",
       "\tkids\tint\n",
       "\tbit\tint\n",
       "\tnight\tint\n",
       "\tlong\tint\n",
       "\tfits\tint\n",
       "\tsee\tint\n",
       "\tus\tint\n",
       "\tanother\tint\n",
       "\tplay\tint\n",
       "\tday\tint\n",
       "\tmoney\tint\n",
       "\tmonitor\tint\n",
       "\ttried\tint\n",
       "\tthought\tint\n",
       "\tnever\tint\n",
       "\titem\tint\n",
       "\thard\tint\n",
       "\tplastic\tint\n",
       "\thowever\tint\n",
       "\tdisappointed\tint\n",
       "\treviews\tint\n",
       "\tsomething\tint\n",
       "\tgoing\tint\n",
       "\tpump\tint\n",
       "\tbottle\tint\n",
       "\tcup\tint\n",
       "\twaste\tint\n",
       "\treturn\tint\n",
       "\tamazon\tint\n",
       "\tdifferent\tint\n",
       "\ttop\tint\n",
       "\twant\tint\n",
       "\tproblem\tint\n",
       "\tknow\tint\n",
       "\twater\tint\n",
       "\ttry\tint\n",
       "\treceived\tint\n",
       "\tsure\tint\n",
       "\ttimes\tint\n",
       "\tchair\tint\n",
       "\tfind\tint\n",
       "\thold\tint\n",
       "\tgate\tint\n",
       "\topen\tint\n",
       "\tbottom\tint\n",
       "\taway\tint\n",
       "\tactually\tint\n",
       "\tcheap\tint\n",
       "\tworked\tint\n",
       "\tgetting\tint\n",
       "\tordered\tint\n",
       "\tcame\tint\n",
       "\tmilk\tint\n",
       "\tbad\tint\n",
       "\tpart\tint\n",
       "\tworth\tint\n",
       "\tfound\tint\n",
       "\tcover\tint\n",
       "\tmany\tint\n",
       "\tdesign\tint\n",
       "\tlooking\tint\n",
       "\tweeks\tint\n",
       "\tsay\tint\n",
       "\twanted\tint\n",
       "\tlook\tint\n",
       "\tplace\tint\n",
       "\tpurchase\tint\n",
       "\tlooks\tint\n",
       "\tsecond\tint\n",
       "\tpiece\tint\n",
       "\tbox\tint\n",
       "\tpretty\tint\n",
       "\ttrying\tint\n",
       "\tdifficult\tint\n",
       "\ttogether\tint\n",
       "\tthough\tint\n",
       "\tgive\tint\n",
       "\tstarted\tint\n",
       "\tanything\tint\n",
       "\tlast\tint\n",
       "\tcompany\tint\n",
       "\tcome\tint\n",
       "\treturned\tint\n",
       "\tmaybe\tint\n",
       "\ttook\tint\n",
       "\tbroke\tint\n",
       "\tmakes\tint\n",
       "\tstay\tint\n",
       "\tinstead\tint\n",
       "\tidea\tint\n",
       "\thead\tint\n",
       "\tsaid\tint\n",
       "\tless\tint\n",
       "\twent\tint\n",
       "\tworking\tint\n",
       "\thigh\tint\n",
       "\tunit\tint\n",
       "\tseems\tint\n",
       "\tpicture\tint\n",
       "\tcompletely\tint\n",
       "\twish\tint\n",
       "\tbuying\tint\n",
       "\tbabies\tint\n",
       "\twon\tint\n",
       "\ttub\tint\n",
       "\talmost\tint\n",
       "\teither\tint\n",
       "\n",
       "Rows: 5\n",
       "\n",
       "Data:\n",
       "+-------------------------------+-------------------------------+--------+-----------+\n",
       "|              name             |             review            | rating | sentiment |\n",
       "+-------------------------------+-------------------------------+--------+-----------+\n",
       "| Stop Pacifier Sucking with... | All of my kids have cried ... |  5.0   |     1     |\n",
       "| Nature's Lullabies Second ... | We wanted to get something... |  5.0   |     1     |\n",
       "| Nature's Lullabies Second ... | My daughter had her 1st ba... |  5.0   |     1     |\n",
       "|  Lamaze Peekaboo, I Love You  | One of baby's first and fa... |  4.0   |     1     |\n",
       "| SoftPlay Peek-A-Boo Where'... | Very cute interactive book... |  5.0   |     1     |\n",
       "+-------------------------------+-------------------------------+--------+-----------+\n",
       "+-------------------------------+------+-----+-------+------+-----+-------+------+\n",
       "|          review_clean         | baby | one | great | love | use | would | like |\n",
       "+-------------------------------+------+-----+-------+------+-----+-------+------+\n",
       "| All of my kids have cried ... |  0   |  0  |   1   |  0   |  0  |   0   |  0   |\n",
       "| We wanted to get something... |  0   |  0  |   0   |  0   |  0  |   0   |  0   |\n",
       "| My daughter had her 1st ba... |  1   |  0  |   0   |  0   |  0  |   0   |  0   |\n",
       "| One of babys first and fav... |  0   |  0  |   0   |  0   |  0  |   0   |  1   |\n",
       "| Very cute interactive book... |  0   |  0  |   1   |  0   |  0  |   0   |  0   |\n",
       "+-------------------------------+------+-----+-------+------+-----+-------+------+\n",
       "+------+--------+------+-----+------+-----+------+--------+-----+\n",
       "| easy | little | seat | old | well | get | also | really | ... |\n",
       "+------+--------+------+-----+------+-----+------+--------+-----+\n",
       "|  1   |   0    |  0   |  0  |  0   |  0  |  0   |   0    | ... |\n",
       "|  0   |   0    |  0   |  0  |  0   |  1  |  0   |   0    | ... |\n",
       "|  0   |   0    |  0   |  1  |  0   |  1  |  0   |   0    | ... |\n",
       "|  0   |   0    |  0   |  0  |  0   |  0  |  0   |   0    | ... |\n",
       "|  0   |   0    |  0   |  0  |  0   |  0  |  0   |   0    | ... |\n",
       "+------+--------+------+-----+------+-----+------+--------+-----+\n",
       "[5 rows x 198 columns]"
      ]
     },
     "execution_count": 7,
     "metadata": {},
     "output_type": "execute_result"
    }
   ],
   "source": [
    "products.head(5)"
   ]
  },
  {
   "cell_type": "markdown",
   "metadata": {},
   "source": [
    "### Split data into training and validation sets\n",
    "\n",
    "We will now split the data into a 90-10 split where 90% is in the training set and 10% is in the validation set. We use `seed=1` so that everyone gets the same result."
   ]
  },
  {
   "cell_type": "code",
   "execution_count": 8,
   "metadata": {},
   "outputs": [
    {
     "data": {
      "text/plain": [
       "((47780, 198), (5292, 198))"
      ]
     },
     "execution_count": 8,
     "metadata": {},
     "output_type": "execute_result"
    }
   ],
   "source": [
    "train_data, validation_data = products.random_split(.9, seed=1)\n",
    "train_data.shape, validation_data.shape"
   ]
  },
  {
   "cell_type": "markdown",
   "metadata": {},
   "source": [
    "## Convert SFrame to NumPy array\n",
    "\n",
    "Just like in the earlier assignments, we provide you with a function that extracts columns from an SFrame and converts them into a NumPy array. Two arrays are returned: one representing features and another representing class labels. \n",
    "\n",
    "**Note:** The feature matrix includes an additional column 'intercept' filled with 1's to take account of the intercept term."
   ]
  },
  {
   "cell_type": "code",
   "execution_count": 9,
   "metadata": {},
   "outputs": [],
   "source": [
    "import numpy as np"
   ]
  },
  {
   "cell_type": "markdown",
   "metadata": {},
   "source": [
    "Note that we convert both the training and validation sets into NumPy arrays.\n",
    "\n",
    "**Warning**: This may take a few minutes."
   ]
  },
  {
   "cell_type": "code",
   "execution_count": 10,
   "metadata": {},
   "outputs": [
    {
     "data": {
      "text/plain": [
       "((47780, 194), (47780,), 194)"
      ]
     },
     "execution_count": 10,
     "metadata": {},
     "output_type": "execute_result"
    }
   ],
   "source": [
    "feature_matrix_train, sentiment_train = get_numpy_data(train_data, important_words, 'sentiment')\n",
    "feature_matrix_valid, sentiment_valid = get_numpy_data(validation_data, important_words, 'sentiment') \n",
    "\n",
    "N_FEATURES = feature_matrix_train.shape[1]\n",
    "feature_matrix_train.shape, sentiment_train.shape, N_FEATURES"
   ]
  },
  {
   "cell_type": "code",
   "execution_count": 11,
   "metadata": {},
   "outputs": [
    {
     "data": {
      "text/plain": [
       "((5292, 194), (5292,))"
      ]
     },
     "execution_count": 11,
     "metadata": {},
     "output_type": "execute_result"
    }
   ],
   "source": [
    "feature_matrix_valid.shape, sentiment_valid.shape"
   ]
  },
  {
   "cell_type": "markdown",
   "metadata": {},
   "source": [
    "**Are you running this notebook on an Amazon EC2 t2.micro instance?** (If you are using your own machine, please skip this section)\n",
    "\n",
    "It has been reported that t2.micro instances do not provide sufficient power to complete the conversion in acceptable amount of time. For interest of time, please refrain from running `get_numpy_data` function. Instead, download the [binary file](https://s3.amazonaws.com/static.dato.com/files/coursera/course-3/numpy-arrays/module-10-assignment-numpy-arrays.npz) containing the four NumPy arrays you'll need for the assignment. To load the arrays, run the following commands:\n",
    "```\n",
    "arrays = np.load('module-10-assignment-numpy-arrays.npz')\n",
    "feature_matrix_train, sentiment_train = arrays['feature_matrix_train'], arrays['sentiment_train']\n",
    "feature_matrix_valid, sentiment_valid = arrays['feature_matrix_valid'], arrays['sentiment_valid']\n",
    "```"
   ]
  },
  {
   "cell_type": "markdown",
   "metadata": {},
   "source": [
    "**Quiz Question**: In Module 3 assignment, there were 194 features (an intercept + one feature for each of the 193 important words). <br />\n",
    "In this assignment, we will use stochastic gradient ascent to train the classifier using logistic regression. How does the changing of the solver to stochastic gradient ascent affect the number of features?\n",
    "  \n",
    "  - [ ] Increases\n",
    "  - [ ] Decreases\n",
    "  - [x] Stays the same"
   ]
  },
  {
   "cell_type": "markdown",
   "metadata": {},
   "source": [
    "## Building on logistic regression\n",
    "\n",
    "Let us now build on Module 3 assignment. Recall from lecture that the link function for logistic regression can be defined as:\n",
    "\n",
    "$$\n",
    "P(y_i = +1 | \\mathbf{x}_i,\\mathbf{w}) = \\frac{1}{1 + \\exp(-\\mathbf{w}^T h(\\mathbf{x}_i))},\n",
    "$$\n",
    "\n",
    "where the feature vector $h(\\mathbf{x}_i)$ is given by the word counts of **important_words** in the review $\\mathbf{x}_i$. \n",
    "\n",
    "\n",
    "We will use the **same code** as in Module 3 assignment to make probability predictions, since this part is not affected by using stochastic gradient ascent as a solver. Only the way in which the coefficients are learned is affected by using stochastic gradient ascent as a solver."
   ]
  },
  {
   "cell_type": "code",
   "execution_count": 12,
   "metadata": {},
   "outputs": [],
   "source": [
    "'''\n",
    "produces probablistic estimate for P(y_i = +1 | x_i, w).\n",
    "estimate ranges between 0 and 1.\n",
    "'''\n",
    "def predict_probability(feature_matrix, coeffs):\n",
    "    score = np.dot(feature_matrix, coeffs)    ## Take dot product of feature_matrix and coefficients  \n",
    "    return 1. / (1. + np.exp(-score))         ## Compute P(y_i = +1 | x_i, w) using the link function"
   ]
  },
  {
   "cell_type": "markdown",
   "metadata": {},
   "source": [
    "## Derivative of log likelihood with respect to a single coefficient\n",
    "\n",
    "Let us now work on making minor changes to how the derivative computation is performed for logistic regression.\n",
    "\n",
    "Recall from the lectures and Module 3 assignment that for logistic regression, **the derivative of log likelihood with respect to a single coefficient** is as follows:\n",
    "\n",
    "$$\n",
    "\\frac{\\partial\\ell}{\\partial w_j} = \\sum_{i=1}^N h_j(\\mathbf{x}_i)\\left(\\mathbf{1}[y_i = +1] - P(y_i = +1 | \\mathbf{x}_i, \\mathbf{w})\\right)\n",
    "$$\n",
    "\n",
    "In Module 3 assignment, we wrote a function to compute the derivative of log likelihood with respect to a single coefficient $w_j$. The function accepts the following two parameters:\n",
    " * `errors` vector containing $(\\mathbf{1}[y_i = +1] - P(y_i = +1 | \\mathbf{x}_i, \\mathbf{w}))$ for all $i$\n",
    " * `feature` vector containing $h_j(\\mathbf{x}_i)$  for all $i$\n",
    " \n",
    "Complete the following code block:"
   ]
  },
  {
   "cell_type": "code",
   "execution_count": 13,
   "metadata": {},
   "outputs": [],
   "source": [
    "def feature_derivative(errors, features): \n",
    "  return np.dot(errors, features)"
   ]
  },
  {
   "cell_type": "markdown",
   "metadata": {},
   "source": [
    "**Note**. We are not using regularization in this assignment, but, as discussed in the optional video, stochastic gradient can also be used for regularized logistic regression."
   ]
  },
  {
   "cell_type": "markdown",
   "metadata": {},
   "source": [
    "To verify the correctness of the gradient computation, we provide a function for computing average log likelihood (which we recall from the last assignment was a topic detailed in an advanced optional video, and used here for its numerical stability).\n",
    "\n",
    "To track the performance of stochastic gradient ascent, we provide a function for computing **average log likelihood**. \n",
    "\n",
    "$$\\ell\\ell_A(\\mathbf{w}) = \\color{red}{\\frac{1}{N}} \\sum_{i=1}^N \\Big( (\\mathbf{1}[y_i = +1] - 1)\\mathbf{w}^T h(\\mathbf{x}_i) - \\ln\\left(1 + \\exp(-\\mathbf{w}^T h(\\mathbf{x}_i))\\right) \\Big) $$\n",
    "\n",
    "**Note** that we made one tiny modification to the log likelihood function (called **compute_log_likelihood**) in our earlier assignments. We added a $\\color{red}{1/N}$ term which averages the log likelihood accross all data points. The $\\color{red}{1/N}$ term makes it easier for us to compare stochastic gradient ascent with batch gradient ascent. We will use this function to generate plots that are similar to those you saw in the lecture."
   ]
  },
  {
   "cell_type": "code",
   "execution_count": 14,
   "metadata": {},
   "outputs": [],
   "source": [
    "def compute_avg_log_likelihood(feature_matrix, sentiment, coefficients):\n",
    "    indic = (sentiment == +1)\n",
    "    scores = np.dot(feature_matrix, coefficients)\n",
    "    logexp = np.log(1. + np.exp(-scores))\n",
    "    \n",
    "    # Simple check to prevent overflow\n",
    "    mask = np.isinf(logexp)\n",
    "    logexp[mask] = -scores[mask]\n",
    "    \n",
    "    return np.sum((indic - 1) * scores - logexp) / len(feature_matrix)"
   ]
  },
  {
   "cell_type": "markdown",
   "metadata": {},
   "source": [
    "**Quiz Question:** Recall from the lecture and the earlier assignment, the log likelihood (without the averaging term) is given by \n",
    "\n",
    "$$\\ell\\ell(\\mathbf{w}) = \\sum_{i=1}^N \\Big( (\\mathbf{1}[y_i = +1] - 1)\\mathbf{w}^T h(\\mathbf{x}_i) - \\ln\\left(1 + \\exp(-\\mathbf{w}^T h(\\mathbf{x}_i))\\right) \\Big) $$\n",
    "\n",
    "How are the functions $\\ell\\ell(\\mathbf{w})$ and $\\ell\\ell_A(\\mathbf{w})$ related?\n",
    "  - $\\ell\\ell_A(\\mathbf{w}) = \\frac{1}{N} \\times \\ell\\ell(\\mathbf{w})$"
   ]
  },
  {
   "cell_type": "markdown",
   "metadata": {},
   "source": [
    "## Modifying the derivative for stochastic gradient ascent\n",
    "\n",
    "Recall from the lecture that the gradient for a single data point $\\color{red}{\\mathbf{x}_i}$ can be computed using the following formula:\n",
    "\n",
    "$$\n",
    "\\frac{\\partial\\ell_{\\color{red}{i}}(\\mathbf{w})}{\\partial w_j} = h_j(\\color{red}{\\mathbf{x}_i})\\left(\\mathbf{1}[y_\\color{red}{i} = +1] - P(y_\\color{red}{i} = +1 | \\color{red}{\\mathbf{x}_i}, \\mathbf{w})\\right)\n",
    "$$\n",
    "\n",
    "\n",
    "**Computing the gradient for a single data point**\n",
    "\n",
    "Do we really need to re-write all our code to modify $\\partial\\ell(\\mathbf{w})/\\partial w_j$ to $\\partial\\ell_{\\color{red}{i}}(\\mathbf{w})/{\\partial w_j}$? \n",
    "\n",
    "\n",
    "Thankfully **No!**. Using NumPy, we access $\\mathbf{x}_i$ in the training data using `feature_matrix_train[i:i+1,:]`\n",
    "and $y_i$ in the training data using `sentiment_train[i:i+1]`. We can compute $\\partial\\ell_{\\color{red}{i}}(\\mathbf{w})/\\partial w_j$ by re-using **all the code** written in **feature_derivative** and **predict_probability**.\n",
    "\n",
    "\n",
    "We compute $\\partial\\ell_{\\color{red}{i}}(\\mathbf{w})/\\partial w_j$ using the following steps:\n",
    "* First, compute $P(y_i = +1 | \\mathbf{x}_i, \\mathbf{w})$ using the **predict_probability** function with `feature_matrix_train[i:i+1,:]` as the first parameter.\n",
    "* Next, compute $\\mathbf{1}[y_i = +1]$ using `sentiment_train[i:i+1]`.\n",
    "* Finally, call the **feature_derivative** function with `feature_matrix_train[i:i+1, j]` as one of the parameters. \n",
    "\n",
    "Let us follow these steps for `j = 1` and `i = 10`:"
   ]
  },
  {
   "cell_type": "code",
   "execution_count": 15,
   "metadata": {},
   "outputs": [
    {
     "name": "stdout",
     "output_type": "stream",
     "text": [
      "Gradient single data point: 0.00\n"
     ]
    }
   ],
   "source": [
    "EPS = 1e-8\n",
    "j = 1                         # Feature number\n",
    "i = 10                        # Data point number\n",
    "coeffs = np.zeros(N_FEATURES) # A point w at which we are computing the gradient.\n",
    "\n",
    "preds = predict_probability(feature_matrix_train[i:i+1, :], coeffs)\n",
    "indic = (sentiment_train[i:i+1] == +1)\n",
    "\n",
    "errors = indic - preds        \n",
    "gradient_single_dp = feature_derivative(errors, feature_matrix_train[i:i+1,j])\n",
    "\n",
    "assert abs(gradient_single_dp) <= EPS\n",
    "print(f\"Gradient single data point: {gradient_single_dp:1.2f}\")"
   ]
  },
  {
   "cell_type": "code",
   "execution_count": 16,
   "metadata": {},
   "outputs": [
    {
     "data": {
      "text/plain": [
       "()"
      ]
     },
     "execution_count": 16,
     "metadata": {},
     "output_type": "execute_result"
    }
   ],
   "source": [
    "gradient_single_dp.shape # == scalar"
   ]
  },
  {
   "cell_type": "markdown",
   "metadata": {},
   "source": [
    "**Quiz Question:** The code block above computed $\\partial\\ell_{\\color{red}{i}}(\\mathbf{w})/{\\partial w_j}$ for `j = 1` and `i = 10`.  Is $\\partial\\ell_{\\color{red}{i}}(\\mathbf{w})/{\\partial w_j}$ a scalar or a 194-dimensional vector?\n",
    "  - scalar "
   ]
  },
  {
   "cell_type": "markdown",
   "metadata": {},
   "source": [
    "## Modifying the derivative for using a batch of data points\n",
    "\n",
    "Stochastic gradient estimates the ascent direction using 1 data point, while gradient uses $N$ data points to decide how to update the the parameters.  In an optional video, we discussed the details of a simple change that allows us to use a **mini-batch** of $B \\leq N$ data points to estimate the ascent direction. This simple approach is faster than regular gradient but less noisy than stochastic gradient that uses only 1 data point. Although we encorage you to watch the optional video on the topic to better understand why mini-batches help stochastic gradient, in this assignment, we will simply use this technique, since the approach is very simple and will improve your results.\n",
    "\n",
    "Given a mini-batch (or a set of data points) $\\mathbf{x}_{i}, \\mathbf{x}_{i+1} \\ldots \\mathbf{x}_{i+B}$, the gradient function for this mini-batch of data points is given by:\n",
    "$$\n",
    "\\color{red}{\\sum_{s = i}^{i+B}} \\frac{\\partial\\ell_{s}}{\\partial w_j} = \\color{red}{\\sum_{s = i}^{i + B}} h_j(\\mathbf{x}_s)\\left(\\mathbf{1}[y_s = +1] - P(y_s = +1 | \\mathbf{x}_s, \\mathbf{w})\\right)\n",
    "$$\n",
    "\n",
    "\n",
    "**Computing the gradient for a \"mini-batch\" of data points**\n",
    "\n",
    "Using NumPy, we access the points $\\mathbf{x}_i, \\mathbf{x}_{i+1} \\ldots \\mathbf{x}_{i+B}$ in the training data using `feature_matrix_train[i:i+B,:]`\n",
    "and $y_i$ in the training data using `sentiment_train[i:i+B]`. \n",
    "\n",
    "We can compute $\\color{red}{\\sum_{s = i}^{i+B}} \\partial\\ell_{s}/\\partial w_j$ easily as follows:"
   ]
  },
  {
   "cell_type": "code",
   "execution_count": 17,
   "metadata": {},
   "outputs": [
    {
     "name": "stdout",
     "output_type": "stream",
     "text": [
      "Gradient mini-batch data points: 1.00\n"
     ]
    }
   ],
   "source": [
    "j = 1                         # Feature number\n",
    "i = 10                        # Data point start\n",
    "B = 10                        # Mini-batch size\n",
    "coeffs = np.zeros(N_FEATURES) # A point w at which we are computing the gradient.\n",
    "\n",
    "preds = predict_probability(feature_matrix_train[i:i+B,:], coeffs)\n",
    "indic = (sentiment_train[i:i + B] == +1)\n",
    "\n",
    "errors = indic - preds\n",
    "gradient_mini_batch = feature_derivative(errors, feature_matrix_train[i:i+B,j])\n",
    "\n",
    "assert abs(gradient_mini_batch - 1.0) <= EPS\n",
    "print(f\"Gradient mini-batch data points: {gradient_mini_batch:1.2f}\")"
   ]
  },
  {
   "cell_type": "code",
   "execution_count": 18,
   "metadata": {},
   "outputs": [
    {
     "data": {
      "text/plain": [
       "()"
      ]
     },
     "execution_count": 18,
     "metadata": {},
     "output_type": "execute_result"
    }
   ],
   "source": [
    "gradient_mini_batch.shape   # == scalar"
   ]
  },
  {
   "cell_type": "code",
   "execution_count": 19,
   "metadata": {},
   "outputs": [
    {
     "data": {
      "text/plain": [
       "47780"
      ]
     },
     "execution_count": 19,
     "metadata": {},
     "output_type": "execute_result"
    }
   ],
   "source": [
    "len(feature_matrix_train)"
   ]
  },
  {
   "cell_type": "markdown",
   "metadata": {},
   "source": [
    "**Quiz Question:** The code block above computed \n",
    "$\\color{red}{\\sum_{s = i}^{i+B}}\\partial\\ell_{s}(\\mathbf{w})/{\\partial w_j}$ \n",
    "for `j = 10`, `i = 10`, and `B = 10`. Is this a scalar or a 194-dimensional vector?\n",
    "  - scalar\n",
    "\n",
    "**Quiz Question:** For what value of `B` is the term\n",
    "$\\color{red}{\\sum_{s = 1}^{B}}\\partial\\ell_{s}(\\mathbf{w})/\\partial w_j$\n",
    "the same as the full gradient $\\partial\\ell(\\mathbf{w})/{\\partial w_j}$? <br />\n",
    "Hint: consider the training set we are using now.\n",
    "  -  B = len(feature_matrix_train) == 47780"
   ]
  },
  {
   "cell_type": "markdown",
   "metadata": {},
   "source": [
    "### Averaging the gradient across a batch\n",
    "\n",
    "It is a common practice to normalize the gradient update rule by the batch size B:\n",
    "\n",
    "$$\n",
    "\\frac{\\partial\\ell_{\\color{red}{A}}(\\mathbf{w})}{\\partial w_j} \\approx \\color{red}{\\frac{1}{B}} {\\sum_{s = i}^{i + B}} h_j(\\mathbf{x}_s)\\left(\\mathbf{1}[y_s = +1] - P(y_s = +1 | \\mathbf{x}_s, \\mathbf{w})\\right)\n",
    "$$\n",
    "In other words, we update the coefficients using the **average gradient over data points** (instead of using a summation). By using the average gradient, we ensure that the magnitude of the gradient is approximately the same for all batch sizes. This way, we can more easily compare various batch sizes of stochastic gradient ascent (including a batch size of **all the data points**), and study the effect of batch size on the algorithm as well as the choice of step size.\n",
    "\n",
    "\n",
    "## Implementing stochastic gradient ascent\n",
    "\n",
    "Now we are ready to implement our own logistic regression with stochastic gradient ascent. Complete the following function to fit a logistic regression model using gradient ascent:"
   ]
  },
  {
   "cell_type": "code",
   "execution_count": 20,
   "metadata": {},
   "outputs": [],
   "source": [
    "def shuffle_data(feature_matrix, sentiment, seed=np.random.seed(seed=1)):  \n",
    "    \"Set specific seed to produce consistent results\"\n",
    "    N = len(feature_matrix)\n",
    "    perm = np.random.permutation(N)                   # Shuffle the data before starting\n",
    "    feature_matrix = feature_matrix[perm, :]\n",
    "    sentiment = sentiment[perm]\n",
    "    return feature_matrix, sentiment"
   ]
  },
  {
   "cell_type": "code",
   "execution_count": 21,
   "metadata": {},
   "outputs": [],
   "source": [
    "from math import sqrt\n",
    "\n",
    "def logistic_regression_SG(feature_matrix, sentiment, init_coeffs, step_size, batch_sz, max_iter):\n",
    "    log_likelihood_all = []\n",
    "    coeffs = np.array(init_coeffs)                    # Make sure it's a numpy array\n",
    "    N = len(feature_matrix)\n",
    "    feature_matrix, sentiment = shuffle_data(feature_matrix, sentiment)\n",
    "    ix = 0                                            # index of current batch\n",
    "    for itr in range(max_iter):                       # Shuffle the data before starting\n",
    "        n_ix = ix + batch_sz\n",
    "        \n",
    "        # Predict P(y_i = +1|x_i,w) using your predict_probability() function\n",
    "        # slice the ix-th row of feature_matrix with [ix:n_ix,:]\n",
    "        preds = predict_probability(feature_matrix[ix:n_ix, :], coeffs)\n",
    "        \n",
    "        indic = (sentiment[ix:n_ix] == +1)            # Compute indicator value for (y_i = +1), slice i-th entry with [ix:n_ix]\n",
    "        errors = indic - preds                        # Compute the errors as indicator - predictions\n",
    "        for jx in range(len(coeffs)):                 # Loop over each coefficient\n",
    "            # Recall that feature_matrix[:, jx] is the feature column associated with coeffs[jx]\n",
    "            # Compute derivative for coeffs[jx], slice the ix-th row of feature_matrix with [ix:n_ix, jx]\n",
    "            derivative = feature_derivative(errors, feature_matrix[ix:n_ix, jx])\n",
    "            \n",
    "            # Calc: step size × derivative, and the norm.constant: (1. / batch_sz)\n",
    "            coeffs[jx] +=  (1. / batch_sz) * step_size * derivative \n",
    "        \n",
    "        # Checking whether log likelihood is increasing\n",
    "        # Print the log likelihood over the *current batch*\n",
    "        lp = compute_avg_log_likelihood(feature_matrix[ix:n_ix, :], \n",
    "                                        sentiment[ix:n_ix], coeffs)\n",
    "        log_likelihood_all.append(lp)\n",
    "        if itr <= 15 or (itr <= 1000 and itr % 100 == 0) or (itr <= 10000 and itr % 1000 == 0) \\\n",
    "         or itr % 10000 == 0 or itr == max_iter-1:\n",
    "            data_sz = len(feature_matrix)\n",
    "            print('Iteration %*d: Average log likelihood (of data points in batch [%0*d:%0*d]) = %.8f' % \\\n",
    "                (int(np.ceil(np.log10(max_iter))), itr, \\\n",
    "                 int(np.ceil(np.log10(data_sz))), ix, \\\n",
    "                 int(np.ceil(np.log10(data_sz))), n_ix, lp))\n",
    "        \n",
    "        ix += batch_sz                                # if we made a complete pass over data, shuffle and restart\n",
    "        if ix + batch_sz > N:\n",
    "            feature_matrix, sentiment = shuffle_data(feature_matrix, sentiment)\n",
    "            ix = 0\n",
    "                \n",
    "    # We return the list of log likelihoods for plotting purposes.\n",
    "    return coeffs, log_likelihood_all"
   ]
  },
  {
   "cell_type": "markdown",
   "metadata": {},
   "source": [
    "**Note**. In practice, the final set of coefficients is rarely used; it is better to use the average of the last K sets of coefficients instead, where K should be adjusted depending on how fast the log likelihood oscillates around the optimum."
   ]
  },
  {
   "cell_type": "markdown",
   "metadata": {},
   "source": [
    "### Checkpoint\n",
    "\n",
    "\n",
    "The following cell tests your stochastic gradient ascent function using a toy dataset consisting of two data points. If the test does not pass, make sure you are normalizing the gradient update rule correctly."
   ]
  },
  {
   "cell_type": "code",
   "execution_count": 22,
   "metadata": {
    "scrolled": true
   },
   "outputs": [
    {
     "name": "stdout",
     "output_type": "stream",
     "text": [
      "Iteration 0: Average log likelihood (of data points in batch [0:2]) = -0.33774513\n",
      "Iteration 1: Average log likelihood (of data points in batch [0:2]) = -0.23455309\n",
      "-------------------------------------------------------------------------------------\n",
      "Coefficients learned                 : [-0.09755757  0.68242552 -0.7799831 ]\n",
      "Average log likelihood per-iteration : [-0.33774513108142956, -0.2345530939410341]\n",
      "-------------------------------------------------------------------------------------\n",
      "Test passed!\n"
     ]
    }
   ],
   "source": [
    "sample_feature_matrix = np.array([[1., 2., -1.], [1., 0., 1.]])\n",
    "sample_sentiment = np.array([+1, -1])\n",
    "\n",
    "coeffs, log_likelihood = logistic_regression_SG(sample_feature_matrix, sample_sentiment, np.zeros(3),\n",
    "                                                step_size=1., batch_sz=2, max_iter=2)\n",
    "\n",
    "assert np.allclose(coeffs, np.array([-0.09755757,  0.68242552, -0.7799831]), atol=1e-3), \"Failure with the coefficients\"\n",
    "assert np.allclose(log_likelihood, np.array([-0.33774513108142956, -0.2345530939410341]), atol=1e-3), \"Failure with the log_likelihood\"\n",
    "\n",
    "print('-------------------------------------------------------------------------------------')\n",
    "print('Coefficients learned                 :', coeffs)\n",
    "print('Average log likelihood per-iteration :', log_likelihood)\n",
    "print('-------------------------------------------------------------------------------------')\n",
    "print('Test passed!')"
   ]
  },
  {
   "cell_type": "markdown",
   "metadata": {},
   "source": [
    "## Compare convergence behavior of stochastic gradient ascent\n",
    "\n",
    "For the remainder of the assignment, we will compare stochastic gradient ascent against batch gradient ascent. For this, we need a reference implementation of batch gradient ascent. But do we need to implement this from scratch?\n",
    "\n",
    "**Quiz Question:** For what value of batch size `B` above is the stochastic gradient ascent function **logistic_regression_SG** act as a standard gradient ascent algorithm? Hint: consider the training set we are using now."
   ]
  },
  {
   "cell_type": "markdown",
   "metadata": {},
   "source": [
    "## Running gradient ascent using the stochastic gradient ascent implementation"
   ]
  },
  {
   "cell_type": "markdown",
   "metadata": {},
   "source": [
    "Instead of implementing batch gradient ascent separately, we save time by re-using the stochastic gradient ascent function we just wrote &mdash; **to perform gradient ascent**, it suffices to set **`batch_size`** to the number of data points in the training data. Yes, we did answer above the quiz question for you, but that is an important point to remember in the future :)\n",
    "\n",
    "**Small Caveat**. The batch gradient ascent implementation here is slightly different than the one in the earlier assignments, as we now normalize the gradient update rule.\n",
    "\n",
    "We now **run stochastic gradient ascent** over the **feature_matrix_train** for 10 iterations using:\n",
    "* `initial_coefficients = np.zeros(194)`\n",
    "* `step_size = 5e-1`\n",
    "* `batch_size = 1`\n",
    "* `max_iter = 10`"
   ]
  },
  {
   "cell_type": "code",
   "execution_count": 23,
   "metadata": {},
   "outputs": [
    {
     "name": "stdout",
     "output_type": "stream",
     "text": [
      "Iteration 0: Average log likelihood (of data points in batch [00000:00001]) = -0.00861448\n",
      "Iteration 1: Average log likelihood (of data points in batch [00001:00002]) = -0.01127332\n",
      "Iteration 2: Average log likelihood (of data points in batch [00002:00003]) = -0.00240655\n",
      "Iteration 3: Average log likelihood (of data points in batch [00003:00004]) = -0.00593943\n",
      "Iteration 4: Average log likelihood (of data points in batch [00004:00005]) = -0.26579199\n",
      "Iteration 5: Average log likelihood (of data points in batch [00005:00006]) = -0.04335070\n",
      "Iteration 6: Average log likelihood (of data points in batch [00006:00007]) = -0.06808575\n",
      "Iteration 7: Average log likelihood (of data points in batch [00007:00008]) = -0.00125841\n",
      "Iteration 8: Average log likelihood (of data points in batch [00008:00009]) = -0.05121142\n",
      "Iteration 9: Average log likelihood (of data points in batch [00009:00010]) = -0.00972928\n"
     ]
    }
   ],
   "source": [
    "coeffs, log_likelihood = logistic_regression_SG(feature_matrix_train, sentiment_train, init_coeffs=np.zeros(N_FEATURES),\n",
    "                                                step_size=5e-1, batch_sz=1, max_iter=10)"
   ]
  },
  {
   "cell_type": "markdown",
   "metadata": {},
   "source": [
    "**Quiz Question**. When you set `batch_size = 1`, as each iteration passes, how does the average log likelihood in the batch change?\n",
    "  - [ ] Increases\n",
    "  - [ ] Decreases\n",
    "  - [x] Fluctuates "
   ]
  },
  {
   "cell_type": "markdown",
   "metadata": {},
   "source": [
    "Now run **batch gradient ascent** over the **feature_matrix_train** for 200 iterations using:\n",
    "* `initial_coefficients = np.zeros(194)`\n",
    "* `step_size = 5e-1`\n",
    "* `batch_size = len(feature_matrix_train)`\n",
    "* `max_iter = 200`"
   ]
  },
  {
   "cell_type": "code",
   "execution_count": 24,
   "metadata": {},
   "outputs": [
    {
     "name": "stdout",
     "output_type": "stream",
     "text": [
      "Iteration   0: Average log likelihood (of data points in batch [00000:47780]) = -0.68308119\n",
      "Iteration   1: Average log likelihood (of data points in batch [00000:47780]) = -0.67394599\n",
      "Iteration   2: Average log likelihood (of data points in batch [00000:47780]) = -0.66555129\n",
      "Iteration   3: Average log likelihood (of data points in batch [00000:47780]) = -0.65779626\n",
      "Iteration   4: Average log likelihood (of data points in batch [00000:47780]) = -0.65060701\n",
      "Iteration   5: Average log likelihood (of data points in batch [00000:47780]) = -0.64392241\n",
      "Iteration   6: Average log likelihood (of data points in batch [00000:47780]) = -0.63769009\n",
      "Iteration   7: Average log likelihood (of data points in batch [00000:47780]) = -0.63186462\n",
      "Iteration   8: Average log likelihood (of data points in batch [00000:47780]) = -0.62640636\n",
      "Iteration   9: Average log likelihood (of data points in batch [00000:47780]) = -0.62128063\n",
      "Iteration  10: Average log likelihood (of data points in batch [00000:47780]) = -0.61645691\n",
      "Iteration  11: Average log likelihood (of data points in batch [00000:47780]) = -0.61190832\n",
      "Iteration  12: Average log likelihood (of data points in batch [00000:47780]) = -0.60761103\n",
      "Iteration  13: Average log likelihood (of data points in batch [00000:47780]) = -0.60354390\n",
      "Iteration  14: Average log likelihood (of data points in batch [00000:47780]) = -0.59968811\n",
      "Iteration  15: Average log likelihood (of data points in batch [00000:47780]) = -0.59602682\n",
      "Iteration 100: Average log likelihood (of data points in batch [00000:47780]) = -0.49520194\n",
      "Iteration 199: Average log likelihood (of data points in batch [00000:47780]) = -0.47126953\n"
     ]
    }
   ],
   "source": [
    "# YOUR CODE HERE\n",
    "coeffs_batch, log_likelihood_batch = logistic_regression_SG(feature_matrix_train, sentiment_train, init_coeffs=np.zeros(N_FEATURES),\n",
    "                                                            step_size=5e-1, batch_sz=len(feature_matrix_train), max_iter=200)"
   ]
  },
  {
   "cell_type": "markdown",
   "metadata": {},
   "source": [
    "**Quiz Question**. When you set `batch_size = len(feature_matrix_train)`, as each iteration passes, how does the average log likelihood in the batch change?\n",
    "  - [x] Increases \n",
    "  - [ ] Decreases\n",
    "  - [ ] Fluctuates "
   ]
  },
  {
   "cell_type": "markdown",
   "metadata": {},
   "source": [
    "## Make \"passes\" over the dataset"
   ]
  },
  {
   "cell_type": "markdown",
   "metadata": {},
   "source": [
    "To make a fair comparison betweeen stochastic gradient ascent and batch gradient ascent, we measure the average log likelihood as a function of the number of passes (defined as follows):\n",
    "$$\n",
    "[\\text{# of passes}] = \\frac{[\\text{# of data points touched so far}]}{[\\text{size of dataset}]}\n",
    "$$"
   ]
  },
  {
   "cell_type": "markdown",
   "metadata": {},
   "source": [
    "**Quiz Question** Suppose that we run stochastic gradient ascent with a batch size of 100. How many gradient updates are performed at the end of two passes over a dataset consisting of 50000 data points?"
   ]
  },
  {
   "cell_type": "code",
   "execution_count": 25,
   "metadata": {},
   "outputs": [
    {
     "data": {
      "text/plain": [
       "1000"
      ]
     },
     "execution_count": 25,
     "metadata": {},
     "output_type": "execute_result"
    }
   ],
   "source": [
    "# Answer:\n",
    "2 * 50_000 // 100"
   ]
  },
  {
   "cell_type": "markdown",
   "metadata": {},
   "source": [
    "## Log likelihood plots for stochastic gradient ascent"
   ]
  },
  {
   "cell_type": "markdown",
   "metadata": {},
   "source": [
    "With the terminology in mind, let us run stochastic gradient ascent for 10 passes. We will use\n",
    "* `step_size=1e-1`\n",
    "* `batch_size=100`\n",
    "* `initial_coefficients` to all zeros."
   ]
  },
  {
   "cell_type": "code",
   "execution_count": 26,
   "metadata": {
    "scrolled": true
   },
   "outputs": [
    {
     "name": "stdout",
     "output_type": "stream",
     "text": [
      "Iteration    0: Average log likelihood (of data points in batch [00000:00100]) = -0.68365608\n",
      "Iteration    1: Average log likelihood (of data points in batch [00100:00200]) = -0.68453940\n",
      "Iteration    2: Average log likelihood (of data points in batch [00200:00300]) = -0.68473737\n",
      "Iteration    3: Average log likelihood (of data points in batch [00300:00400]) = -0.68039516\n",
      "Iteration    4: Average log likelihood (of data points in batch [00400:00500]) = -0.67933924\n",
      "Iteration    5: Average log likelihood (of data points in batch [00500:00600]) = -0.67027636\n",
      "Iteration    6: Average log likelihood (of data points in batch [00600:00700]) = -0.66559409\n",
      "Iteration    7: Average log likelihood (of data points in batch [00700:00800]) = -0.65610500\n",
      "Iteration    8: Average log likelihood (of data points in batch [00800:00900]) = -0.67408112\n",
      "Iteration    9: Average log likelihood (of data points in batch [00900:01000]) = -0.67743449\n",
      "Iteration   10: Average log likelihood (of data points in batch [01000:01100]) = -0.65957211\n",
      "Iteration   11: Average log likelihood (of data points in batch [01100:01200]) = -0.65441048\n",
      "Iteration   12: Average log likelihood (of data points in batch [01200:01300]) = -0.66614324\n",
      "Iteration   13: Average log likelihood (of data points in batch [01300:01400]) = -0.65576001\n",
      "Iteration   14: Average log likelihood (of data points in batch [01400:01500]) = -0.65810936\n",
      "Iteration   15: Average log likelihood (of data points in batch [01500:01600]) = -0.65551389\n",
      "Iteration  100: Average log likelihood (of data points in batch [10000:10100]) = -0.56303317\n",
      "Iteration  200: Average log likelihood (of data points in batch [20000:20100]) = -0.53286175\n",
      "Iteration  300: Average log likelihood (of data points in batch [30000:30100]) = -0.49401457\n",
      "Iteration  400: Average log likelihood (of data points in batch [40000:40100]) = -0.51563227\n",
      "Iteration  500: Average log likelihood (of data points in batch [02300:02400]) = -0.50400374\n",
      "Iteration  600: Average log likelihood (of data points in batch [12300:12400]) = -0.45836051\n",
      "Iteration  700: Average log likelihood (of data points in batch [22300:22400]) = -0.54081908\n",
      "Iteration  800: Average log likelihood (of data points in batch [32300:32400]) = -0.52748057\n",
      "Iteration  900: Average log likelihood (of data points in batch [42300:42400]) = -0.49830015\n",
      "Iteration 1000: Average log likelihood (of data points in batch [04600:04700]) = -0.46470008\n",
      "Iteration 2000: Average log likelihood (of data points in batch [09200:09300]) = -0.52750153\n",
      "Iteration 3000: Average log likelihood (of data points in batch [13800:13900]) = -0.50958130\n",
      "Iteration 4000: Average log likelihood (of data points in batch [18400:18500]) = -0.53523087\n",
      "Iteration 4777: Average log likelihood (of data points in batch [00700:00800]) = -0.52632107\n"
     ]
    }
   ],
   "source": [
    "step_size = 1e-1\n",
    "batch_size = 100\n",
    "num_passes = 10\n",
    "num_iterations = num_passes * len(feature_matrix_train) // batch_size\n",
    "\n",
    "coeffs_sgd, log_likelihood_sgd = logistic_regression_SG(feature_matrix_train, sentiment_train, init_coeffs=np.zeros(N_FEATURES),\n",
    "                                                        step_size=step_size, batch_sz=batch_size, max_iter=num_iterations)"
   ]
  },
  {
   "cell_type": "markdown",
   "metadata": {},
   "source": [
    "We provide you with a utility function to plot the average log likelihood as a function of the number of passes."
   ]
  },
  {
   "cell_type": "code",
   "execution_count": 27,
   "metadata": {},
   "outputs": [],
   "source": [
    "import matplotlib.pyplot as plt\n",
    "%matplotlib inline\n",
    "\n",
    "def make_plot(log_likelihood_all, len_data, batch_size, smoothing_window=1, label=''):\n",
    "    plt.rcParams.update({'figure.figsize': (9,5)})\n",
    "    log_likelihood_all_ma = np.convolve(np.array(log_likelihood_all), \\\n",
    "                                        np.ones((smoothing_window,))/smoothing_window, mode='valid')\n",
    "    plt.plot(np.array(range(smoothing_window-1, len(log_likelihood_all)))*float(batch_size)/len_data,\n",
    "             log_likelihood_all_ma, linewidth=4.0, label=label)\n",
    "    plt.rcParams.update({'font.size': 16})\n",
    "    plt.tight_layout()\n",
    "    plt.xlabel('# of passes over data')\n",
    "    plt.ylabel('Average log likelihood per data point')\n",
    "    plt.legend(loc='lower right', prop={'size':14})"
   ]
  },
  {
   "cell_type": "code",
   "execution_count": 28,
   "metadata": {},
   "outputs": [
    {
     "data": {
      "image/png": "[encoded data removed]",
      "text/plain": [
       "<Figure size 648x360 with 1 Axes>"
      ]
     },
     "metadata": {
      "needs_background": "light"
     },
     "output_type": "display_data"
    }
   ],
   "source": [
    "make_plot(log_likelihood_sgd, len_data=len(feature_matrix_train), batch_size=100,\n",
    "          label='stochastic gradient, step_size=1e-1')"
   ]
  },
  {
   "cell_type": "markdown",
   "metadata": {},
   "source": [
    "## Smoothing the stochastic gradient ascent curve\n",
    "\n",
    "The plotted line oscillates so much that it is hard to see whether the log likelihood is improving. In our plot, we apply a simple smoothing operation using the parameter `smoothing_window`. <br /> \n",
    "The smoothing is simply a [moving average](https://en.wikipedia.org/wiki/Moving_average) of log likelihood over the last `smoothing_window` \"iterations\" of  stochastic gradient ascent."
   ]
  },
  {
   "cell_type": "code",
   "execution_count": 29,
   "metadata": {},
   "outputs": [
    {
     "data": {
      "image/png": "[encoded data removed]",
      "text/plain": [
       "<Figure size 648x360 with 1 Axes>"
      ]
     },
     "metadata": {
      "needs_background": "light"
     },
     "output_type": "display_data"
    }
   ],
   "source": [
    "make_plot(log_likelihood_sgd, \n",
    "          len_data=len(feature_matrix_train), batch_size=100, \n",
    "          smoothing_window=30, label='stochastic gradient, step_size=1e-1')"
   ]
  },
  {
   "cell_type": "markdown",
   "metadata": {},
   "source": [
    "**Checkpoint**: The above plot should look smoother than the previous plot. Play around with `smoothing_window`. As you increase it, you should see a smoother plot."
   ]
  },
  {
   "cell_type": "markdown",
   "metadata": {},
   "source": [
    "## Stochastic gradient ascent vs batch gradient ascent\n",
    "\n",
    "To compare convergence rates for stochastic gradient ascent with batch gradient ascent, we call `make_plot()` multiple times in the same cell.\n",
    "\n",
    "We are comparing:\n",
    "* **stochastic gradient ascent**: `step_size = 0.1`, `batch_size=100`\n",
    "* **batch gradient ascent**: `step_size = 0.5`, `batch_size=len(feature_matrix_train)`\n",
    "\n",
    "Write code to run stochastic gradient ascent for 200 passes using:\n",
    "* `step_size=1e-1`\n",
    "* `batch_size=100`\n",
    "* `init_coeffs` to all zeros."
   ]
  },
  {
   "cell_type": "code",
   "execution_count": 30,
   "metadata": {
    "scrolled": true
   },
   "outputs": [
    {
     "name": "stdout",
     "output_type": "stream",
     "text": [
      "Iteration     0: Average log likelihood (of data points in batch [00000:00100]) = -0.68549867\n",
      "Iteration     1: Average log likelihood (of data points in batch [00100:00200]) = -0.68239473\n",
      "Iteration     2: Average log likelihood (of data points in batch [00200:00300]) = -0.68335241\n",
      "Iteration     3: Average log likelihood (of data points in batch [00300:00400]) = -0.67632432\n",
      "Iteration     4: Average log likelihood (of data points in batch [00400:00500]) = -0.67557795\n",
      "Iteration     5: Average log likelihood (of data points in batch [00500:00600]) = -0.67282041\n",
      "Iteration     6: Average log likelihood (of data points in batch [00600:00700]) = -0.67602310\n",
      "Iteration     7: Average log likelihood (of data points in batch [00700:00800]) = -0.66726949\n",
      "Iteration     8: Average log likelihood (of data points in batch [00800:00900]) = -0.66588396\n",
      "Iteration     9: Average log likelihood (of data points in batch [00900:01000]) = -0.66518318\n",
      "Iteration    10: Average log likelihood (of data points in batch [01000:01100]) = -0.67183954\n",
      "Iteration    11: Average log likelihood (of data points in batch [01100:01200]) = -0.64898577\n",
      "Iteration    12: Average log likelihood (of data points in batch [01200:01300]) = -0.66604988\n",
      "Iteration    13: Average log likelihood (of data points in batch [01300:01400]) = -0.64415517\n",
      "Iteration    14: Average log likelihood (of data points in batch [01400:01500]) = -0.65154066\n",
      "Iteration    15: Average log likelihood (of data points in batch [01500:01600]) = -0.65191007\n",
      "Iteration   100: Average log likelihood (of data points in batch [10000:10100]) = -0.55915117\n",
      "Iteration   200: Average log likelihood (of data points in batch [20000:20100]) = -0.55250078\n",
      "Iteration   300: Average log likelihood (of data points in batch [30000:30100]) = -0.55939085\n",
      "Iteration   400: Average log likelihood (of data points in batch [40000:40100]) = -0.48937059\n",
      "Iteration   500: Average log likelihood (of data points in batch [02300:02400]) = -0.52903085\n",
      "Iteration   600: Average log likelihood (of data points in batch [12300:12400]) = -0.44382260\n",
      "Iteration   700: Average log likelihood (of data points in batch [22300:22400]) = -0.51582446\n",
      "Iteration   800: Average log likelihood (of data points in batch [32300:32400]) = -0.43258717\n",
      "Iteration   900: Average log likelihood (of data points in batch [42300:42400]) = -0.49594014\n",
      "Iteration  1000: Average log likelihood (of data points in batch [04600:04700]) = -0.48080622\n",
      "Iteration  2000: Average log likelihood (of data points in batch [09200:09300]) = -0.49509493\n",
      "Iteration  3000: Average log likelihood (of data points in batch [13800:13900]) = -0.44006918\n",
      "Iteration  4000: Average log likelihood (of data points in batch [18400:18500]) = -0.36073063\n",
      "Iteration  5000: Average log likelihood (of data points in batch [23000:23100]) = -0.36713338\n",
      "Iteration  6000: Average log likelihood (of data points in batch [27600:27700]) = -0.42758441\n",
      "Iteration  7000: Average log likelihood (of data points in batch [32200:32300]) = -0.32185245\n",
      "Iteration  8000: Average log likelihood (of data points in batch [36800:36900]) = -0.54281565\n",
      "Iteration  9000: Average log likelihood (of data points in batch [41400:41500]) = -0.42941993\n",
      "Iteration 10000: Average log likelihood (of data points in batch [46000:46100]) = -0.38680913\n",
      "Iteration 20000: Average log likelihood (of data points in batch [44300:44400]) = -0.55444177\n",
      "Iteration 30000: Average log likelihood (of data points in batch [42600:42700]) = -0.37300418\n",
      "Iteration 40000: Average log likelihood (of data points in batch [40900:41000]) = -0.47904309\n",
      "Iteration 50000: Average log likelihood (of data points in batch [39200:39300]) = -0.37668373\n",
      "Iteration 60000: Average log likelihood (of data points in batch [37500:37600]) = -0.43237408\n",
      "Iteration 70000: Average log likelihood (of data points in batch [35800:35900]) = -0.35712053\n",
      "Iteration 80000: Average log likelihood (of data points in batch [34100:34200]) = -0.45517919\n",
      "Iteration 90000: Average log likelihood (of data points in batch [32400:32500]) = -0.33286850\n",
      "Iteration 95559: Average log likelihood (of data points in batch [15900:16000]) = -0.47149137\n"
     ]
    }
   ],
   "source": [
    "step_size = 1e-1\n",
    "batch_size = 100\n",
    "num_passes = 200\n",
    "num_iterations = num_passes * len(feature_matrix_train) // batch_size\n",
    "\n",
    "coeffs_sgd, log_likelihood_sgd = logistic_regression_SG(feature_matrix_train, sentiment_train, init_coeffs=np.zeros(N_FEATURES),\n",
    "                                                        step_size=step_size, batch_sz=batch_size, max_iter=num_iterations)"
   ]
  },
  {
   "cell_type": "markdown",
   "metadata": {},
   "source": [
    "We compare the convergence of stochastic gradient ascent and batch gradient ascent in the following cell. Note that we apply smoothing with `smoothing_window=30`."
   ]
  },
  {
   "cell_type": "code",
   "execution_count": 31,
   "metadata": {},
   "outputs": [
    {
     "data": {
      "image/png": "[encoded data removed]",
      "text/plain": [
       "<Figure size 648x360 with 1 Axes>"
      ]
     },
     "metadata": {
      "needs_background": "light"
     },
     "output_type": "display_data"
    }
   ],
   "source": [
    "make_plot(log_likelihood_sgd, len_data=len(feature_matrix_train), batch_size=100,\n",
    "          smoothing_window=30, label='stochastic, step_size=1e-1')\n",
    "\n",
    "make_plot(log_likelihood_batch, len_data=len(feature_matrix_train), batch_size=len(feature_matrix_train),\n",
    "          smoothing_window=1, label='batch, step_size=5e-1')"
   ]
  },
  {
   "cell_type": "markdown",
   "metadata": {},
   "source": [
    "**Quiz Question**: In the figure above, how many passes does batch gradient ascent need to achieve a similar log likelihood as stochastic gradient ascent? \n",
    "\n",
    "  1. [ ] It's always better\n",
    "  2. [ ] 10 passes\n",
    "  3. [ ] 20 passes\n",
    "  4. [x] 150 passes or more"
   ]
  },
  {
   "cell_type": "markdown",
   "metadata": {},
   "source": [
    "## Explore the effects of step sizes on stochastic gradient ascent"
   ]
  },
  {
   "cell_type": "markdown",
   "metadata": {},
   "source": [
    "In previous sections, we chose step sizes for you. In practice, it helps to know how to choose good step sizes yourself.\n",
    "\n",
    "To start, we explore a wide range of step sizes that are equally spaced in the log space. Run stochastic gradient ascent with `step_size` set to 1e-4, 1e-3, 1e-2, 1e-1, 1e0, 1e1, and 1e2. Use the following set of parameters:\n",
    "* `initial_coefficients=np.zeros(194)`\n",
    "* `batch_size=100`\n",
    "* `max_iter` initialized so as to run 10 passes over the data."
   ]
  },
  {
   "cell_type": "code",
   "execution_count": 32,
   "metadata": {
    "scrolled": true
   },
   "outputs": [
    {
     "name": "stdout",
     "output_type": "stream",
     "text": [
      "Iteration    0: Average log likelihood (of data points in batch [00000:00100]) = -0.69313902\n",
      "Iteration    1: Average log likelihood (of data points in batch [00100:00200]) = -0.69313730\n",
      "Iteration    2: Average log likelihood (of data points in batch [00200:00300]) = -0.69313467\n",
      "Iteration    3: Average log likelihood (of data points in batch [00300:00400]) = -0.69313435\n",
      "Iteration    4: Average log likelihood (of data points in batch [00400:00500]) = -0.69312990\n",
      "Iteration    5: Average log likelihood (of data points in batch [00500:00600]) = -0.69312662\n",
      "Iteration    6: Average log likelihood (of data points in batch [00600:00700]) = -0.69312294\n",
      "Iteration    7: Average log likelihood (of data points in batch [00700:00800]) = -0.69312483\n",
      "Iteration    8: Average log likelihood (of data points in batch [00800:00900]) = -0.69312410\n",
      "Iteration    9: Average log likelihood (of data points in batch [00900:01000]) = -0.69311623\n",
      "Iteration   10: Average log likelihood (of data points in batch [01000:01100]) = -0.69312030\n",
      "Iteration   11: Average log likelihood (of data points in batch [01100:01200]) = -0.69311804\n",
      "Iteration   12: Average log likelihood (of data points in batch [01200:01300]) = -0.69311919\n",
      "Iteration   13: Average log likelihood (of data points in batch [01300:01400]) = -0.69311863\n",
      "Iteration   14: Average log likelihood (of data points in batch [01400:01500]) = -0.69312032\n",
      "Iteration   15: Average log likelihood (of data points in batch [01500:01600]) = -0.69311786\n",
      "Iteration  100: Average log likelihood (of data points in batch [10000:10100]) = -0.69288166\n",
      "Iteration  200: Average log likelihood (of data points in batch [20000:20100]) = -0.69267756\n",
      "Iteration  300: Average log likelihood (of data points in batch [30000:30100]) = -0.69260593\n",
      "Iteration  400: Average log likelihood (of data points in batch [40000:40100]) = -0.69219669\n",
      "Iteration  500: Average log likelihood (of data points in batch [02300:02400]) = -0.69202696\n",
      "Iteration  600: Average log likelihood (of data points in batch [12300:12400]) = -0.69201885\n",
      "Iteration  700: Average log likelihood (of data points in batch [22300:22400]) = -0.69178013\n",
      "Iteration  800: Average log likelihood (of data points in batch [32300:32400]) = -0.69131551\n",
      "Iteration  900: Average log likelihood (of data points in batch [42300:42400]) = -0.69137509\n",
      "Iteration 1000: Average log likelihood (of data points in batch [04600:04700]) = -0.69045226\n",
      "Iteration 2000: Average log likelihood (of data points in batch [09200:09300]) = -0.68974126\n",
      "Iteration 3000: Average log likelihood (of data points in batch [13800:13900]) = -0.68716905\n",
      "Iteration 4000: Average log likelihood (of data points in batch [18400:18500]) = -0.68725197\n",
      "Iteration 4777: Average log likelihood (of data points in batch [00700:00800]) = -0.68339274\n",
      "Iteration    0: Average log likelihood (of data points in batch [00000:00100]) = -0.69300682\n",
      "Iteration    1: Average log likelihood (of data points in batch [00100:00200]) = -0.69306826\n",
      "Iteration    2: Average log likelihood (of data points in batch [00200:00300]) = -0.69298531\n",
      "Iteration    3: Average log likelihood (of data points in batch [00300:00400]) = -0.69305239\n",
      "Iteration    4: Average log likelihood (of data points in batch [00400:00500]) = -0.69301782\n",
      "Iteration    5: Average log likelihood (of data points in batch [00500:00600]) = -0.69299858\n",
      "Iteration    6: Average log likelihood (of data points in batch [00600:00700]) = -0.69288800\n",
      "Iteration    7: Average log likelihood (of data points in batch [00700:00800]) = -0.69287962\n",
      "Iteration    8: Average log likelihood (of data points in batch [00800:00900]) = -0.69297309\n",
      "Iteration    9: Average log likelihood (of data points in batch [00900:01000]) = -0.69292352\n",
      "Iteration   10: Average log likelihood (of data points in batch [01000:01100]) = -0.69286009\n",
      "Iteration   11: Average log likelihood (of data points in batch [01100:01200]) = -0.69281904\n",
      "Iteration   12: Average log likelihood (of data points in batch [01200:01300]) = -0.69277871\n",
      "Iteration   13: Average log likelihood (of data points in batch [01300:01400]) = -0.69279918\n",
      "Iteration   14: Average log likelihood (of data points in batch [01400:01500]) = -0.69280585\n",
      "Iteration   15: Average log likelihood (of data points in batch [01500:01600]) = -0.69265644\n",
      "Iteration  100: Average log likelihood (of data points in batch [10000:10100]) = -0.69138840\n",
      "Iteration  200: Average log likelihood (of data points in batch [20000:20100]) = -0.68996010\n",
      "Iteration  300: Average log likelihood (of data points in batch [30000:30100]) = -0.68669943\n",
      "Iteration  400: Average log likelihood (of data points in batch [40000:40100]) = -0.68442108\n",
      "Iteration  500: Average log likelihood (of data points in batch [02300:02400]) = -0.68372815\n",
      "Iteration  600: Average log likelihood (of data points in batch [12300:12400]) = -0.68090530\n",
      "Iteration  700: Average log likelihood (of data points in batch [22300:22400]) = -0.68022882\n",
      "Iteration  800: Average log likelihood (of data points in batch [32300:32400]) = -0.67456403\n",
      "Iteration  900: Average log likelihood (of data points in batch [42300:42400]) = -0.67472552\n",
      "Iteration 1000: Average log likelihood (of data points in batch [04600:04700]) = -0.67071368\n",
      "Iteration 2000: Average log likelihood (of data points in batch [09200:09300]) = -0.66428279\n",
      "Iteration 3000: Average log likelihood (of data points in batch [13800:13900]) = -0.63904241\n",
      "Iteration 4000: Average log likelihood (of data points in batch [18400:18500]) = -0.63534846\n",
      "Iteration 4777: Average log likelihood (of data points in batch [00700:00800]) = -0.64789621\n",
      "Iteration    0: Average log likelihood (of data points in batch [00000:00100]) = -0.69249053\n",
      "Iteration    1: Average log likelihood (of data points in batch [00100:00200]) = -0.69197365\n",
      "Iteration    2: Average log likelihood (of data points in batch [00200:00300]) = -0.69198229\n",
      "Iteration    3: Average log likelihood (of data points in batch [00300:00400]) = -0.69127725\n",
      "Iteration    4: Average log likelihood (of data points in batch [00400:00500]) = -0.69166965\n",
      "Iteration    5: Average log likelihood (of data points in batch [00500:00600]) = -0.69131878\n",
      "Iteration    6: Average log likelihood (of data points in batch [00600:00700]) = -0.69034148\n",
      "Iteration    7: Average log likelihood (of data points in batch [00700:00800]) = -0.69067157\n",
      "Iteration    8: Average log likelihood (of data points in batch [00800:00900]) = -0.69036006\n",
      "Iteration    9: Average log likelihood (of data points in batch [00900:01000]) = -0.68982502\n",
      "Iteration   10: Average log likelihood (of data points in batch [01000:01100]) = -0.69087186\n",
      "Iteration   11: Average log likelihood (of data points in batch [01100:01200]) = -0.69116375\n",
      "Iteration   12: Average log likelihood (of data points in batch [01200:01300]) = -0.68864573\n",
      "Iteration   13: Average log likelihood (of data points in batch [01300:01400]) = -0.68969522\n",
      "Iteration   14: Average log likelihood (of data points in batch [01400:01500]) = -0.68833220\n",
      "Iteration   15: Average log likelihood (of data points in batch [01500:01600]) = -0.68825330\n",
      "Iteration  100: Average log likelihood (of data points in batch [10000:10100]) = -0.66849362\n",
      "Iteration  200: Average log likelihood (of data points in batch [20000:20100]) = -0.65841381\n",
      "Iteration  300: Average log likelihood (of data points in batch [30000:30100]) = -0.63794277\n",
      "Iteration  400: Average log likelihood (of data points in batch [40000:40100]) = -0.62440283\n",
      "Iteration  500: Average log likelihood (of data points in batch [02300:02400]) = -0.61451169\n",
      "Iteration  600: Average log likelihood (of data points in batch [12300:12400]) = -0.61601050\n",
      "Iteration  700: Average log likelihood (of data points in batch [22300:22400]) = -0.60241293\n",
      "Iteration  800: Average log likelihood (of data points in batch [32300:32400]) = -0.58761024\n",
      "Iteration  900: Average log likelihood (of data points in batch [42300:42400]) = -0.60101349\n",
      "Iteration 1000: Average log likelihood (of data points in batch [04600:04700]) = -0.59450322\n",
      "Iteration 2000: Average log likelihood (of data points in batch [09200:09300]) = -0.56012065\n",
      "Iteration 3000: Average log likelihood (of data points in batch [13800:13900]) = -0.56683135\n",
      "Iteration 4000: Average log likelihood (of data points in batch [18400:18500]) = -0.51352328\n"
     ]
    },
    {
     "name": "stdout",
     "output_type": "stream",
     "text": [
      "Iteration 4777: Average log likelihood (of data points in batch [00700:00800]) = -0.53853263\n",
      "Iteration    0: Average log likelihood (of data points in batch [00000:00100]) = -0.68638422\n",
      "Iteration    1: Average log likelihood (of data points in batch [00100:00200]) = -0.68117867\n",
      "Iteration    2: Average log likelihood (of data points in batch [00200:00300]) = -0.68261469\n",
      "Iteration    3: Average log likelihood (of data points in batch [00300:00400]) = -0.68225870\n",
      "Iteration    4: Average log likelihood (of data points in batch [00400:00500]) = -0.67716176\n",
      "Iteration    5: Average log likelihood (of data points in batch [00500:00600]) = -0.67602594\n",
      "Iteration    6: Average log likelihood (of data points in batch [00600:00700]) = -0.67489208\n",
      "Iteration    7: Average log likelihood (of data points in batch [00700:00800]) = -0.67611209\n",
      "Iteration    8: Average log likelihood (of data points in batch [00800:00900]) = -0.67639572\n",
      "Iteration    9: Average log likelihood (of data points in batch [00900:01000]) = -0.67328056\n",
      "Iteration   10: Average log likelihood (of data points in batch [01000:01100]) = -0.67045778\n",
      "Iteration   11: Average log likelihood (of data points in batch [01100:01200]) = -0.66923219\n",
      "Iteration   12: Average log likelihood (of data points in batch [01200:01300]) = -0.66254239\n",
      "Iteration   13: Average log likelihood (of data points in batch [01300:01400]) = -0.65974007\n",
      "Iteration   14: Average log likelihood (of data points in batch [01400:01500]) = -0.66756768\n",
      "Iteration   15: Average log likelihood (of data points in batch [01500:01600]) = -0.65918935\n",
      "Iteration  100: Average log likelihood (of data points in batch [10000:10100]) = -0.56033159\n",
      "Iteration  200: Average log likelihood (of data points in batch [20000:20100]) = -0.56301074\n",
      "Iteration  300: Average log likelihood (of data points in batch [30000:30100]) = -0.55934628\n",
      "Iteration  400: Average log likelihood (of data points in batch [40000:40100]) = -0.52692236\n",
      "Iteration  500: Average log likelihood (of data points in batch [02300:02400]) = -0.47535618\n",
      "Iteration  600: Average log likelihood (of data points in batch [12300:12400]) = -0.54170864\n",
      "Iteration  700: Average log likelihood (of data points in batch [22300:22400]) = -0.53354375\n",
      "Iteration  800: Average log likelihood (of data points in batch [32300:32400]) = -0.45756544\n",
      "Iteration  900: Average log likelihood (of data points in batch [42300:42400]) = -0.50964197\n",
      "Iteration 1000: Average log likelihood (of data points in batch [04600:04700]) = -0.44535071\n",
      "Iteration 2000: Average log likelihood (of data points in batch [09200:09300]) = -0.43763909\n",
      "Iteration 3000: Average log likelihood (of data points in batch [13800:13900]) = -0.43831443\n",
      "Iteration 4000: Average log likelihood (of data points in batch [18400:18500]) = -0.42994998\n",
      "Iteration 4777: Average log likelihood (of data points in batch [00700:00800]) = -0.45080481\n",
      "Iteration    0: Average log likelihood (of data points in batch [00000:00100]) = -0.63646460\n",
      "Iteration    1: Average log likelihood (of data points in batch [00100:00200]) = -0.62610041\n",
      "Iteration    2: Average log likelihood (of data points in batch [00200:00300]) = -0.60386242\n",
      "Iteration    3: Average log likelihood (of data points in batch [00300:00400]) = -0.59343390\n",
      "Iteration    4: Average log likelihood (of data points in batch [00400:00500]) = -0.57987581\n",
      "Iteration    5: Average log likelihood (of data points in batch [00500:00600]) = -0.57793113\n",
      "Iteration    6: Average log likelihood (of data points in batch [00600:00700]) = -0.59461679\n",
      "Iteration    7: Average log likelihood (of data points in batch [00700:00800]) = -0.52735286\n",
      "Iteration    8: Average log likelihood (of data points in batch [00800:00900]) = -0.58925107\n",
      "Iteration    9: Average log likelihood (of data points in batch [00900:01000]) = -0.55442194\n",
      "Iteration   10: Average log likelihood (of data points in batch [01000:01100]) = -0.54214433\n",
      "Iteration   11: Average log likelihood (of data points in batch [01100:01200]) = -0.52876823\n",
      "Iteration   12: Average log likelihood (of data points in batch [01200:01300]) = -0.51974084\n",
      "Iteration   13: Average log likelihood (of data points in batch [01300:01400]) = -0.48178684\n",
      "Iteration   14: Average log likelihood (of data points in batch [01400:01500]) = -0.53778307\n",
      "Iteration   15: Average log likelihood (of data points in batch [01500:01600]) = -0.55563171\n",
      "Iteration  100: Average log likelihood (of data points in batch [10000:10100]) = -0.51128560\n",
      "Iteration  200: Average log likelihood (of data points in batch [20000:20100]) = -0.43535091\n",
      "Iteration  300: Average log likelihood (of data points in batch [30000:30100]) = -0.45741999\n",
      "Iteration  400: Average log likelihood (of data points in batch [40000:40100]) = -0.42763293\n",
      "Iteration  500: Average log likelihood (of data points in batch [02300:02400]) = -0.40247238\n",
      "Iteration  600: Average log likelihood (of data points in batch [12300:12400]) = -0.44489738\n",
      "Iteration  700: Average log likelihood (of data points in batch [22300:22400]) = -0.47673146\n",
      "Iteration  800: Average log likelihood (of data points in batch [32300:32400]) = -0.41829003\n",
      "Iteration  900: Average log likelihood (of data points in batch [42300:42400]) = -0.44023655\n",
      "Iteration 1000: Average log likelihood (of data points in batch [04600:04700]) = -0.41704137\n",
      "Iteration 2000: Average log likelihood (of data points in batch [09200:09300]) = -0.37339946\n",
      "Iteration 3000: Average log likelihood (of data points in batch [13800:13900]) = -0.36502589\n",
      "Iteration 4000: Average log likelihood (of data points in batch [18400:18500]) = -0.37577937\n",
      "Iteration 4777: Average log likelihood (of data points in batch [00700:00800]) = -0.36935611\n",
      "Iteration    0: Average log likelihood (of data points in batch [00000:00100]) = -0.34794099\n",
      "Iteration    1: Average log likelihood (of data points in batch [00100:00200]) = -0.41466873\n",
      "Iteration    2: Average log likelihood (of data points in batch [00200:00300]) = -0.78742441\n",
      "Iteration    3: Average log likelihood (of data points in batch [00300:00400]) = -2.89135319\n",
      "Iteration    4: Average log likelihood (of data points in batch [00400:00500]) = -2.14295606\n",
      "Iteration    5: Average log likelihood (of data points in batch [00500:00600]) = -1.42818304\n",
      "Iteration    6: Average log likelihood (of data points in batch [00600:00700]) = -2.21703710\n",
      "Iteration    7: Average log likelihood (of data points in batch [00700:00800]) = -2.33834865\n",
      "Iteration    8: Average log likelihood (of data points in batch [00800:00900]) = -1.38618005\n",
      "Iteration    9: Average log likelihood (of data points in batch [00900:01000]) = -1.57110237\n",
      "Iteration   10: Average log likelihood (of data points in batch [01000:01100]) = -1.50267345\n",
      "Iteration   11: Average log likelihood (of data points in batch [01100:01200]) = -2.92865200\n",
      "Iteration   12: Average log likelihood (of data points in batch [01200:01300]) = -2.10575711\n",
      "Iteration   13: Average log likelihood (of data points in batch [01300:01400]) = -1.36854746\n",
      "Iteration   14: Average log likelihood (of data points in batch [01400:01500]) = -1.83402660\n",
      "Iteration   15: Average log likelihood (of data points in batch [01500:01600]) = -1.83925372\n",
      "Iteration  100: Average log likelihood (of data points in batch [10000:10100]) = -0.63886190\n",
      "Iteration  200: Average log likelihood (of data points in batch [20000:20100]) = -0.34645001\n",
      "Iteration  300: Average log likelihood (of data points in batch [30000:30100]) = -0.54933313\n",
      "Iteration  400: Average log likelihood (of data points in batch [40000:40100]) = -0.60031454\n",
      "Iteration  500: Average log likelihood (of data points in batch [02300:02400]) = -0.32260052\n",
      "Iteration  600: Average log likelihood (of data points in batch [12300:12400]) = -0.75688892\n",
      "Iteration  700: Average log likelihood (of data points in batch [22300:22400]) = -1.03493047\n",
      "Iteration  800: Average log likelihood (of data points in batch [32300:32400]) = -0.49557807\n",
      "Iteration  900: Average log likelihood (of data points in batch [42300:42400]) = -1.32030753\n",
      "Iteration 1000: Average log likelihood (of data points in batch [04600:04700]) = -0.31624033\n",
      "Iteration 2000: Average log likelihood (of data points in batch [09200:09300]) = -0.84264467\n",
      "Iteration 3000: Average log likelihood (of data points in batch [13800:13900]) = -0.44349125\n"
     ]
    },
    {
     "name": "stdout",
     "output_type": "stream",
     "text": [
      "Iteration 4000: Average log likelihood (of data points in batch [18400:18500]) = -1.03378048\n",
      "Iteration 4777: Average log likelihood (of data points in batch [00700:00800]) = -0.43043203\n",
      "Iteration    0: Average log likelihood (of data points in batch [00000:00100]) = -2.53257856\n",
      "Iteration    1: Average log likelihood (of data points in batch [00100:00200]) = -41.60992155\n",
      "Iteration    2: Average log likelihood (of data points in batch [00200:00300]) = -9.08622568\n",
      "Iteration    3: Average log likelihood (of data points in batch [00300:00400]) = -37.55401641\n",
      "Iteration    4: Average log likelihood (of data points in batch [00400:00500]) = -14.32946771\n",
      "Iteration    5: Average log likelihood (of data points in batch [00500:00600]) = -15.01935796\n",
      "Iteration    6: Average log likelihood (of data points in batch [00600:00700]) = -31.60222663\n",
      "Iteration    7: Average log likelihood (of data points in batch [00700:00800]) = -24.03820451\n",
      "Iteration    8: Average log likelihood (of data points in batch [00800:00900]) = -22.09632659\n",
      "Iteration    9: Average log likelihood (of data points in batch [00900:01000]) = -21.14875790\n",
      "Iteration   10: Average log likelihood (of data points in batch [01000:01100]) = -16.24037319\n",
      "Iteration   11: Average log likelihood (of data points in batch [01100:01200]) = -10.96094931\n",
      "Iteration   12: Average log likelihood (of data points in batch [01200:01300]) = -18.53320963\n",
      "Iteration   13: Average log likelihood (of data points in batch [01300:01400]) = -22.72656514\n",
      "Iteration   14: Average log likelihood (of data points in batch [01400:01500]) = -11.16354649\n",
      "Iteration   15: Average log likelihood (of data points in batch [01500:01600]) = -12.90506211\n"
     ]
    },
    {
     "name": "stderr",
     "output_type": "stream",
     "text": [
      "<ipython-input-12-10cf2aa4dac0>:7: RuntimeWarning: overflow encountered in exp\n",
      "  return 1. / (1. + np.exp(-score))         ## Compute P(y_i = +1 | x_i, w) using the link function\n",
      "<ipython-input-14-00fbf5b9513f>:4: RuntimeWarning: overflow encountered in exp\n",
      "  logexp = np.log(1. + np.exp(-scores))\n"
     ]
    },
    {
     "name": "stdout",
     "output_type": "stream",
     "text": [
      "Iteration  100: Average log likelihood (of data points in batch [10000:10100]) = -2.58985701\n",
      "Iteration  200: Average log likelihood (of data points in batch [20000:20100]) = -16.00178018\n",
      "Iteration  300: Average log likelihood (of data points in batch [30000:30100]) = -12.45261021\n",
      "Iteration  400: Average log likelihood (of data points in batch [40000:40100]) = -10.04451519\n",
      "Iteration  500: Average log likelihood (of data points in batch [02300:02400]) = -5.04222106\n",
      "Iteration  600: Average log likelihood (of data points in batch [12300:12400]) = -9.41988613\n",
      "Iteration  700: Average log likelihood (of data points in batch [22300:22400]) = -3.08641172\n",
      "Iteration  800: Average log likelihood (of data points in batch [32300:32400]) = -7.79352531\n",
      "Iteration  900: Average log likelihood (of data points in batch [42300:42400]) = -9.79985700\n",
      "Iteration 1000: Average log likelihood (of data points in batch [04600:04700]) = -2.74889564\n",
      "Iteration 2000: Average log likelihood (of data points in batch [09200:09300]) = -6.06493801\n",
      "Iteration 3000: Average log likelihood (of data points in batch [13800:13900]) = -5.54821863\n",
      "Iteration 4000: Average log likelihood (of data points in batch [18400:18500]) = -3.24940533\n",
      "Iteration 4777: Average log likelihood (of data points in batch [00700:00800]) = -9.70068114\n"
     ]
    }
   ],
   "source": [
    "batch_size = 100\n",
    "num_passes = 10\n",
    "num_iterations = num_passes * len(feature_matrix_train) // batch_size\n",
    "\n",
    "coeffs_sgd = {}\n",
    "log_likelihood_sgd = {}\n",
    "for step_size in np.logspace(-4, 2, num=7):\n",
    "    coeffs_sgd[step_size], log_likelihood_sgd[step_size] = logistic_regression_SG(feature_matrix_train, sentiment_train, init_coeffs=np.zeros(N_FEATURES), \n",
    "                                                                                  step_size=step_size, batch_sz=batch_size, max_iter=num_iterations)"
   ]
  },
  {
   "cell_type": "markdown",
   "metadata": {},
   "source": [
    "### Plotting the log likelihood as a function of passes for each step size\n",
    "\n",
    "Now, we will plot the change in log likelihood using the `make_plot` for each of the following values of `step_size`:\n",
    "\n",
    "* `step_size = 1e-4`\n",
    "* `step_size = 1e-3`\n",
    "* `step_size = 1e-2`\n",
    "* `step_size = 1e-1`\n",
    "* `step_size = 1e0`\n",
    "* `step_size = 1e1`\n",
    "* `step_size = 1e2`"
   ]
  },
  {
   "cell_type": "markdown",
   "metadata": {},
   "source": [
    "For consistency, we again apply `smoothing_window=30`."
   ]
  },
  {
   "cell_type": "code",
   "execution_count": 33,
   "metadata": {},
   "outputs": [
    {
     "data": {
      "image/png": "[encoded data removed]",
      "text/plain": [
       "<Figure size 648x360 with 1 Axes>"
      ]
     },
     "metadata": {
      "needs_background": "light"
     },
     "output_type": "display_data"
    }
   ],
   "source": [
    "for step_size in np.logspace(-4, 2, num=7):\n",
    "    make_plot(log_likelihood_sgd[step_size], len_data=len(train_data), batch_size=100,\n",
    "              smoothing_window=30, label='step_size=%.1e' % step_size)"
   ]
  },
  {
   "cell_type": "markdown",
   "metadata": {},
   "source": [
    "Now, let us remove the step size `step_size = 1e2` and plot the rest of the curves."
   ]
  },
  {
   "cell_type": "code",
   "execution_count": 34,
   "metadata": {},
   "outputs": [
    {
     "data": {
      "image/png": "[encoded data removed]",
      "text/plain": [
       "<Figure size 648x360 with 1 Axes>"
      ]
     },
     "metadata": {
      "needs_background": "light"
     },
     "output_type": "display_data"
    }
   ],
   "source": [
    "for step_size in np.logspace(-4, 2, num=7)[0:6]:\n",
    "    make_plot(log_likelihood_sgd[step_size], len_data=len(train_data), batch_size=100,\n",
    "              smoothing_window=30, label='step_size=%.1e' % step_size)"
   ]
  },
  {
   "cell_type": "markdown",
   "metadata": {},
   "source": [
    "**Quiz Question**: Which of the following is the worst step size? Pick the step size that results in the lowest log likelihood in the end.\n",
    "  1. [ ] 1e-2\n",
    "  2. [ ] 1e-1\n",
    "  3. [ ] 1e0\n",
    "  4. [ ] 1e1\n",
    "  5. [x] 1e2 (the one we eliminayed...)"
   ]
  },
  {
   "cell_type": "markdown",
   "metadata": {},
   "source": [
    "**Quiz Question**: Which of the following is the best step size? Pick the step size that results in the highest log likelihood in the end.\n",
    "  1. [ ] 1e-4\n",
    "  2. [ ] 1e-2\n",
    "  3. [x] 1e0\n",
    "  4. [ ] 1e1\n",
    "  5. [ ] 1e2"
   ]
  }
 ],
 "metadata": {
  "kernelspec": {
   "display_name": "Python 3",
   "language": "python",
   "name": "python3"
  },
  "language_info": {
   "codemirror_mode": {
    "name": "ipython",
    "version": 3
   },
   "file_extension": ".py",
   "mimetype": "text/x-python",
   "name": "python",
   "nbconvert_exporter": "python",
   "pygments_lexer": "ipython3",
   "version": "3.8.5"
  }
 },
 "nbformat": 4,
 "nbformat_minor": 1
}
