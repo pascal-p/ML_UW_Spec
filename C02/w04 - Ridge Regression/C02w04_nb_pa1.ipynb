{
 "cells": [
  {
   "cell_type": "markdown",
   "metadata": {},
   "source": [
    "# Regression Week 4: Ridge Regression (interpretation)"
   ]
  },
  {
   "cell_type": "markdown",
   "metadata": {},
   "source": [
    "In this notebook, we will run ridge regression multiple times with different L2 penalties to see which one produces the best fit. We will revisit the example of polynomial regression as a means to see the effect of L2 regularization. In particular, we will:\n",
    "* Use a pre-built implementation of regression (Turi Create) to run polynomial regression\n",
    "* Use matplotlib to visualize polynomial regressions\n",
    "* Use a pre-built implementation of regression (Turi Create) to run polynomial regression, this time with L2 penalty\n",
    "* Use matplotlib to visualize polynomial regressions under L2 regularization\n",
    "* Choose best L2 penalty using cross-validation.\n",
    "* Assess the final fit using test data.\n",
    "\n",
    "We will continue to use the House data from previous notebooks.  (In the next programming assignment for this module, you will implement your own ridge regression learning algorithm using gradient descent.)"
   ]
  },
  {
   "cell_type": "markdown",
   "metadata": {},
   "source": [
    "# Fire up Turi Create"
   ]
  },
  {
   "cell_type": "code",
   "execution_count": 1,
   "metadata": {},
   "outputs": [],
   "source": [
    "import turicreate"
   ]
  },
  {
   "cell_type": "markdown",
   "metadata": {},
   "source": [
    "# Polynomial regression, revisited"
   ]
  },
  {
   "cell_type": "markdown",
   "metadata": {},
   "source": [
    "We build on the material from Week 3, where we wrote the function to produce an SFrame with columns containing the powers of a given input. Copy and paste the function `polynomial_sframe` from Week 3:"
   ]
  },
  {
   "cell_type": "code",
   "execution_count": 2,
   "metadata": {},
   "outputs": [],
   "source": [
    "def polynomial_sframe(feature, degree):\n",
    "    \"\"\"assume that degree >= 1\"\"\"\n",
    "    assert degree >= 1, \"Expecting degree to be >= 1!\"\n",
    "    poly_sframe = turicreate.SFrame()  ## initialize the SFrame:\n",
    "    poly_sframe['power_1'] = feature   ## and set poly_sframe['power_1'] equal to the passed feature\n",
    "\n",
    "    if degree > 1:\n",
    "        ## then loop over the remaining degrees, 2 to degree\n",
    "        for power in range(2, degree + 1): \n",
    "            pname = 'power_' + str(power)\n",
    "            poly_sframe[pname] = feature.apply(lambda x: x ** power) \n",
    "\n",
    "    return poly_sframe"
   ]
  },
  {
   "cell_type": "markdown",
   "metadata": {},
   "source": [
    "Let's use matplotlib to visualize what a polynomial regression looks like on the house data."
   ]
  },
  {
   "cell_type": "code",
   "execution_count": 3,
   "metadata": {},
   "outputs": [],
   "source": [
    "import matplotlib.pyplot as plt\n",
    "%matplotlib inline"
   ]
  },
  {
   "cell_type": "code",
   "execution_count": 4,
   "metadata": {},
   "outputs": [],
   "source": [
    "sales = turicreate.SFrame('./data/home_data.sframe/')"
   ]
  },
  {
   "cell_type": "markdown",
   "metadata": {},
   "source": [
    "As in Week 3, we will use the sqft_living variable. For plotting purposes (connecting the dots), you'll need to sort by the values of sqft_living. For houses with identical square footage, we break the tie by their prices."
   ]
  },
  {
   "cell_type": "code",
   "execution_count": 5,
   "metadata": {},
   "outputs": [],
   "source": [
    "sales = sales.sort(['sqft_living','price'])"
   ]
  },
  {
   "cell_type": "markdown",
   "metadata": {},
   "source": [
    "Let us revisit the 15th-order polynomial model using the 'sqft_living' input. Generate polynomial features up to degree 15 using `polynomial_sframe()` and fit a model with these features. When fitting the model, use an L2 penalty of `1e-5`:"
   ]
  },
  {
   "cell_type": "code",
   "execution_count": 6,
   "metadata": {},
   "outputs": [],
   "source": [
    "l2_small_penalty = 1e-5"
   ]
  },
  {
   "cell_type": "markdown",
   "metadata": {},
   "source": [
    "Note: When we have so many features and so few data points, the solution can become highly numerically unstable, which can sometimes lead to strange unpredictable results.  Thus, rather than using no regularization, we will introduce a tiny amount of regularization (`l2_penalty=1e-5`) to make the solution numerically stable.  (In lecture, we discussed the fact that regularization can also help with numerical stability, and here we are seeing a practical example.)\n",
    "\n",
    "With the L2 penalty specified above, fit the model and print out the learned weights.\n",
    "\n",
    "Hint: make sure to add 'price' column to the new SFrame before calling `turicreate.linear_regression.create()`. Also, make sure Turi Create doesn't create its own validation set by using the option `validation_set=None` in this call."
   ]
  },
  {
   "cell_type": "code",
   "execution_count": 7,
   "metadata": {},
   "outputs": [
    {
     "name": "stdout",
     "output_type": "stream",
     "text": [
      "+-------------+-------+--------------------+--------------------+\n",
      "|     name    | index |       value        |       stderr       |\n",
      "+-------------+-------+--------------------+--------------------+\n",
      "| (intercept) |  None | 167924.86765899183 | 164928.44492544775 |\n",
      "|   power_1   |  None | 103.09091901372821 |        nan         |\n",
      "+-------------+-------+--------------------+--------------------+\n",
      "[16 rows x 4 columns]\n",
      "\n"
     ]
    }
   ],
   "source": [
    "poly_data_1 = polynomial_sframe(sales['sqft_living'], 15)\n",
    "features_1 = poly_data_1.column_names()    # order matters here, we want the features before adding price\n",
    "poly_data_1['price'] = sales['price'] \n",
    "\n",
    "model_1 = turicreate.linear_regression.create(poly_data_1, \n",
    "                                              target='price', \n",
    "                                              features=features_1,\n",
    "                                              l2_penalty=l2_small_penalty,\n",
    "                                              validation_set=None,\n",
    "                                              verbose=False)\n",
    "\n",
    "model_1.coefficients.print_rows(num_rows=2)"
   ]
  },
  {
   "cell_type": "markdown",
   "metadata": {},
   "source": [
    "***QUIZ QUESTION:  What's the learned value for the coefficient of feature `power_1`?***"
   ]
  },
  {
   "cell_type": "code",
   "execution_count": 8,
   "metadata": {},
   "outputs": [
    {
     "data": {
      "text/plain": [
       "103.09"
      ]
     },
     "execution_count": 8,
     "metadata": {},
     "output_type": "execute_result"
    }
   ],
   "source": [
    "## Answer:\n",
    "round(model_1.coefficients['value'][1], 2)"
   ]
  },
  {
   "cell_type": "markdown",
   "metadata": {},
   "source": [
    "# Observe overfitting"
   ]
  },
  {
   "cell_type": "markdown",
   "metadata": {},
   "source": [
    "Recall from Week 3 that the polynomial fit of degree 15 changed wildly whenever the data changed. In particular, when we split the sales data into four subsets and fit the model of degree 15, the result came out to be very different for each subset. The model had a *high variance*. We will see in a moment that ridge regression reduces such variance. But first, we must reproduce the experiment we did in Week 3."
   ]
  },
  {
   "cell_type": "markdown",
   "metadata": {},
   "source": [
    "First, split the data into split the sales data into four subsets of roughly equal size and call them `set1`, `set2`, `set3`, and `set4`. Use `.random_split` function and make sure you set `seed=0`. "
   ]
  },
  {
   "cell_type": "code",
   "execution_count": 9,
   "metadata": {},
   "outputs": [],
   "source": [
    "(semi_split1, semi_split2) = sales.random_split(.5, seed=0)\n",
    "(set1, set2) = semi_split1.random_split(0.5, seed=0)\n",
    "(set3, set4) = semi_split2.random_split(0.5, seed=0)"
   ]
  },
  {
   "cell_type": "markdown",
   "metadata": {},
   "source": [
    "Next, fit a 15th degree polynomial on `set1`, `set2`, `set3`, and `set4`, using 'sqft_living' to predict prices. Print the weights and make a plot of the resulting model.\n",
    "\n",
    "Hint: When calling `turicreate.linear_regression.create()`, use the same L2 penalty as before (i.e. `l2_small_penalty`).  Also, make sure Turi Create doesn't create its own validation set by using the option `validation_set = None` in this call."
   ]
  },
  {
   "cell_type": "code",
   "execution_count": 10,
   "metadata": {},
   "outputs": [],
   "source": [
    "## Utility functions from week 3\n",
    "def make_poly(tset, degree, output):\n",
    "  poly_set = polynomial_sframe(tset['sqft_living'], degree)\n",
    "  features = poly_set.column_names()   ## get the name of the features (before adding target: price)\n",
    "  poly_set[output] = tset[output]      ## add price to the data since it's the target\n",
    "  return (poly_set, features)\n",
    "\n",
    "def fit_model(pset, features, degree, output, l2_penalty):\n",
    "  return turicreate.linear_regression.create(pset, \n",
    "                                             target=output,\n",
    "                                             features=features, \n",
    "                                             l2_penalty=l2_penalty,\n",
    "                                             validation_set=None,\n",
    "                                             verbose=False)\n",
    "\n",
    "def fit_poly(tset, degree=15, output='price', l2_penalty=l2_small_penalty):\n",
    "  (poly_set, features) = make_poly(tset, degree, output)\n",
    "  model = fit_model(poly_set, features, degree, output, l2_penalty)\n",
    "  return (poly_set, model)"
   ]
  },
  {
   "cell_type": "code",
   "execution_count": 11,
   "metadata": {},
   "outputs": [],
   "source": [
    "from matplotlib import gridspec \n",
    "import numpy as np\n",
    "\n",
    "def gen_models(sets, degree=15, output='price', l2_penalty=l2_small_penalty, verbose=True):\n",
    "  hsh = {'pset': [], 'model': []}\n",
    "  for (ix, cs) in enumerate((sets)):\n",
    "    (_set, _model) = fit_poly(cs, output=output, l2_penalty=l2_penalty)\n",
    "    hsh['pset'].append(_set)\n",
    "    hsh['model'].append(_model)\n",
    "    #\n",
    "    if verbose:\n",
    "      print(f\"-- model for Set {ix+1}\")\n",
    "      _model.coefficients[['name', 'value']].print_rows(num_rows=2)\n",
    "  return hsh\n",
    "\n",
    "def make_plot(hsh):\n",
    "  fig = plt.figure() \n",
    "  \n",
    "  ## change size of subplot's \n",
    "  fig.set_figheight(9)    # set height of each subplot as 8 \n",
    "  fig.set_figwidth(13)    # set width of each subplot as 8 \n",
    "  \n",
    "  ## create grid for different subplots \n",
    "  spec = gridspec.GridSpec(\n",
    "    ncols=2, nrows=2, \n",
    "    # width_ratios=[2, 1], \n",
    "    wspace=0.2, \n",
    "    hspace=0.1, \n",
    "    # height_ratios=[1, 2]\n",
    "  )\n",
    "\n",
    "  ## fill grid\n",
    "  for (ix, _set) in enumerate(hsh['pset']):\n",
    "    ax = fig.add_subplot(spec[ix]) \n",
    "    _model = hsh['model'][ix]\n",
    "    ax.plot(\n",
    "      _set['power_1'], _set['price'], '.',\n",
    "      _set['power_1'], _model.predict(_set), '-'\n",
    "    )\n",
    "    ax.set_title('Set' + str(ix + 1))\n",
    "    ax.set(xlabel='x-label', ylabel='y-label')\n",
    "    ax.label_outer()\n",
    "\n",
    "  plt.show()\n",
    "  return\n",
    "\n",
    "def make_lst(hsh):\n",
    "  \"\"\"\n",
    "  Looking for power_1 attr located at index 1 in coefficient SFrame\n",
    "  hsh['model'] contains a list of models that were computed (cf. gen_models(...))\n",
    "  \"\"\"\n",
    "  return list(\n",
    "    map(lambda m: m.coefficients['value'][1], hsh['model'])\n",
    "  )\n",
    "\n",
    "def find_(hsh, key='min'):\n",
    "  l = make_lst(hsh)\n",
    "  ix = np.argmin(np.array(l)) if key == 'min' else np.argmax(np.array(l))\n",
    "  return (l[ix], f\"model {ix+1}\")"
   ]
  },
  {
   "cell_type": "markdown",
   "metadata": {
    "scrolled": false
   },
   "source": [
    "##### Set 1, 2 3 & 4"
   ]
  },
  {
   "cell_type": "code",
   "execution_count": 12,
   "metadata": {
    "scrolled": false
   },
   "outputs": [
    {
     "name": "stdout",
     "output_type": "stream",
     "text": [
      "-- model for Set 1\n",
      "+-------------+-------------------+\n",
      "|     name    |       value       |\n",
      "+-------------+-------------------+\n",
      "| (intercept) |  9306.46598527045 |\n",
      "|   power_1   | 585.8658082723987 |\n",
      "+-------------+-------------------+\n",
      "[16 rows x 2 columns]\n",
      "\n",
      "-- model for Set 2\n",
      "+-------------+---------------------+\n",
      "|     name    |        value        |\n",
      "+-------------+---------------------+\n",
      "| (intercept) | -25115.895217467332 |\n",
      "|   power_1   |  783.4937591973525  |\n",
      "+-------------+---------------------+\n",
      "[16 rows x 2 columns]\n",
      "\n",
      "-- model for Set 3\n",
      "+-------------+--------------------+\n",
      "|     name    |       value        |\n",
      "+-------------+--------------------+\n",
      "| (intercept) | 462426.5702457231  |\n",
      "|   power_1   | -759.2518668601831 |\n",
      "+-------------+--------------------+\n",
      "[16 rows x 2 columns]\n",
      "\n",
      "-- model for Set 4\n",
      "+-------------+---------------------+\n",
      "|     name    |        value        |\n",
      "+-------------+---------------------+\n",
      "| (intercept) | -170240.04868971556 |\n",
      "|   power_1   |  1247.5904037016555 |\n",
      "+-------------+---------------------+\n",
      "[16 rows x 2 columns]\n",
      "\n"
     ]
    }
   ],
   "source": [
    "hsh_v0 = gen_models((set1, set2, set3, set4))"
   ]
  },
  {
   "cell_type": "code",
   "execution_count": 13,
   "metadata": {},
   "outputs": [
    {
     "data": {
      "image/png": "[encoded data removed]",
      "text/plain": [
       "<Figure size 936x648 with 4 Axes>"
      ]
     },
     "metadata": {
      "needs_background": "light"
     },
     "output_type": "display_data"
    }
   ],
   "source": [
    "make_plot(hsh_v0)"
   ]
  },
  {
   "cell_type": "markdown",
   "metadata": {},
   "source": [
    "The four curves should differ from one another a lot, as should the coefficients you learned.\n",
    "\n",
    "***QUIZ QUESTION:  For the models learned in each of these training sets, what are the smallest and largest values you learned for the coefficient of feature `power_1`?***  <br />\n",
    "(For the purpose of answering this question, negative numbers are considered \"smaller\" than positive numbers. So -5 is smaller than -3, and -3 is smaller than 5 and so forth.)"
   ]
  },
  {
   "cell_type": "code",
   "execution_count": 14,
   "metadata": {},
   "outputs": [
    {
     "data": {
      "text/plain": [
       "(-759.2518668601831, 'model 3')"
      ]
     },
     "execution_count": 14,
     "metadata": {},
     "output_type": "execute_result"
    }
   ],
   "source": [
    "## smallest weight for power_1 (index 1 in coefficient SFrame)\n",
    "find_(hsh_v0, key='min') "
   ]
  },
  {
   "cell_type": "code",
   "execution_count": 15,
   "metadata": {},
   "outputs": [
    {
     "data": {
      "text/plain": [
       "(1247.5904037016555, 'model 4')"
      ]
     },
     "execution_count": 15,
     "metadata": {},
     "output_type": "execute_result"
    }
   ],
   "source": [
    "## largest weight for power_1 (index 1 in coefficient SFrame)\n",
    "find_(hsh_v0, key='max') "
   ]
  },
  {
   "cell_type": "markdown",
   "metadata": {},
   "source": [
    "# Ridge regression comes to rescue"
   ]
  },
  {
   "cell_type": "markdown",
   "metadata": {},
   "source": [
    "Generally, whenever we see weights change so much in response to change in data, we believe the variance of our estimate to be large. Ridge regression aims to address this issue by penalizing \"large\" weights. (Weights of `model15` looked quite small, but they are not that small because 'sqft_living' input is in the order of thousands.)\n",
    "\n",
    "With the argument `l2_penalty=1e5`, fit a 15th-order polynomial model on `set1`, `set2`, `set3`, and `set4`. Other than the change in the `l2_penalty` parameter, the code should be the same as the experiment above. Also, make sure Turi Create doesn't create its own validation set by using the option `validation_set = None` in this call."
   ]
  },
  {
   "cell_type": "markdown",
   "metadata": {
    "scrolled": false
   },
   "source": [
    "#### Set 1, 2, 3 & 4"
   ]
  },
  {
   "cell_type": "code",
   "execution_count": 16,
   "metadata": {},
   "outputs": [
    {
     "name": "stdout",
     "output_type": "stream",
     "text": [
      "-- model for Set 1\n",
      "+-------------+-------------------+\n",
      "|     name    |       value       |\n",
      "+-------------+-------------------+\n",
      "| (intercept) | 530317.0245158835 |\n",
      "|   power_1   | 2.587388756728694 |\n",
      "+-------------+-------------------+\n",
      "[16 rows x 2 columns]\n",
      "\n",
      "-- model for Set 2\n",
      "+-------------+--------------------+\n",
      "|     name    |       value        |\n",
      "+-------------+--------------------+\n",
      "| (intercept) | 519216.8973834264  |\n",
      "|   power_1   | 2.0447047418193707 |\n",
      "+-------------+--------------------+\n",
      "[16 rows x 2 columns]\n",
      "\n",
      "-- model for Set 3\n",
      "+-------------+--------------------+\n",
      "|     name    |       value        |\n",
      "+-------------+--------------------+\n",
      "| (intercept) | 522911.5180475718  |\n",
      "|   power_1   | 2.2689042187657926 |\n",
      "+-------------+--------------------+\n",
      "[16 rows x 2 columns]\n",
      "\n",
      "-- model for Set 4\n",
      "+-------------+--------------------+\n",
      "|     name    |       value        |\n",
      "+-------------+--------------------+\n",
      "| (intercept) | 513667.0870874073  |\n",
      "|   power_1   | 1.9104093824432062 |\n",
      "+-------------+--------------------+\n",
      "[16 rows x 2 columns]\n",
      "\n"
     ]
    }
   ],
   "source": [
    "hsh_v1r = gen_models((set1, set2, set3, set4), l2_penalty=1e5)"
   ]
  },
  {
   "cell_type": "code",
   "execution_count": 17,
   "metadata": {},
   "outputs": [
    {
     "data": {
      "image/png": "[encoded data removed]",
      "text/plain": [
       "<Figure size 936x648 with 4 Axes>"
      ]
     },
     "metadata": {
      "needs_background": "light"
     },
     "output_type": "display_data"
    }
   ],
   "source": [
    "make_plot(hsh_v1r)"
   ]
  },
  {
   "cell_type": "markdown",
   "metadata": {},
   "source": [
    "These curves should vary a lot less, now that you applied a high degree of regularization.\n",
    "\n",
    "***QUIZ QUESTION:  For the models learned with the high level of regularization in each of these training sets, what are the smallest and largest values you learned for the coefficient of feature `power_1`?*** <br />\n",
    "(For the purpose of answering this question, negative numbers are considered \"smaller\" than positive numbers. So -5 is smaller than -3, and -3 is smaller than 5 and so forth.)"
   ]
  },
  {
   "cell_type": "code",
   "execution_count": 18,
   "metadata": {},
   "outputs": [
    {
     "data": {
      "text/plain": [
       "(1.9104093824432062, 'model 4')"
      ]
     },
     "execution_count": 18,
     "metadata": {},
     "output_type": "execute_result"
    }
   ],
   "source": [
    "## smallest weight for power_1 (index 1 in coefficient SFrame)\n",
    "find_(hsh_v1r, key='min') "
   ]
  },
  {
   "cell_type": "code",
   "execution_count": 19,
   "metadata": {},
   "outputs": [
    {
     "data": {
      "text/plain": [
       "(2.587388756728694, 'model 1')"
      ]
     },
     "execution_count": 19,
     "metadata": {},
     "output_type": "execute_result"
    }
   ],
   "source": [
    "## largest weight for power_1 (index 1 in coefficient SFrame)\n",
    "find_(hsh_v1r, key='max') "
   ]
  },
  {
   "cell_type": "markdown",
   "metadata": {},
   "source": [
    "# Selecting an L2 penalty via cross-validation"
   ]
  },
  {
   "cell_type": "markdown",
   "metadata": {},
   "source": [
    "Just like the polynomial degree, the L2 penalty is a \"magic\" parameter we need to select. We could use the validation set approach as we did in the last module, but that approach has a major disadvantage: it leaves fewer observations available for training. **Cross-validation** seeks to overcome this issue by using all of the training set in a smart way.\n",
    "\n",
    "We will implement a kind of cross-validation called **k-fold cross-validation**. The method gets its name because it involves dividing the training set into k segments of roughtly equal size. Similar to the validation set method, we measure the validation error with one of the segments designated as the validation set. The major difference is that we repeat the process k times as follows:\n",
    "\n",
    "Set aside segment 0 as the validation set, and fit a model on rest of data, and evalutate it on this validation set<br>\n",
    "Set aside segment 1 as the validation set, and fit a model on rest of data, and evalutate it on this validation set<br>\n",
    "...<br>\n",
    "Set aside segment k-1 as the validation set, and fit a model on rest of data, and evalutate it on this validation set\n",
    "\n",
    "After this process, we compute the average of the k validation errors, and use it as an estimate of the generalization error. Notice that  all observations are used for both training and validation, as we iterate over segments of data. \n",
    "\n",
    "To estimate the generalization error well, it is crucial to shuffle the training data before dividing them into segments. The package `turicreate_cross_validation` (see below) has a utility function for shuffling a given SFrame. We reserve 10% of the data as the test set and shuffle the remainder. (Make sure to use `seed=1` to get consistent answer.)\n",
    "\n",
    "  \n",
    "_Note:_ For applying cross-validation, we will import a package called `turicreate_cross_validation`. To install it, please run this command on your terminal:\n",
    "\n",
    "`pip install -e git+https://github.com/Kagandi/turicreate-cross-validation.git#egg=turicreate_cross_validation`\n",
    "\n",
    "You can find the documentation on this package here: https://github.com/Kagandi/turicreate-cross-validation"
   ]
  },
  {
   "cell_type": "code",
   "execution_count": 20,
   "metadata": {},
   "outputs": [],
   "source": [
    "import turicreate_cross_validation.cross_validation as tcv\n",
    "\n",
    "(train_valid, test) = sales.random_split(.9, seed=1)\n",
    "train_valid_shuffled = tcv.shuffle_sframe(train_valid, random_seed=1)"
   ]
  },
  {
   "cell_type": "markdown",
   "metadata": {},
   "source": [
    "Once the data is shuffled, we divide it into equal segments. Each segment should receive `n/k` elements, where `n` is the number of observations in the training set and `k` is the number of segments. Since the segment 0 starts at index 0 and contains `n/k` elements, it ends at index `(n/k)-1`. The segment 1 starts where the segment 0 left off, at index `(n/k)`. With `n/k` elements, the segment 1 ends at index `(n*2/k)-1`. Continuing in this fashion, we deduce that the segment `i` starts at index `(n*i/k)` and ends at `(n*(i+1)/k)-1`."
   ]
  },
  {
   "cell_type": "markdown",
   "metadata": {},
   "source": [
    "With this pattern in mind, we write a short loop that prints the starting and ending indices of each segment, just to make sure you are getting the splits right."
   ]
  },
  {
   "cell_type": "code",
   "execution_count": 21,
   "metadata": {},
   "outputs": [
    {
     "name": "stdout",
     "output_type": "stream",
     "text": [
      "0 (0, 1938)\n",
      "1 (1939, 3878)\n",
      "2 (3879, 5817)\n",
      "3 (5818, 7757)\n",
      "4 (7758, 9697)\n",
      "5 (9698, 11636)\n",
      "6 (11637, 13576)\n",
      "7 (13577, 15515)\n",
      "8 (15516, 17455)\n",
      "9 (17456, 19395)\n"
     ]
    }
   ],
   "source": [
    "n = len(train_valid_shuffled)\n",
    "k = 10 # 10-fold cross-validation\n",
    "\n",
    "for i in range(0, k):\n",
    "    start = (n * i) // k\n",
    "    end = (n * (i + 1)) // k - 1\n",
    "    print(i, (start, end))"
   ]
  },
  {
   "cell_type": "markdown",
   "metadata": {},
   "source": [
    "Let us familiarize ourselves with array slicing with SFrame. To extract a continuous slice from an SFrame, use colon in square brackets. <br /> \n",
    "For instance, the following cell extracts rows 0 to 9 of `train_valid_shuffled`. Notice that the first index (0) is included in the slice but the last index (10) is omitted."
   ]
  },
  {
   "cell_type": "code",
   "execution_count": 22,
   "metadata": {
    "scrolled": true
   },
   "outputs": [],
   "source": [
    "# train_valid_shuffled[0:10] # rows 0 to 9"
   ]
  },
  {
   "cell_type": "markdown",
   "metadata": {},
   "source": [
    "Now let us extract individual segments with array slicing. Consider the scenario where we group the houses in the `train_valid_shuffled` dataframe into k=10 segments of roughly equal size, with starting and ending indices computed as above.\n",
    "Extract the fourth segment (segment 3) and assign it to a variable called `validation4`."
   ]
  },
  {
   "cell_type": "code",
   "execution_count": 23,
   "metadata": {},
   "outputs": [],
   "source": [
    "# train_valid_shuffled.shape\n",
    "# (19396, 21)"
   ]
  },
  {
   "cell_type": "code",
   "execution_count": 24,
   "metadata": {},
   "outputs": [],
   "source": [
    "# validation4 = train_valid_shuffled[5818:7758]"
   ]
  },
  {
   "cell_type": "markdown",
   "metadata": {},
   "source": [
    "To verify that we have the right elements extracted, run the following cell, which computes the average price of the fourth segment. \n",
    "When rounded to nearest whole number, the average should be $559,642."
   ]
  },
  {
   "cell_type": "code",
   "execution_count": 25,
   "metadata": {},
   "outputs": [],
   "source": [
    "# exp = 559490 # 559642\n",
    "# act = int(round(validation4['price'].mean(), 0))\n",
    "# assert act == exp, f\"Expecting mean of validation4 to be {exp}, got: {act}!\""
   ]
  },
  {
   "cell_type": "markdown",
   "metadata": {},
   "source": [
    "After designating one of the k segments as the validation set, we train a model using the rest of the data. To choose the remainder, we slice (0:start) and (end+1:n) of the data and paste them together. SFrame has `append()` method that pastes together two disjoint sets of rows originating from a common dataset. <br />\n",
    "For instance, the following cell pastes together the first and last two rows of the `train_valid_shuffled` dataframe."
   ]
  },
  {
   "cell_type": "code",
   "execution_count": 26,
   "metadata": {
    "scrolled": true
   },
   "outputs": [],
   "source": [
    "# n = len(train_valid_shuffled)\n",
    "# first_two = train_valid_shuffled[0:2]\n",
    "# last_two = train_valid_shuffled[n-2:n]\n",
    "# first_two.append(last_two)"
   ]
  },
  {
   "cell_type": "markdown",
   "metadata": {},
   "source": [
    "Extract the remainder of the data after *excluding* fourth segment (segment 3) and assign the subset to `train4`."
   ]
  },
  {
   "cell_type": "code",
   "execution_count": 27,
   "metadata": {
    "scrolled": true
   },
   "outputs": [],
   "source": [
    "# train4 = train_valid_shuffled[0:5817]\n",
    "# train4.append(train_valid_shuffled[7758:])"
   ]
  },
  {
   "cell_type": "markdown",
   "metadata": {},
   "source": [
    "To verify that we have the right elements extracted, run the following cell, which computes the average price of the data with fourth segment excluded. When rounded to nearest whole number, the average should be $536,865."
   ]
  },
  {
   "cell_type": "code",
   "execution_count": 28,
   "metadata": {},
   "outputs": [],
   "source": [
    "# exp = 533149 # 536865\n",
    "# act = int(round(train4['price'].mean(), 0))\n",
    "# assert act == exp, f\"Expecting mean of validation4 to be {exp}, got: {act}!\""
   ]
  },
  {
   "cell_type": "markdown",
   "metadata": {},
   "source": [
    "Now we are ready to implement k-fold cross-validation. Write a function that computes k validation errors by designating each of the k segments as the validation set.<br /> \n",
    "It accepts as parameters \n",
    "  - (i) `k`, \n",
    "  - (ii) `l2_penalty`, \n",
    "  - (iii) dataframe, \n",
    "  - (iv) name of output column (e.g. `price`) and \n",
    "  - (v) list of feature names. \n",
    "  \n",
    "The function returns the average validation error using k segments as validation sets.\n",
    "\n",
    "* For each i in [0, 1, ..., k-1]:\n",
    "  * Compute starting and ending indices of segment i and call 'start' and 'end'\n",
    "  * Form validation set by taking a slice (start:end+1) from the data.\n",
    "  * Form training set by appending slice (end+1:n) to the end of slice (0:start).\n",
    "  * Train a linear model using training set just formed, with a given l2_penalty\n",
    "  * Compute validation error using validation set just formed"
   ]
  },
  {
   "cell_type": "code",
   "execution_count": 29,
   "metadata": {},
   "outputs": [],
   "source": [
    "def get_rss(model, data, y):\n",
    "    preds = model.predict(data)   # First get the predictions\n",
    "    diff = y - preds              # Then compute the residuals/errors\n",
    "    rss = (diff * diff).sum()     # Then square and add them up\n",
    "    return rss\n",
    "\n",
    "def k_fold_cross_validation(k, l2_penalty, data, output_name, features_list, \n",
    "                            degree=15):\n",
    "  n = len(data)\n",
    "  rss = []\n",
    "  for ix in range(k):\n",
    "    start = (n * i) // k\n",
    "    end = (n * (i + 1)) // k - 1\n",
    "    valid_set = data[start:end + 1]\n",
    "    train_set = data[0:start]\n",
    "    train_set.append(data[end + 1:n])\n",
    "    #\n",
    "    model = turicreate.linear_regression.create(train_set, \n",
    "                                                target=output_name,\n",
    "                                                features=features_list, \n",
    "                                                l2_penalty=l2_penalty,\n",
    "                                                validation_set=None,\n",
    "                                                verbose=False)\n",
    "    rss.append(get_rss(model, valid_set, valid_set[output_name]))\n",
    "  return sum(rss) / k"
   ]
  },
  {
   "cell_type": "markdown",
   "metadata": {},
   "source": [
    "Once we have a function to compute the average validation error for a model, we can write a loop to find the model that minimizes the average validation error. Write a loop that does the following:\n",
    "* We will again be aiming to fit a 15th-order polynomial model using the `sqft_living` input\n",
    "* For `l2_penalty` in [10^1, 10^1.5, 10^2, 10^2.5, ..., 10^7] (to get this in Python, you can use this Numpy function: `np.logspace(1, 7, num=13)`.)\n",
    "    * Run 10-fold cross-validation with `l2_penalty`\n",
    "* Report which L2 penalty produced the lowest average validation error.\n",
    "\n",
    "Note: since the degree of the polynomial is now fixed to 15, to make things faster, you should generate polynomial features in advance and re-use them throughout the loop. \n",
    "\n",
    "<br />\n",
    "\n",
    "**=> Make sure to use `train_valid_shuffled` when generating polynomial features!**"
   ]
  },
  {
   "cell_type": "code",
   "execution_count": 30,
   "metadata": {},
   "outputs": [],
   "source": [
    "import numpy as np"
   ]
  },
  {
   "cell_type": "code",
   "execution_count": 32,
   "metadata": {},
   "outputs": [
    {
     "name": "stdout",
     "output_type": "stream",
     "text": [
      "\tcurrent rss: 1.38260e+14 / current l2 penalty: 1.00000e+01\n",
      "\tcurrent rss: 1.38424e+14 / current l2 penalty: 3.16228e+01\n",
      "\tcurrent rss: 1.38474e+14 / current l2 penalty: 1.00000e+02\n",
      "\tcurrent rss: 1.38644e+14 / current l2 penalty: 3.16228e+02\n",
      "\tcurrent rss: 1.39942e+14 / current l2 penalty: 1.00000e+03\n",
      "\tcurrent rss: 1.45862e+14 / current l2 penalty: 3.16228e+03\n",
      "\tcurrent rss: 1.66284e+14 / current l2 penalty: 1.00000e+04\n",
      "\tcurrent rss: 2.15516e+14 / current l2 penalty: 3.16228e+04\n",
      "\tcurrent rss: 2.77520e+14 / current l2 penalty: 1.00000e+05\n",
      "\tcurrent rss: 3.19389e+14 / current l2 penalty: 3.16228e+05\n",
      "\tcurrent rss: 3.39087e+14 / current l2 penalty: 1.00000e+06\n",
      "\tcurrent rss: 3.46656e+14 / current l2 penalty: 3.16228e+06\n",
      "\tcurrent rss: 3.49245e+14 / current l2 penalty: 1.00000e+07\n",
      "\n",
      "Min rss: 1.38260e+14 / best l2 penalty: 1.00000e+01\n"
     ]
    }
   ],
   "source": [
    "k = 10\n",
    "degree = 15\n",
    "output_name='price'\n",
    "\n",
    "(poly_set, features) = make_poly(train_valid_shuffled, degree, output_name)\n",
    "l2_rss, l2_p = [], []\n",
    "best_l2, min_rss = None, None\n",
    "\n",
    "for cur_l2p in np.logspace(1, 7, num=13):\n",
    "  l2_p.append(cur_l2p)\n",
    "  rss = k_fold_cross_validation(k, cur_l2p, poly_set, output_name, features)\n",
    "  l2_rss.append(rss)\n",
    "  print(f\"\\tcurrent rss: {rss:2.5e} / current l2 penalty: {cur_l2p:2.5e}\")\n",
    "  if min_rss is None or rss < min_rss:\n",
    "    min_rss = rss\n",
    "    best_l2 = cur_l2p\n",
    "    \n",
    "print(f\"\\nMin rss: {min_rss:2.5e} / best l2 penalty: {best_l2:2.5e}\")"
   ]
  },
  {
   "cell_type": "markdown",
   "metadata": {},
   "source": [
    "***Quiz Questions:  What is the best value for the L2 penalty according to 10-fold validation?***\n",
    "  - cf. cell above"
   ]
  },
  {
   "cell_type": "markdown",
   "metadata": {},
   "source": [
    "You may find it useful to plot the k-fold cross-validation errors you have obtained to better understand the behavior of the method.  "
   ]
  },
  {
   "cell_type": "code",
   "execution_count": 33,
   "metadata": {},
   "outputs": [
    {
     "data": {
      "image/png": "[encoded data removed]",
      "text/plain": [
       "<Figure size 432x288 with 1 Axes>"
      ]
     },
     "metadata": {
      "needs_background": "light"
     },
     "output_type": "display_data"
    }
   ],
   "source": [
    "# Plot the l2_penalty values in the x axis and the cross-validation error in the y axis.\n",
    "# Using plt.xscale('log') will make your plot more intuitive.\n",
    "plt.plot(l2_p, l2_rss, 'k-')\n",
    "plt.xlabel('$\\ell_2$ penalty')\n",
    "plt.ylabel('10-fold cross validation error')\n",
    "plt.xscale('log')\n",
    "# plt.yscale('log')"
   ]
  },
  {
   "cell_type": "markdown",
   "metadata": {},
   "source": [
    "Once you found the best value for the L2 penalty using cross-validation, it is important to retrain a final model on all of the training data using this value of `l2_penalty`. <br />\n",
    "This way, your final model will be trained on the entire dataset."
   ]
  },
  {
   "cell_type": "code",
   "execution_count": 36,
   "metadata": {},
   "outputs": [
    {
     "name": "stdout",
     "output_type": "stream",
     "text": [
      "Final rss: 1.26207e+14\n"
     ]
    }
   ],
   "source": [
    "## using (train_valid, test) as defined above.\n",
    "(train_set, features) = make_poly(train_valid_shuffled, degree, output_name)\n",
    "(test_set, _) = make_poly(test, degree, output_name)\n",
    "\n",
    "model = turicreate.linear_regression.create(train_set, \n",
    "                                            target=output_name,\n",
    "                                            features=features, \n",
    "                                            l2_penalty=best_l2,\n",
    "                                            validation_set=None,\n",
    "                                            verbose=False)\n",
    "\n",
    "final_rss = get_rss(model, test_set, test_set[output_name])\n",
    "print(f\"Final rss: {final_rss:2.5e}\")"
   ]
  },
  {
   "cell_type": "markdown",
   "metadata": {},
   "source": [
    "***Quiz Qestion: Using the best L2 penalty found above, train a model using all training data. What is the RSS on the TEST data of the model you learn with this L2 penalty?***"
   ]
  },
  {
   "cell_type": "markdown",
   "metadata": {},
   "source": [
    " - cf. above cell\n"
   ]
  }
 ],
 "metadata": {
  "kernelspec": {
   "display_name": "Python 3",
   "language": "python",
   "name": "python3"
  },
  "language_info": {
   "codemirror_mode": {
    "name": "ipython",
    "version": 3
   },
   "file_extension": ".py",
   "mimetype": "text/x-python",
   "name": "python",
   "nbconvert_exporter": "python",
   "pygments_lexer": "ipython3",
   "version": "3.8.5"
  }
 },
 "nbformat": 4,
 "nbformat_minor": 1
}
