{
 "cells": [
  {
   "cell_type": "markdown",
   "metadata": {},
   "source": [
    "# k-means with text data"
   ]
  },
  {
   "cell_type": "markdown",
   "metadata": {},
   "source": [
    "In this assignment we will\n",
    "  - Cluster Wikipedia documents using k-means\n",
    "  - Explore the role of random initialization on the quality of the clustering\n",
    "  - Explore how results differ after changing the number of clusters\n",
    "  - Evaluate clustering, both quantitatively and qualitatively\n",
    "\n",
    "When properly executed, clustering uncovers valuable insights from a set of unlabeled documents."
   ]
  },
  {
   "cell_type": "markdown",
   "metadata": {},
   "source": [
    "**Note to Amazon EC2 users**: To conserve memory, make sure to stop all the other notebooks before running this notebook."
   ]
  },
  {
   "cell_type": "markdown",
   "metadata": {},
   "source": [
    "## Import necessary packages"
   ]
  },
  {
   "cell_type": "code",
   "execution_count": 1,
   "metadata": {},
   "outputs": [],
   "source": [
    "import turicreate\n",
    "import matplotlib.pyplot as plt\n",
    "import numpy as np\n",
    "import sys\n",
    "import os\n",
    "from scipy.sparse import csr_matrix\n",
    "from sklearn.preprocessing import OneHotEncoder, LabelEncoder\n",
    "\n",
    "%matplotlib inline"
   ]
  },
  {
   "cell_type": "markdown",
   "metadata": {},
   "source": [
    "## Load data, extract features"
   ]
  },
  {
   "cell_type": "markdown",
   "metadata": {},
   "source": [
    "To work with text data, we must first convert the documents into numerical features. As in the first assignment, let's extract TF-IDF features for each article."
   ]
  },
  {
   "cell_type": "code",
   "execution_count": 15,
   "metadata": {},
   "outputs": [],
   "source": [
    "wiki = turicreate.SFrame('../data/people_wiki.sframe/')"
   ]
  },
  {
   "cell_type": "code",
   "execution_count": 16,
   "metadata": {},
   "outputs": [
    {
     "data": {
      "text/plain": [
       "(['URI', 'name', 'text', 'tf_idf'], (59071, 4))"
      ]
     },
     "execution_count": 16,
     "metadata": {},
     "output_type": "execute_result"
    }
   ],
   "source": [
    "wiki['tf_idf'] = turicreate.text_analytics.tf_idf(wiki['text'])\n",
    "wiki.column_names(), wiki.shape"
   ]
  },
  {
   "cell_type": "markdown",
   "metadata": {},
   "source": [
    "For the remainder of the assignment, we will use sparse matrices. Sparse matrices are matrices that have a small number of nonzero entries. A good data structure for sparse matrices would only store the nonzero entries to save space and speed up computation. SciPy provides a highly-optimized library for sparse matrices. Many matrix operations available for NumPy arrays are also available for SciPy sparse matrices.\n",
    "\n",
    "We first convert the TF-IDF column (in dictionary format) into the SciPy sparse matrix format. We included plenty of comments for the curious; if you'd like, you may skip the next block and treat the function as a black box."
   ]
  },
  {
   "cell_type": "code",
   "execution_count": 17,
   "metadata": {},
   "outputs": [],
   "source": [
    "def sframe_to_scipy(x, column_name):\n",
    "    '''\n",
    "    Convert a dictionary column of an SFrame into a sparse matrix format where\n",
    "    each (row_id, column_id, value) triple corresponds to the value of\n",
    "    x[row_id][column_id], where column_id is a key in the dictionary.\n",
    "       \n",
    "    Example\n",
    "    >>> sparse_matrix, map_key_to_index = sframe_to_scipy(sframe, column_name)\n",
    "    '''\n",
    "    assert type(x[column_name][0]) == dict, 'The chosen column must be dict type, representing sparse data.'\n",
    "\n",
    "    x = x.add_row_number()                          ## 1. Add a row number (id)\n",
    "    x = x.stack(column_name, ['feature', 'value'])  ## 2. Stack will transform x to have a row for each unique (row, key) pair.\n",
    "    mapping = {                                     ## 3. Map feature words to integers \n",
    "      word:i for i, word in enumerate(sorted(x['feature'].unique()))\n",
    "    }\n",
    "    x['feature_id'] = x['feature'].apply(lambda x: mapping[x])\n",
    "\n",
    "    d = {}\n",
    "    for key in ['id', 'feature_id', 'value']:       ## 4. Create numpy arrays that contain the data for the sparse matrix.\n",
    "      d[key] = np.array(x[key])\n",
    "\n",
    "    width,  height = x['id'].max() + 1, x['feature_id'].max() + 1    \n",
    "    mat = csr_matrix((d['value'], (d['id'], d['feature_id'])),   \n",
    "                     shape=(width, height))         ## 5. Create a sparse matrix.\n",
    "    return mat, mapping"
   ]
  },
  {
   "cell_type": "code",
   "execution_count": 18,
   "metadata": {},
   "outputs": [
    {
     "name": "stdout",
     "output_type": "stream",
     "text": [
      "CPU times: user 2min 9s, sys: 2.46 s, total: 2min 12s\n",
      "Wall time: 25.8 s\n"
     ]
    }
   ],
   "source": [
    "%%time\n",
    "# The conversion will take about a minute or two.\n",
    "tf_idf, map_index_to_word = sframe_to_scipy(wiki, 'tf_idf')"
   ]
  },
  {
   "cell_type": "markdown",
   "metadata": {},
   "source": [
    "The above matrix contains a TF-IDF score for each of the 59071 pages in the data set and each of the 547979 unique words."
   ]
  },
  {
   "cell_type": "code",
   "execution_count": 19,
   "metadata": {},
   "outputs": [
    {
     "data": {
      "text/plain": [
       "(59071, 547979)"
      ]
     },
     "execution_count": 19,
     "metadata": {},
     "output_type": "execute_result"
    }
   ],
   "source": [
    "tf_idf.shape"
   ]
  },
  {
   "cell_type": "markdown",
   "metadata": {},
   "source": [
    "## Normalize all vectors"
   ]
  },
  {
   "cell_type": "markdown",
   "metadata": {},
   "source": [
    "As discussed in the previous assignment, Euclidean distance can be a poor metric of similarity between documents, as it unfairly penalizes long articles. For a reasonable assessment of similarity, we should disregard the length information and use length-agnostic metrics, such as cosine distance.\n",
    "\n",
    "The k-means algorithm does not directly work with cosine distance, so we take an alternative route to remove length information: we normalize all vectors to be unit length. It turns out that Euclidean distance closely mimics cosine distance when all vectors are unit length. In particular, the squared Euclidean distance between any two vectors of length one is directly proportional to their cosine distance.\n",
    "\n",
    "We can prove this as follows. Let $\\mathbf{x}$ and $\\mathbf{y}$ be normalized vectors, i.e. unit vectors, so that $\\|\\mathbf{x}\\|=\\|\\mathbf{y}\\|=1$. Write the squared Euclidean distance as the dot product of $(\\mathbf{x} - \\mathbf{y})$ to itself:\n",
    "\\begin{align*}\n",
    "\\|\\mathbf{x} - \\mathbf{y}\\|^2 &= (\\mathbf{x} - \\mathbf{y})^T(\\mathbf{x} - \\mathbf{y})\\\\\n",
    "                              &= (\\mathbf{x}^T \\mathbf{x}) - 2(\\mathbf{x}^T \\mathbf{y}) + (\\mathbf{y}^T \\mathbf{y})\\\\\n",
    "                              &= \\|\\mathbf{x}\\|^2 - 2(\\mathbf{x}^T \\mathbf{y}) + \\|\\mathbf{y}\\|^2\\\\\n",
    "                              &= 2 - 2(\\mathbf{x}^T \\mathbf{y})\\\\\n",
    "                              &= 2(1 - (\\mathbf{x}^T \\mathbf{y}))\\\\\n",
    "                              &= 2\\left(1 - \\frac{\\mathbf{x}^T \\mathbf{y}}{\\|\\mathbf{x}\\|\\|\\mathbf{y}\\|}\\right)\\\\\n",
    "                              &= 2\\left[\\text{cosine distance}\\right]\n",
    "\\end{align*}\n",
    "\n",
    "This tells us that two **unit vectors** that are close in Euclidean distance are also close in cosine distance. Thus, the k-means algorithm (which naturally uses Euclidean distances) on normalized vectors will produce the same results as clustering using cosine distance as a distance metric.\n",
    "\n",
    "We import the [`normalize()` function](http://scikit-learn.org/stable/modules/generated/sklearn.preprocessing.normalize.html) from scikit-learn to normalize all vectors to unit length."
   ]
  },
  {
   "cell_type": "code",
   "execution_count": 20,
   "metadata": {},
   "outputs": [],
   "source": [
    "from sklearn.preprocessing import normalize\n",
    "tf_idf = normalize(tf_idf)"
   ]
  },
  {
   "cell_type": "markdown",
   "metadata": {},
   "source": [
    "## Implement k-means"
   ]
  },
  {
   "cell_type": "markdown",
   "metadata": {},
   "source": [
    "Let us implement the k-means algorithm. First, we choose an initial set of centroids. A common practice is to choose randomly from the data points.\n",
    "\n",
    "**Note:** We specify a seed here, so that everyone gets the same answer. In practice, we highly recommend to use different seeds every time (for instance, by using the current timestamp)."
   ]
  },
  {
   "cell_type": "code",
   "execution_count": 21,
   "metadata": {},
   "outputs": [],
   "source": [
    "def get_initial_centroids(data, k, seed=None):\n",
    "    '''Randomly choose k data points as initial centroids'''\n",
    "    if seed is not None: np.random.seed(seed)  ## useful for obtaining consistent results\n",
    "      \n",
    "    n = data.shape[0]                          ## number of data points\n",
    "    rand_indices = np.random.randint(0, n, k)  ## Pick K indices from range [0, n).\n",
    "     \n",
    "    ## Keep centroids as dense format, as many entries will be nonzero due to averaging.\n",
    "    ## As long as at least one document in a cluster contains a word,\n",
    "    ## it will carry a nonzero weight in the TF-IDF vector of the centroid.\n",
    "    return data[rand_indices, :].toarray()"
   ]
  },
  {
   "cell_type": "markdown",
   "metadata": {},
   "source": [
    "After initialization, the k-means algorithm iterates between the following two steps:\n",
    "1. Assign each data point to the closest centroid.\n",
    "$$\n",
    "z_i \\gets \\mathrm{argmin}_j \\|\\mu_j - \\mathbf{x}_i\\|^2\n",
    "$$\n",
    "2. Revise centroids as the mean of the assigned data points.\n",
    "$$\n",
    "\\mu_j \\gets \\frac{1}{n_j}\\sum_{i:z_i=j} \\mathbf{x}_i\n",
    "$$"
   ]
  },
  {
   "cell_type": "markdown",
   "metadata": {},
   "source": [
    "In pseudocode, we iteratively do the following:\n",
    "```\n",
    "cluster_assignment = assign_clusters(data, centroids)\n",
    "centroids = revise_centroids(data, k, cluster_assignment)\n",
    "```"
   ]
  },
  {
   "cell_type": "markdown",
   "metadata": {},
   "source": [
    "### Assigning clusters"
   ]
  },
  {
   "cell_type": "markdown",
   "metadata": {},
   "source": [
    "How do we implement Step 1 of the main k-means loop above? <br />\n",
    "First import `pairwise_distances` function from scikit-learn, which calculates Euclidean distances between rows of given arrays. See [this documentation](http://scikit-learn.org/stable/modules/generated/sklearn.metrics.pairwise.pairwise_distances.html) for more information.\n",
    "\n",
    "For the sake of demonstration, let's look at documents 100 through 102 as query documents and compute the distances between each of these documents and every other document in the corpus. <br />\n",
    "In the k-means algorithm, we will have to compute pairwise distances between the set of centroids and the set of documents."
   ]
  },
  {
   "cell_type": "code",
   "execution_count": 22,
   "metadata": {},
   "outputs": [
    {
     "data": {
      "text/plain": [
       "array([[1.41000789, 1.36894636],\n",
       "       [1.40935215, 1.41023886],\n",
       "       [1.39855967, 1.40890299],\n",
       "       ...,\n",
       "       [1.41108296, 1.39123646],\n",
       "       [1.41022804, 1.31468652],\n",
       "       [1.39899784, 1.41072448]])"
      ]
     },
     "execution_count": 22,
     "metadata": {},
     "output_type": "execute_result"
    }
   ],
   "source": [
    "from sklearn.metrics import pairwise_distances\n",
    "\n",
    "queries = tf_idf[100:102, :]                                   ## Get the TF-IDF vectors for documents 100 through 102.\n",
    "dist = pairwise_distances(tf_idf, queries, metric='euclidean') ## Compute pairwise distances from every data point to each query vector.\n",
    "dist"
   ]
  },
  {
   "cell_type": "markdown",
   "metadata": {},
   "source": [
    "More formally, `dist[i,j]` is assigned the distance between the `i`th row of `X` (i.e., `X[i, :]`) and the `j`th row of `Y` (i.e., `Y[j, :]`)."
   ]
  },
  {
   "cell_type": "markdown",
   "metadata": {},
   "source": [
    "**Checkpoint:** For a moment, suppose that we initialize three centroids with the first 3 rows of `tf_idf`. <br />\n",
    "Write code to compute distances from each of the centroids to all data points in `tf_idf`. <br />\n",
    "Then find the distance between row 430 of `tf_idf` and the second centroid and save it to `dist`."
   ]
  },
  {
   "cell_type": "code",
   "execution_count": 29,
   "metadata": {},
   "outputs": [],
   "source": [
    "## Students should write code here\n",
    "centroids3 = tf_idf[0:3, :]                                          ## 0, 1 and 2\n",
    "dist3 = pairwise_distances(tf_idf, centroids3, metric='euclidean')   ## pairwise distance between all data points and our 3 selected centroids\n",
    "dist = dist3[430][1]                                                 ## dist row 430, 2nd centrois (centroids3[1])"
   ]
  },
  {
   "cell_type": "code",
   "execution_count": 32,
   "metadata": {},
   "outputs": [],
   "source": [
    "'''Test cell'''\n",
    "assert np.allclose(dist, pairwise_distances(tf_idf[430,:], tf_idf[1,:]))"
   ]
  },
  {
   "cell_type": "markdown",
   "metadata": {},
   "source": [
    "**Checkpoint:** Next, given the pairwise distances, we take the minimum of the distances for each data point. Fittingly, NumPy provides an `argmin` function. See [this documentation](http://docs.scipy.org/doc/numpy-1.10.1/reference/generated/numpy.argmin.html) for details.\n",
    "\n",
    "Read the documentation and write code to produce a 1D array whose i-th entry indicates the centroid that is the closest to the i-th data point. Use the list of distances from the previous checkpoint and save them as `dist3`. The value 0 indicates closeness to the first centroid, 1 indicates closeness to the second centroid, and so forth. Save this array as `closest_cluster`.\n",
    "\n",
    "**Hint:** the resulting array should be as long as the number of data points."
   ]
  },
  {
   "cell_type": "code",
   "execution_count": 40,
   "metadata": {},
   "outputs": [],
   "source": [
    "## Students should write code here\n",
    "closest_cluster = np.argmin(dist3, axis=1)\n",
    "assert len(closest_cluster) == len(dist3)    ## len(dist3) == 59071"
   ]
  },
  {
   "cell_type": "code",
   "execution_count": 44,
   "metadata": {},
   "outputs": [],
   "source": [
    "'''Test cell'''\n",
    "reference = [list(r).index(min(r)) for r in dist3]\n",
    "assert np.allclose(closest_cluster, reference)"
   ]
  },
  {
   "cell_type": "markdown",
   "metadata": {},
   "source": [
    "**Checkpoint:** Let's put these steps together.  \n",
    "  - first, initialize three centroids with the first 3 rows of `tf_idf` / DONE\n",
    "  - compute distances from each of the centroids to all data points in `tf_idf` / DONE \n",
    "  - finally, use these distance calculations to compute cluster assignments and assign them to `cluster_assignment` / DONE => just renaming!"
   ]
  },
  {
   "cell_type": "code",
   "execution_count": 45,
   "metadata": {},
   "outputs": [],
   "source": [
    "## Students should write code here\n",
    "cluster_assignment = closest_cluster"
   ]
  },
  {
   "cell_type": "code",
   "execution_count": 47,
   "metadata": {},
   "outputs": [],
   "source": [
    "assert len(cluster_assignment) == 59071 and \\\n",
    "np.array_equal(np.bincount(cluster_assignment), np.array([23061, 10086, 25924])) #:"
   ]
  },
  {
   "cell_type": "markdown",
   "metadata": {},
   "source": [
    "Now we are ready to fill in the blanks in this function:"
   ]
  },
  {
   "cell_type": "code",
   "execution_count": 48,
   "metadata": {},
   "outputs": [],
   "source": [
    "def assign_clusters(data, centroids):\n",
    "    ## Compute distances between each data point and the set of centroids:\n",
    "    distances_from_centroids = pairwise_distances(data, centroids, metric='euclidean')\n",
    "    ## Compute cluster assignments for each data point:\n",
    "    cluster_assignment = np.argmin(distances_from_centroids, axis=1)\n",
    "    return cluster_assignment"
   ]
  },
  {
   "cell_type": "markdown",
   "metadata": {},
   "source": [
    "**Checkpoint**. For the last time, let us check if Step 1 was implemented correctly. With rows 0, 2, 4, and 6 of `tf_idf` as an initial set of centroids, we assign cluster labels to rows 0, 10, 20, ..., and 90 of `tf_idf`. The resulting cluster labels should be `[0, 1, 1, 0, 0, 2, 0, 2, 2, 1]`."
   ]
  },
  {
   "cell_type": "code",
   "execution_count": 50,
   "metadata": {},
   "outputs": [],
   "source": [
    "assert np.allclose(assign_clusters(tf_idf[0:100:10], tf_idf[0:8:2]), \n",
    "                   np.array([0, 1, 1, 0, 0, 2, 0, 2, 2, 1]))"
   ]
  },
  {
   "cell_type": "markdown",
   "metadata": {},
   "source": [
    "### Revising clusters"
   ]
  },
  {
   "cell_type": "markdown",
   "metadata": {},
   "source": [
    "Let's turn to Step 2, where we compute the new centroids given the cluster assignments. "
   ]
  },
  {
   "cell_type": "markdown",
   "metadata": {},
   "source": [
    "SciPy and NumPy arrays allow for filtering via Boolean masks. For instance, we filter all data points that are assigned to cluster 0 by writing\n",
    "```\n",
    "data[cluster_assignment==0, :]\n",
    "```"
   ]
  },
  {
   "cell_type": "markdown",
   "metadata": {},
   "source": [
    "To develop intuition about filtering, let's look at a toy example consisting of 3 data points and 2 clusters."
   ]
  },
  {
   "cell_type": "code",
   "execution_count": 51,
   "metadata": {},
   "outputs": [],
   "source": [
    "data = np.array([[1., 2., 0.],\n",
    "                 [0., 0., 0.],\n",
    "                 [2., 2., 0.]])\n",
    "\n",
    "centroids = np.array([[0.5, 0.5, 0.],\n",
    "                      [0., -0.5, 0.]])"
   ]
  },
  {
   "cell_type": "markdown",
   "metadata": {},
   "source": [
    "Let's assign these data points to the closest centroid."
   ]
  },
  {
   "cell_type": "code",
   "execution_count": 52,
   "metadata": {},
   "outputs": [
    {
     "data": {
      "text/plain": [
       "array([0, 1, 0])"
      ]
     },
     "execution_count": 52,
     "metadata": {},
     "output_type": "execute_result"
    }
   ],
   "source": [
    "cluster_assignment = assign_clusters(data, centroids)\n",
    "cluster_assignment  # 1st data point(dp) to 1st cluster, 2nd dp to 2nd and 3rd fp to 1st cluster"
   ]
  },
  {
   "cell_type": "markdown",
   "metadata": {},
   "source": [
    "The expression `cluster_assignment==1` gives a list of Booleans that says whether each data point is assigned to cluster 1 or not <br />\n",
    "And likewise for cluster 0:"
   ]
  },
  {
   "cell_type": "code",
   "execution_count": 53,
   "metadata": {},
   "outputs": [
    {
     "data": {
      "text/plain": [
       "(array([False,  True, False]), array([ True, False,  True]))"
      ]
     },
     "execution_count": 53,
     "metadata": {},
     "output_type": "execute_result"
    }
   ],
   "source": [
    "cluster_assignment == 1, cluster_assignment == 0"
   ]
  },
  {
   "cell_type": "markdown",
   "metadata": {},
   "source": [
    "In lieu of indices, we can put in the list of Booleans to pick and choose rows. Only the rows that correspond to a `True` entry will be retained.\n",
    "\n",
    "First, let's look at the data points (i.e., their values) assigned to cluster 1:"
   ]
  },
  {
   "cell_type": "code",
   "execution_count": 54,
   "metadata": {},
   "outputs": [
    {
     "data": {
      "text/plain": [
       "array([[0., 0., 0.]])"
      ]
     },
     "execution_count": 54,
     "metadata": {},
     "output_type": "execute_result"
    }
   ],
   "source": [
    "data[cluster_assignment == 1]"
   ]
  },
  {
   "cell_type": "markdown",
   "metadata": {},
   "source": [
    "This makes sense since [0 0 0] is closer to [0 -0.5 0] than to [0.5 0.5 0].\n",
    "\n",
    "Now let's look at the data points assigned to cluster 0:"
   ]
  },
  {
   "cell_type": "code",
   "execution_count": 55,
   "metadata": {},
   "outputs": [
    {
     "data": {
      "text/plain": [
       "array([[1., 2., 0.],\n",
       "       [2., 2., 0.]])"
      ]
     },
     "execution_count": 55,
     "metadata": {},
     "output_type": "execute_result"
    }
   ],
   "source": [
    "data[cluster_assignment == 0]"
   ]
  },
  {
   "cell_type": "markdown",
   "metadata": {},
   "source": [
    "Again, this makes sense since these values are each closer to [0.5 0.5 0] than to [0 -0.5 0].\n",
    "\n",
    "Given all the data points in a cluster, it only remains to compute the mean. Use [np.mean()](http://docs.scipy.org/doc/numpy-1.10.0/reference/generated/numpy.mean.html). By default, the function averages all elements in a 2D array. To compute row-wise or column-wise means, add the `axis` argument. See the linked documentation for details. \n",
    "\n",
    "Use this function to average the data points in cluster 0:"
   ]
  },
  {
   "cell_type": "code",
   "execution_count": 56,
   "metadata": {},
   "outputs": [
    {
     "data": {
      "text/plain": [
       "array([1.5, 2. , 0. ])"
      ]
     },
     "execution_count": 56,
     "metadata": {},
     "output_type": "execute_result"
    }
   ],
   "source": [
    "data[cluster_assignment == 0].mean(axis=0)  #  mean over cols, hence axis=0"
   ]
  },
  {
   "cell_type": "markdown",
   "metadata": {},
   "source": [
    "We are now ready to complete this function:"
   ]
  },
  {
   "cell_type": "code",
   "execution_count": 60,
   "metadata": {},
   "outputs": [],
   "source": [
    "def revise_centroids(data, k, cluster_assignment):\n",
    "    new_centroids = []\n",
    "    for ix in range(k):\n",
    "        member_data_points = data[cluster_assignment == ix]     ## 1. Select all data points that belong to cluster ix\n",
    "        centroid = data[cluster_assignment == ix].mean(axis=0)  ## 2. Compute the mean of the data points.\n",
    "        centroid = centroid.A1                                  ## 3. Convert numpy.matrix type to numpy.ndarray type\n",
    "        new_centroids.append(centroid)\n",
    "    #\n",
    "    return np.array(new_centroids)"
   ]
  },
  {
   "cell_type": "markdown",
   "metadata": {},
   "source": [
    "**Checkpoint**. Let's check our Step 2 implementation. Letting rows 0, 10, ..., 90 of `tf_idf` as the data points and the cluster labels `[0, 1, 1, 0, 0, 2, 0, 2, 2, 1]`, we compute the next set of centroids. Each centroid is given by the average of all member data points in corresponding cluster."
   ]
  },
  {
   "cell_type": "code",
   "execution_count": 62,
   "metadata": {},
   "outputs": [],
   "source": [
    "result = revise_centroids(tf_idf[0:100:10], 3, np.array([0, 1, 1, 0, 0, 2, 0, 2, 2, 1]))\n",
    "\n",
    "assert np.allclose(result[0], np.mean(tf_idf[[0,30,40,60]].toarray(), axis=0)) and \\\n",
    "   np.allclose(result[1], np.mean(tf_idf[[10,20,90]].toarray(), axis=0))   and \\\n",
    "   np.allclose(result[2], np.mean(tf_idf[[50,70,80]].toarray(), axis=0))"
   ]
  },
  {
   "cell_type": "markdown",
   "metadata": {},
   "source": [
    "### Assessing convergence"
   ]
  },
  {
   "cell_type": "markdown",
   "metadata": {},
   "source": [
    "How can we tell if the k-means algorithm is converging? <br />\n",
    "We can look at the cluster assignments and see if they stabilize over time. In fact, we'll be running the algorithm until the cluster assignments stop changing at all. <br />\n",
    "To be extra safe, and to assess the clustering performance, we'll be looking at an additional criteria: *the sum of all squared distances between data points and centroids*. <br />\n",
    "This is defined as\n",
    "$$\n",
    "J(\\mathcal{Z},\\mu) = \\sum_{j=1}^k \\sum_{i:z_i = j} \\|\\mathbf{x}_i - \\mu_j\\|^2.\n",
    "$$\n",
    "The smaller the distances, the more homogeneous the clusters are. In other words, we'd like to have \"tight\" clusters."
   ]
  },
  {
   "cell_type": "code",
   "execution_count": 65,
   "metadata": {},
   "outputs": [],
   "source": [
    "def compute_heterogeneity(data, k, centroids, cluster_assignment):\n",
    "    heterogeneity = 0.0\n",
    "    for ix in range(k):\n",
    "        member_dpts = data[cluster_assignment == ix, :]   ## Select all data points that belong to cluster ix\n",
    "        if member_dpts.shape[0] > 0:                      ## check if i-th cluster is non-empty\n",
    "            distances = pairwise_distances(member_dpts,   ## Compute distances from centroid to data points\n",
    "                                           [centroids[ix]], metric='euclidean')\n",
    "            heterogeneity += np.sum(distances ** 2)\n",
    "    return heterogeneity"
   ]
  },
  {
   "cell_type": "markdown",
   "metadata": {},
   "source": [
    "Let's compute the cluster heterogeneity for the 2-cluster example we've been considering based on our current cluster assignments and centroids."
   ]
  },
  {
   "cell_type": "code",
   "execution_count": 66,
   "metadata": {},
   "outputs": [
    {
     "data": {
      "text/plain": [
       "7.25"
      ]
     },
     "execution_count": 66,
     "metadata": {},
     "output_type": "execute_result"
    }
   ],
   "source": [
    "compute_heterogeneity(data, 2, centroids, cluster_assignment)"
   ]
  },
  {
   "cell_type": "markdown",
   "metadata": {},
   "source": [
    "### Combining into a single function"
   ]
  },
  {
   "cell_type": "markdown",
   "metadata": {},
   "source": [
    "Once the two k-means steps have been implemented, as well as our heterogeneity metric we wish to monitor, it is only a matter of putting these functions together to write a k-means algorithm that\n",
    "\n",
    "* Repeatedly performs Steps 1 and 2\n",
    "* Tracks convergence metrics\n",
    "* Stops if either no assignment changed or we reach a certain number of iterations."
   ]
  },
  {
   "cell_type": "code",
   "execution_count": 81,
   "metadata": {},
   "outputs": [],
   "source": [
    "# Fill in the blanks\n",
    "def kmeans(data, k, init_centroids, maxiter, record_heterogeneity=None, verbose=False):\n",
    "    '''This function runs k-means on given data and initial set of centroids.\n",
    "       maxiter: maximum number of iterations to run.\n",
    "       record_heterogeneity: (optional) a list, to store the history of heterogeneity as function of iterations\n",
    "                             if None, do not store the history.\n",
    "       verbose: if True, print how many data points changed their cluster labels in each iteration'''\n",
    "    centroids = init_centroids[:]\n",
    "    prev_cluster_assign = None\n",
    "    for itr in range(maxiter):        \n",
    "        if verbose: print(itr, end=' ')\n",
    "        \n",
    "        cluster_assign = assign_clusters(data, centroids)       ## 1. Make cluster assignments using nearest centroids\n",
    "        centroids = revise_centroids(data, k, cluster_assign)   ## 2. Compute a new centroid for each of the k clusters, averaging all data points assigned to that cluster.\n",
    "        if prev_cluster_assign is not None and \\\n",
    "          (prev_cluster_assign == cluster_assign).all():        ## 3. Check for convergence: if none of the assignments changed, stop\n",
    "            break                                             \n",
    "\n",
    "        if prev_cluster_assign is not None:                     ## 4. Print number of new assignments \n",
    "            num_changed = np.sum(prev_cluster_assign != cluster_assign)\n",
    "            if verbose: print(f'\\t{num_changed:5d} elements changed their cluster assignment.')\n",
    "        \n",
    "        if record_heterogeneity is not None:                    ## 5. Record heterogeneity convergence metric\n",
    "            score = compute_heterogeneity(data, k, centroids, cluster_assign)\n",
    "            record_heterogeneity.append(score)\n",
    "        \n",
    "        prev_cluster_assign = cluster_assign[:]                 ## Copy (and not a ref.)\n",
    "    #    \n",
    "    return centroids, cluster_assign"
   ]
  },
  {
   "cell_type": "markdown",
   "metadata": {},
   "source": [
    "## Plotting convergence metric"
   ]
  },
  {
   "cell_type": "markdown",
   "metadata": {},
   "source": [
    "We can use the above function to plot the convergence metric across iterations."
   ]
  },
  {
   "cell_type": "code",
   "execution_count": 82,
   "metadata": {},
   "outputs": [],
   "source": [
    "def plot_heterogeneity(heterogeneity, k):\n",
    "    plt.figure(figsize=(7,4))\n",
    "    plt.plot(heterogeneity, linewidth=4)\n",
    "    plt.xlabel('# Iterations')\n",
    "    plt.ylabel('Heterogeneity')\n",
    "    plt.title('Heterogeneity of clustering over time, K={0:d}'.format(k))\n",
    "    plt.rcParams.update({'font.size': 16})\n",
    "    plt.tight_layout()"
   ]
  },
  {
   "cell_type": "markdown",
   "metadata": {},
   "source": [
    "Let's consider running k-means with K=3 clusters for a maximum of 400 iterations, recording cluster heterogeneity at every step.  Then, let's plot the heterogeneity over iterations using the plotting function above."
   ]
  },
  {
   "cell_type": "code",
   "execution_count": 83,
   "metadata": {
    "scrolled": true
   },
   "outputs": [
    {
     "name": "stdout",
     "output_type": "stream",
     "text": [
      "0 1 \t19157 elements changed their cluster assignment.\n",
      "2 \t 7739 elements changed their cluster assignment.\n",
      "3 \t 5119 elements changed their cluster assignment.\n",
      "4 \t 3370 elements changed their cluster assignment.\n",
      "5 \t 2811 elements changed their cluster assignment.\n",
      "6 \t 3233 elements changed their cluster assignment.\n",
      "7 \t 3815 elements changed their cluster assignment.\n",
      "8 \t 3172 elements changed their cluster assignment.\n",
      "9 \t 1149 elements changed their cluster assignment.\n",
      "10 \t  498 elements changed their cluster assignment.\n",
      "11 \t  265 elements changed their cluster assignment.\n",
      "12 \t  149 elements changed their cluster assignment.\n",
      "13 \t  100 elements changed their cluster assignment.\n",
      "14 \t   76 elements changed their cluster assignment.\n",
      "15 \t   67 elements changed their cluster assignment.\n",
      "16 \t   51 elements changed their cluster assignment.\n",
      "17 \t   47 elements changed their cluster assignment.\n",
      "18 \t   40 elements changed their cluster assignment.\n",
      "19 \t   34 elements changed their cluster assignment.\n",
      "20 \t   35 elements changed their cluster assignment.\n",
      "21 \t   39 elements changed their cluster assignment.\n",
      "22 \t   24 elements changed their cluster assignment.\n",
      "23 \t   16 elements changed their cluster assignment.\n",
      "24 \t   12 elements changed their cluster assignment.\n",
      "25 \t   14 elements changed their cluster assignment.\n",
      "26 \t   17 elements changed their cluster assignment.\n",
      "27 \t   15 elements changed their cluster assignment.\n",
      "28 \t   14 elements changed their cluster assignment.\n",
      "29 \t   16 elements changed their cluster assignment.\n",
      "30 \t   21 elements changed their cluster assignment.\n",
      "31 \t   22 elements changed their cluster assignment.\n",
      "32 \t   33 elements changed their cluster assignment.\n",
      "33 \t   35 elements changed their cluster assignment.\n",
      "34 \t   39 elements changed their cluster assignment.\n",
      "35 \t   36 elements changed their cluster assignment.\n",
      "36 \t   36 elements changed their cluster assignment.\n",
      "37 \t   25 elements changed their cluster assignment.\n",
      "38 \t   27 elements changed their cluster assignment.\n",
      "39 \t   25 elements changed their cluster assignment.\n",
      "40 \t   28 elements changed their cluster assignment.\n",
      "41 \t   35 elements changed their cluster assignment.\n",
      "42 \t   31 elements changed their cluster assignment.\n",
      "43 \t   25 elements changed their cluster assignment.\n",
      "44 \t   18 elements changed their cluster assignment.\n",
      "45 \t   15 elements changed their cluster assignment.\n",
      "46 \t   10 elements changed their cluster assignment.\n",
      "47 \t    8 elements changed their cluster assignment.\n",
      "48 \t    8 elements changed their cluster assignment.\n",
      "49 \t    8 elements changed their cluster assignment.\n",
      "50 \t    7 elements changed their cluster assignment.\n",
      "51 \t    8 elements changed their cluster assignment.\n",
      "52 \t    3 elements changed their cluster assignment.\n",
      "53 \t    3 elements changed their cluster assignment.\n",
      "54 \t    4 elements changed their cluster assignment.\n",
      "55 \t    2 elements changed their cluster assignment.\n",
      "56 \t    3 elements changed their cluster assignment.\n",
      "57 \t    3 elements changed their cluster assignment.\n",
      "58 \t    1 elements changed their cluster assignment.\n",
      "59 \t    1 elements changed their cluster assignment.\n",
      "60 "
     ]
    }
   ],
   "source": [
    "k = 3\n",
    "heterogeneity = []\n",
    "initial_centroids = get_initial_centroids(tf_idf, k, seed=0)\n",
    "centroids, cluster_assignment = kmeans(tf_idf, k, initial_centroids, maxiter=400,\n",
    "                                       record_heterogeneity=heterogeneity, verbose=True)\n"
   ]
  },
  {
   "cell_type": "code",
   "execution_count": 84,
   "metadata": {
    "scrolled": true
   },
   "outputs": [
    {
     "data": {
      "image/png": "[encoded data removed]",
      "text/plain": [
       "<Figure size 504x288 with 1 Axes>"
      ]
     },
     "metadata": {
      "needs_background": "light"
     },
     "output_type": "display_data"
    }
   ],
   "source": [
    "plot_heterogeneity(heterogeneity, k)"
   ]
  },
  {
   "cell_type": "code",
   "execution_count": 86,
   "metadata": {},
   "outputs": [
    {
     "data": {
      "text/plain": [
       "(array([[5.87110231e-05, 1.31110010e-05, 7.99378431e-05, ...,\n",
       "         4.92760843e-06, 4.65411605e-06, 0.00000000e+00],\n",
       "        [5.14216584e-04, 4.12735366e-04, 1.34328522e-04, ...,\n",
       "         0.00000000e+00, 0.00000000e+00, 0.00000000e+00],\n",
       "        [7.31599344e-05, 1.70980163e-05, 6.56023275e-05, ...,\n",
       "         0.00000000e+00, 7.08812731e-06, 3.78271853e-06]]),\n",
       " array([1, 2, 0, ..., 1, 1, 2]),\n",
       " 3,\n",
       " 59071)"
      ]
     },
     "execution_count": 86,
     "metadata": {},
     "output_type": "execute_result"
    }
   ],
   "source": [
    "centroids, cluster_assignment, len(centroids), len(cluster_assignment)"
   ]
  },
  {
   "cell_type": "code",
   "execution_count": 87,
   "metadata": {},
   "outputs": [
    {
     "name": "stdout",
     "output_type": "stream",
     "text": [
      "cluster  0 has 19595 data points\n",
      "cluster  1 has 10427 data points\n",
      "cluster  2 has 29049 data points\n"
     ]
    }
   ],
   "source": [
    "for ix in range(3):\n",
    "  ndp = np.sum(cluster_assignment == ix)\n",
    "  print(f\"cluster {ix:2d} has {ndp} data points\")  \n",
    "## equiv. np.bincount(...)"
   ]
  },
  {
   "cell_type": "markdown",
   "metadata": {},
   "source": [
    "**Quiz Question**. (True/False) The clustering objective (heterogeneity) is non-increasing for this example.\n",
    "  - True"
   ]
  },
  {
   "cell_type": "markdown",
   "metadata": {},
   "source": [
    "**Quiz Question**. Let's step back from this particular example. If the clustering objective (heterogeneity) would ever increase when running k-means, that would indicate: (choose one)\n",
    "\n",
    "  1. [ ] k-means algorithm got stuck in a bad local minimum\n",
    "  2. [x] There is a bug in the k-means code\n",
    "  3. [ ] All data points consist of exact duplicates\n",
    "  4. [ ] Nothing is wrong. The objective should generally go down sooner or later."
   ]
  },
  {
   "cell_type": "markdown",
   "metadata": {},
   "source": [
    "**Quiz Question**. Which of the cluster contains the greatest number of data points in the end? Hint: Use [`np.bincount()`](http://docs.scipy.org/doc/numpy-1.11.0/reference/generated/numpy.bincount.html) to count occurrences of each cluster label.\n",
    "  1. [ ] Cluster #0\n",
    "  2. [ ] Cluster #1\n",
    "  3. [x] Cluster #2  \n",
    "     cf. cell below."
   ]
  },
  {
   "cell_type": "code",
   "execution_count": 93,
   "metadata": {},
   "outputs": [
    {
     "data": {
      "text/plain": [
       "(array([1, 2, 0, ..., 1, 1, 2]), array([19595, 10427, 29049]), 2)"
      ]
     },
     "execution_count": 93,
     "metadata": {},
     "output_type": "execute_result"
    }
   ],
   "source": [
    "clu_cnt = np.bincount(cluster_assignment)\n",
    "cluster_assignment, clu_cnt, np.argmax(clu_cnt)"
   ]
  },
  {
   "cell_type": "markdown",
   "metadata": {},
   "source": [
    "## Beware of local maxima"
   ]
  },
  {
   "cell_type": "markdown",
   "metadata": {},
   "source": [
    "One weakness of k-means is that it tends to get stuck in a local minimum. To see this, let us run k-means multiple times, with different initial centroids created using different random seeds.\n",
    "\n",
    "**Note:** Again, in practice, you should set different seeds for every run. We give you a list of seeds for this assignment so that everyone gets the same answer.\n",
    "\n",
    "This may take several minutes to run."
   ]
  },
  {
   "cell_type": "code",
   "execution_count": 106,
   "metadata": {
    "scrolled": false
   },
   "outputs": [],
   "source": [
    "import time\n",
    "\n",
    "def run_kmeans_with_multi_seeds(tf_idf, k=10, init='random'):\n",
    "  heterogeneity = {}\n",
    "  cluster_assign_h = {}\n",
    "  start = time.time()\n",
    "  m_ix_largest_clu, m_larg_clu_sz = -1, -1\n",
    "  \n",
    "  for seed in [0, 20000, 40000, 60000, 80000, 100000, 120000]:\n",
    "    init_centroids = get_initial_centroids(tf_idf, k, seed) if init == 'random' \\\n",
    "      else smart_initialize(tf_idf, k, seed)\n",
    "    centroids, cluster_assign = kmeans(tf_idf, k, init_centroids, maxiter=400,\n",
    "                                       record_heterogeneity=None, verbose=False)\n",
    "    # To save time, compute heterogeneity only once in the end\n",
    "    heterogeneity[seed] = compute_heterogeneity(tf_idf, k, centroids, cluster_assign)\n",
    "    cluster_assign_h[seed] = np.bincount(cluster_assign)\n",
    "    ix_larg_clu = np.argmax(cluster_assign_h[seed])\n",
    "    larg_clu_sz = cluster_assign_h[seed][ix_larg_clu]\n",
    "    print(f'{time.time() - start:3.3f}sec.  seed={seed:6d}, heterogeneity={heterogeneity[seed]:.5f} ', \n",
    "          f'cluster_distribution={cluster_assign_h[seed]} / largest cluster: {ix_larg_clu} size: {larg_clu_sz}')\n",
    "    if larg_clu_sz > m_larg_clu_sz:\n",
    "       m_ix_largest_clu, m_larg_clu_sz = ix_larg_clu, larg_clu_sz\n",
    "    # sys.stdout.flush()\n",
    "  print(f\"took: {time.time() - start:3.3f} sec.\")\n",
    "  return (cluster_assign_h, heterogeneity)"
   ]
  },
  {
   "cell_type": "code",
   "execution_count": 107,
   "metadata": {},
   "outputs": [
    {
     "name": "stdout",
     "output_type": "stream",
     "text": [
      "13.379sec.  seed=     0, heterogeneity=57457.52442  cluster_distribution=[18047  3824  5671  6983  1492  1730  3882  3449  7139  6854] / largest cluster: 0 size: 18047\n",
      "23.013sec.  seed= 20000, heterogeneity=57533.20100  cluster_distribution=[ 3142   768  3566  2277 15779  7278  6146  7964  6666  5485] / largest cluster: 4 size: 15779\n",
      "33.021sec.  seed= 40000, heterogeneity=57512.69257  cluster_distribution=[ 5551  6623   186  2999  8487  3893  6807  2921  3472 18132] / largest cluster: 9 size: 18132\n",
      "40.764sec.  seed= 60000, heterogeneity=57466.97925  cluster_distribution=[ 3014  3089  6681  3856  8080  7222  3424   424  5381 17900] / largest cluster: 9 size: 17900\n",
      "69.023sec.  seed= 80000, heterogeneity=57494.92990  cluster_distribution=[17582  1785  7215  3314  6285   809  5930  6791  5536  3824] / largest cluster: 0 size: 17582\n",
      "77.673sec.  seed=100000, heterogeneity=57484.42210  cluster_distribution=[ 6618  1337  6191  2890 16969  4983  5242  3892  5562  5387] / largest cluster: 4 size: 16969\n",
      "93.500sec.  seed=120000, heterogeneity=57554.62410  cluster_distribution=[ 6118  5841  4964  8423  4302  3183 16481  1608  5524  2627] / largest cluster: 6 size: 16481\n",
      "took: 93.501 sec.\n"
     ]
    }
   ],
   "source": [
    "cluster_assign_wri,  heterogeneity_wri = run_kmeans_with_multi_seeds(tf_idf)  ## with random init"
   ]
  },
  {
   "cell_type": "markdown",
   "metadata": {},
   "source": [
    "Notice the variation in heterogeneity for different initializations. This indicates that k-means sometimes gets stuck at a bad local minimum."
   ]
  },
  {
   "cell_type": "markdown",
   "metadata": {},
   "source": [
    "**Quiz Question**. Another way to capture the effect of changing initialization is to look at the distribution of cluster assignments. <br />\n",
    "   - Add a line to the code above to compute the size (# of member data points) of clusters for each run of k-means. \n",
    "   - Look at the size of the largest cluster (most # of member data points) across multiple runs, with seeds 0, 20000, ..., 120000. \n",
    "  \n",
    "  How much does this measure vary across the runs? What is the minimum and maximum values this quantity takes?\n",
    "   -  cf. cell above => 18132"
   ]
  },
  {
   "cell_type": "markdown",
   "metadata": {},
   "source": [
    "One effective way to counter this tendency is to use **k-means++** to provide a smart initialization. <br />\n",
    "This method tries to spread out the initial set of centroids so that they are not too close together. It is known to improve the *quality of local optima* and *lower average runtime*."
   ]
  },
  {
   "cell_type": "code",
   "execution_count": 108,
   "metadata": {},
   "outputs": [],
   "source": [
    "def smart_initialize(data, k, seed=None):\n",
    "    '''Use k-means++ to initialize a good set of centroids'''\n",
    "    if seed is not None: np.random.seed(seed)\n",
    "    centroids = np.zeros((k, data.shape[1]))\n",
    "    \n",
    "    idx = np.random.randint(data.shape[0])               ## Randomly choose the first centroid. Since we have no prior knowledge, choose uniformly at random\n",
    "    centroids[0] = data[idx, :].toarray()\n",
    "    squared_distances = pairwise_distances(data,         ## Compute distances from the first centroid chosen to all the other data points\n",
    "                                           centroids[0:1], \n",
    "                                           metric='euclidean').flatten() ** 2\n",
    "    for ix in range(1, k):\n",
    "        ## Choose the next centroid randomly, so that the probability for each data point to be chosen\n",
    "        ## is directly proportional to its squared distance from the nearest centroid.\n",
    "        ## Roughtly speaking, a new centroid should be as far as from other centroids as possible.\n",
    "        idx = np.random.choice(data.shape[0], 1, p=squared_distances / sum(squared_distances))\n",
    "        centroids[ix] = data[idx, :].toarray()\n",
    "        ## Now compute distances from the centroids to all data points\n",
    "        squared_distances = np.min(pairwise_distances(data, centroids[0:ix + 1], \n",
    "                                                      metric='euclidean') ** 2, axis=1)\n",
    "    return centroids"
   ]
  },
  {
   "cell_type": "markdown",
   "metadata": {},
   "source": [
    "Let's now rerun k-means with 10 clusters using the same set of seeds, but always using k-means++ to initialize the algorithm.\n",
    "\n",
    "This may take several minutes to run."
   ]
  },
  {
   "cell_type": "code",
   "execution_count": 110,
   "metadata": {},
   "outputs": [
    {
     "name": "stdout",
     "output_type": "stream",
     "text": [
      "20.957sec.  seed=     0, heterogeneity=57468.63808  cluster_distribution=[19618  3857  4173  5219  1743  6900  5530  1348  4384  6299] / largest cluster: 0 size: 19618\n",
      "39.331sec.  seed= 20000, heterogeneity=57486.94263  cluster_distribution=[ 7132  1726  7419 20581  1941  5121  3777  3741   776  6857] / largest cluster: 3 size: 20581\n",
      "48.060sec.  seed= 40000, heterogeneity=57454.35926  cluster_distribution=[17602  3415  3535  1736  6445  2552  7106  7155   599  8926] / largest cluster: 0 size: 17602\n",
      "61.204sec.  seed= 60000, heterogeneity=57530.43659  cluster_distribution=[ 2655  9080  8047  2751 16942  1163  2810  6788  3389  5446] / largest cluster: 4 size: 16942\n",
      "78.835sec.  seed= 80000, heterogeneity=57454.51852  cluster_distribution=[ 6222  2024  6461  6765  5538 18352  3936  1563  1751  6459] / largest cluster: 5 size: 18352\n",
      "101.734sec.  seed=100000, heterogeneity=57471.56674  cluster_distribution=[ 6459  5477  5746 17792  3436  1346  1743  3792  8075  5205] / largest cluster: 3 size: 17792\n",
      "116.636sec.  seed=120000, heterogeneity=57523.28839  cluster_distribution=[ 3791  5186  1349 16549  7119  2625  8441  1131  6223  6657] / largest cluster: 3 size: 16549\n",
      "took: 116.637 sec.\n"
     ]
    }
   ],
   "source": [
    "cluster_assign_wsi, heterogeneity_wsi = run_kmeans_with_multi_seeds(tf_idf, init='smart')  ## with smart init (wsi)"
   ]
  },
  {
   "cell_type": "markdown",
   "metadata": {},
   "source": [
    "Let's compare the set of cluster heterogeneities we got from our 7 restarts of k-means using random initialization compared to the 7 restarts of k-means using k-means++ as a smart initialization.\n",
    "\n",
    "The following code produces a [box plot](http://matplotlib.org/api/pyplot_api.html) for each of these methods, indicating the spread of values produced by each method."
   ]
  },
  {
   "cell_type": "code",
   "execution_count": 111,
   "metadata": {},
   "outputs": [],
   "source": [
    "def box_plot(heterogeneity_wri, heterogeneity_wsi):\n",
    "  plt.figure(figsize=(8, 5))\n",
    "  plt.boxplot([list(heterogeneity_wri.values()), list(heterogeneity_wsi.values())], vert=False)\n",
    "  plt.yticks([1, 2], ['k-means', 'k-means++'])\n",
    "  plt.rcParams.update({'font.size': 16})\n",
    "  plt.tight_layout()"
   ]
  },
  {
   "cell_type": "code",
   "execution_count": 112,
   "metadata": {},
   "outputs": [
    {
     "data": {
      "image/png": "[encoded data removed]",
      "text/plain": [
       "<Figure size 576x360 with 1 Axes>"
      ]
     },
     "metadata": {
      "needs_background": "light"
     },
     "output_type": "display_data"
    }
   ],
   "source": [
    "box_plot(heterogeneity_wri, heterogeneity_wsi)"
   ]
  },
  {
   "cell_type": "markdown",
   "metadata": {},
   "source": [
    "A few things to notice from the box plot:\n",
    "* On average, k-means++ produces a better clustering than Random initialization.\n",
    "* Variation in clustering quality is smaller for k-means++."
   ]
  },
  {
   "cell_type": "markdown",
   "metadata": {},
   "source": [
    "**In general, you should run k-means at least a few times with different initializations and then return the run resulting in the lowest heterogeneity.** Let us write a function that runs k-means multiple times and picks the best run that minimizes heterogeneity. The function accepts an optional list of seed values to be used for the multiple runs; if no such list is provided, the current UTC time is used as seed values."
   ]
  },
  {
   "cell_type": "code",
   "execution_count": 122,
   "metadata": {},
   "outputs": [],
   "source": [
    "def kmeans_multiple_runs(data, k, maxiter, num_runs, seed_list=None, verbose=False):\n",
    "    heterogeneity = {}\n",
    "    min_heterogeneity_achieved = float('inf')\n",
    "    best_seed, final_centroids, final_cluster_assign= None, None, None\n",
    "    \n",
    "    start = time.time()\n",
    "    for ix in range(num_runs):\n",
    "        if seed_list is not None:                         ## Use UTC time if no seeds are provided  \n",
    "            seed = seed_list[ix]\n",
    "            np.random.seed(seed)\n",
    "        else: \n",
    "            seed = int(time.time())\n",
    "            np.random.seed(seed)\n",
    "    \n",
    "        init_centroids = smart_initialize(data, k, seed)  ## Use k-means++ initialization\n",
    "        centroids, cluster_assign = kmeans(data, k,       ## Run k-means\n",
    "                                           init_centroids, maxiter=maxiter,\n",
    "                                           record_heterogeneity=None, verbose=False)\n",
    "        \n",
    "        ## To save time, compute heterogeneity only once in the end\n",
    "        heterogeneity[seed] = compute_heterogeneity(data, k, centroids, cluster_assign)\n",
    "        \n",
    "        if verbose: print(f'{(time.time() - start):3.3f}sec. / k:{k} / seed={seed:6d}, heterogeneity={heterogeneity[seed]:.5f}')\n",
    "        # sys.stdout.flush()\n",
    "        \n",
    "        ## if current measurement of heterogeneity is lower than previously seen,\n",
    "        ## update the minimum record of heterogeneity.\n",
    "        if heterogeneity[seed] < min_heterogeneity_achieved:\n",
    "            min_heterogeneity_achieved = heterogeneity[seed]\n",
    "            best_seed = seed\n",
    "            final_centroids = centroids\n",
    "            final_cluster_assign = cluster_assign\n",
    "    \n",
    "    if verbose: print(f\"\\ttook: {(time.time() - start):3.3f} sec.\\n\\n\")\n",
    "    ## Return the centroids and cluster assignments that minimize heterogeneity.\n",
    "    return final_centroids, final_cluster_assign"
   ]
  },
  {
   "cell_type": "markdown",
   "metadata": {},
   "source": [
    "## How to choose K"
   ]
  },
  {
   "cell_type": "markdown",
   "metadata": {},
   "source": [
    "Since we are measuring the tightness of the clusters, a higher value of K reduces the possible heterogeneity metric by definition.  For example, if we have N data points and set K=N clusters, then we could have 0 cluster heterogeneity by setting the N centroids equal to the values of the N data points. <br />\n",
    "*Note: Not all runs for larger K will result in lower heterogeneity than a single run with smaller K due to local optima.* <br />  \n",
    "Let's explore this general trend for ourselves by performing the following analysis."
   ]
  },
  {
   "cell_type": "markdown",
   "metadata": {},
   "source": [
    "Use the `kmeans_multiple_runs` function to run k-means with five different values of K. <br />\n",
    "For each K, use k-means++ and multiple runs to pick the best solution.  <br />\n",
    "In what follows, we consider K=2,10,25,50,100 and 7 restarts for each setting.\n",
    "\n",
    "**IMPORTANT: The code block below will take about 10 minutes to finish**\n",
    "\n",
    "In order to speed up the computations, we run them with only one random seed, but for better performance, one should use more seeds and compare the results. If you don't mind running the code for approximately one hour, feel free to uncomment the following line of code below:\n",
    "\n",
    "`seed_list = [0]#, 20000, 40000, 60000, 80000, 100000, 120000]`\n",
    "\n",
    "Side note: In practice, a good implementation of k-means would utilize parallelism to run multiple runs of k-means at once. For an example, see [scikit-learn's KMeans](http://scikit-learn.org/stable/modules/generated/sklearn.cluster.KMeans.html)."
   ]
  },
  {
   "cell_type": "code",
   "execution_count": 123,
   "metadata": {},
   "outputs": [],
   "source": [
    "def plot_k_vs_heterogeneity(k_values, heterogeneity_values):\n",
    "    plt.figure(figsize=(7, 4))\n",
    "    plt.plot(k_values, heterogeneity_values, linewidth=4)\n",
    "    plt.xlabel('K')\n",
    "    plt.ylabel('Heterogeneity')\n",
    "    plt.title('K vs. Heterogeneity')\n",
    "    plt.rcParams.update({'font.size': 16})\n",
    "    plt.tight_layout()"
   ]
  },
  {
   "cell_type": "code",
   "execution_count": 124,
   "metadata": {
    "scrolled": true
   },
   "outputs": [
    {
     "name": "stdout",
     "output_type": "stream",
     "text": [
      "3.810sec. / k:2 / seed=     0, heterogeneity=58224.59913\n",
      "9.314sec. / k:2 / seed= 20000, heterogeneity=58179.57453\n",
      "14.298sec. / k:2 / seed= 40000, heterogeneity=58179.57453\n",
      "19.704sec. / k:2 / seed= 60000, heterogeneity=58179.57453\n",
      "30.241sec. / k:2 / seed= 80000, heterogeneity=58224.59952\n",
      "35.575sec. / k:2 / seed=100000, heterogeneity=58179.57453\n",
      "40.959sec. / k:2 / seed=120000, heterogeneity=58179.57453\n",
      "\ttook: 40.959 sec.\n",
      "\n",
      "\n",
      "20.596sec. / k:10 / seed=     0, heterogeneity=57468.63808\n",
      "39.412sec. / k:10 / seed= 20000, heterogeneity=57486.94263\n",
      "48.150sec. / k:10 / seed= 40000, heterogeneity=57454.35926\n",
      "61.170sec. / k:10 / seed= 60000, heterogeneity=57530.43659\n",
      "78.954sec. / k:10 / seed= 80000, heterogeneity=57454.51852\n",
      "101.398sec. / k:10 / seed=100000, heterogeneity=57471.56674\n",
      "116.392sec. / k:10 / seed=120000, heterogeneity=57523.28839\n",
      "\ttook: 116.392 sec.\n",
      "\n",
      "\n",
      "27.701sec. / k:25 / seed=     0, heterogeneity=56913.24052\n",
      "64.739sec. / k:25 / seed= 20000, heterogeneity=56961.01793\n",
      "99.569sec. / k:25 / seed= 40000, heterogeneity=56904.99744\n",
      "123.989sec. / k:25 / seed= 60000, heterogeneity=56858.67830\n",
      "193.027sec. / k:25 / seed= 80000, heterogeneity=56955.74619\n",
      "213.443sec. / k:25 / seed=100000, heterogeneity=56973.02116\n",
      "232.333sec. / k:25 / seed=120000, heterogeneity=56934.20148\n",
      "\ttook: 232.333 sec.\n",
      "\n",
      "\n",
      "58.866sec. / k:50 / seed=     0, heterogeneity=56399.72145\n",
      "129.631sec. / k:50 / seed= 20000, heterogeneity=56322.64583\n",
      "201.578sec. / k:50 / seed= 40000, heterogeneity=56314.32239\n",
      "252.499sec. / k:50 / seed= 60000, heterogeneity=56278.53939\n",
      "302.363sec. / k:50 / seed= 80000, heterogeneity=56353.54891\n",
      "365.076sec. / k:50 / seed=100000, heterogeneity=56303.94021\n",
      "427.131sec. / k:50 / seed=120000, heterogeneity=56361.37319\n",
      "\ttook: 427.131 sec.\n",
      "\n",
      "\n",
      "161.191sec. / k:100 / seed=     0, heterogeneity=55649.66538\n",
      "329.087sec. / k:100 / seed= 20000, heterogeneity=55587.56988\n",
      "491.838sec. / k:100 / seed= 40000, heterogeneity=55720.24668\n",
      "641.187sec. / k:100 / seed= 60000, heterogeneity=55616.64653\n",
      "786.218sec. / k:100 / seed= 80000, heterogeneity=55672.95812\n",
      "894.782sec. / k:100 / seed=100000, heterogeneity=55660.45384\n",
      "1027.502sec. / k:100 / seed=120000, heterogeneity=55735.28103\n",
      "\ttook: 1027.502 sec.\n",
      "\n",
      "\n",
      "CPU times: user 29min 24s, sys: 1min 24s, total: 30min 49s\n",
      "Wall time: 30min 44s\n"
     ]
    }
   ],
   "source": [
    "%%time\n",
    "import numpy as np \n",
    "\n",
    "centroids = {}\n",
    "cluster_assignment = {}\n",
    "heterogeneity_values = []\n",
    "k_list = [2, 10, 25, 50, 100]\n",
    "# seed_list = [0]\n",
    "## Uncomment the following line to run the plot with all the seeds (it may take about an hour to finish).\n",
    "seed_list = [0, 20000, 40000, 60000, 80000, 100000, 120000]\n",
    "\n",
    "for k in k_list:\n",
    "    heterogeneity = []\n",
    "    centroids[k], cluster_assignment[k] = kmeans_multiple_runs(tf_idf, k, \n",
    "                                                               maxiter=400,\n",
    "                                                               num_runs=len(seed_list),\n",
    "                                                               seed_list=seed_list,\n",
    "                                                               verbose=True)\n",
    "    score = compute_heterogeneity(tf_idf, k, centroids[k], cluster_assignment[k])\n",
    "    heterogeneity_values.append(score)"
   ]
  },
  {
   "cell_type": "code",
   "execution_count": 121,
   "metadata": {},
   "outputs": [
    {
     "data": {
      "image/png": "[encoded data removed]",
      "text/plain": [
       "<Figure size 504x288 with 1 Axes>"
      ]
     },
     "metadata": {
      "needs_background": "light"
     },
     "output_type": "display_data"
    }
   ],
   "source": [
    "plot_k_vs_heterogeneity(k_list, heterogeneity_values)"
   ]
  },
  {
   "cell_type": "markdown",
   "metadata": {},
   "source": [
    "In the above plot we show that heterogeneity goes down as we increase the number of clusters. Does this mean we should always favor a higher K? **Not at all!** <br />As we will see in the following section, setting K too high may end up separating data points that are actually pretty alike. \n",
    "At the extreme, we can set individual data points to be their own clusters (K=N) and achieve zero heterogeneity, but separating each data point into its own cluster is hardly a desirable outcome. In the following section, we will learn how to detect a K set \"too large\"."
   ]
  },
  {
   "cell_type": "markdown",
   "metadata": {},
   "source": [
    "## Visualize clusters of documents"
   ]
  },
  {
   "cell_type": "markdown",
   "metadata": {},
   "source": [
    "Let's start visualizing some clustering results to see if we think the clustering makes sense.  We can use such visualizations to help us assess whether we have set K too large or too small for a given application.  Following the theme of this course, we will judge whether the clustering makes sense in the context of document analysis.\n",
    "\n",
    "What are we looking for in a good clustering of documents?\n",
    "* Documents in the same cluster should be similar.\n",
    "* Documents from different clusters should be less similar.\n",
    "\n",
    "So a bad clustering exhibits either of two symptoms:\n",
    "* Documents in a cluster have mixed content.\n",
    "* Documents with similar content are divided up and put into different clusters.\n",
    "\n",
    "To help visualize the clustering, we do the following:\n",
    "* Fetch nearest neighbors of each centroid from the set of documents assigned to that cluster. We will consider these documents as being representative of the cluster.\n",
    "* Print titles and first sentences of those nearest neighbors.\n",
    "* Print top 5 words that have highest tf-idf weights in each centroid."
   ]
  },
  {
   "cell_type": "code",
   "execution_count": 132,
   "metadata": {},
   "outputs": [],
   "source": [
    "def visualize_document_clusters(wiki, tf_idf, centroids, cluster_assign, k, map_word_to_index, display_content=True):\n",
    "    '''wiki: original dataframe\n",
    "       tf_idf: data matrix, sparse matrix format\n",
    "       map_index_to_word: SFrame specifying the mapping betweeen words and column indices\n",
    "       display_content: if True, display 8 nearest neighbors of each centroid'''\n",
    "    map_index_to_word =  {v:k for k,v in map_word_to_index.items()}\n",
    "    print('==========================================================')\n",
    "    \n",
    "    for c in range(k):                        ## Visualize each cluster c\n",
    "        print('Cluster {0:d}    '.format(c))  ## Cluster heading\n",
    "        idx = centroids[c].argsort()[::-1]    ## Print top 5 words with largest TF-IDF weights in the cluster\n",
    "        for ix in range(5):                   ## Print each word along with the TF-IDF weight\n",
    "            print(f'{map_index_to_word[idx[ix]]:s}:{centroids[c][idx[ix]]:.3f}')\n",
    "        print('')\n",
    "        \n",
    "        if display_content:\n",
    "            ## Compute distances from the centroid to all data points in the cluster,\n",
    "            ## and compute nearest neighbors of the centroids within the cluster.\n",
    "            dists = pairwise_distances(tf_idf, centroids[c].reshape(1, -1), metric='euclidean').flatten()\n",
    "            dists[cluster_assign != c] = float('inf')   ## remove non-members from consideration\n",
    "            nearest_neighbors = dists.argsort()\n",
    "            \n",
    "            ## For 8 nearest neighbors, print the title as well as first 180 characters of text.\n",
    "            ## Wrap the text at 80-character mark.\n",
    "            for ix in range(8):\n",
    "                text = ' '.join(wiki[nearest_neighbors[ix]]['text'].split(None, 25)[0:25])\n",
    "                name = wiki[nearest_neighbors[ix]]['name']\n",
    "                print(f'\\n* {name:50s} {dists[nearest_neighbors[ix]]:.5f}\\n  {text[:90]:s}\\n  {text[90:]:s}')\n",
    "        print('==========================================================')\n",
    "    return"
   ]
  },
  {
   "cell_type": "markdown",
   "metadata": {},
   "source": [
    "Let us first look at the 2 cluster case (K=2)."
   ]
  },
  {
   "cell_type": "code",
   "execution_count": 133,
   "metadata": {
    "scrolled": true
   },
   "outputs": [
    {
     "name": "stdout",
     "output_type": "stream",
     "text": [
      "==========================================================\n",
      "Cluster 0    \n",
      "she:0.025\n",
      "her:0.017\n",
      "music:0.012\n",
      "he:0.011\n",
      "university:0.011\n",
      "\n",
      "\n",
      "* Anita Kunz                                         0.97401\n",
      "  anita e kunz oc born 1956 is a canadianborn artist and illustratorkunz has lived in london\n",
      "   new york and toronto contributing to magazines and working\n",
      "\n",
      "* Janet Jackson                                      0.97472\n",
      "  janet damita jo jackson born may 16 1966 is an american singer songwriter and actress know\n",
      "  n for a series of sonically innovative socially conscious and\n",
      "\n",
      "* Madonna (entertainer)                              0.97475\n",
      "  madonna louise ciccone tkoni born august 16 1958 is an american singer songwriter actress \n",
      "  and businesswoman she achieved popularity by pushing the boundaries of lyrical\n",
      "\n",
      "* %C3%81ine Hyland                                   0.97536\n",
      "  ine hyland ne donlon is emeritus professor of education and former vicepresident of univer\n",
      "  sity college cork ireland she was born in 1942 in athboy co\n",
      "\n",
      "* Jane Fonda                                         0.97621\n",
      "  jane fonda born lady jayne seymour fonda december 21 1937 is an american actress writer po\n",
      "  litical activist former fashion model and fitness guru she is\n",
      "\n",
      "* Christine Robertson                                0.97643\n",
      "  christine mary robertson born 5 october 1948 is an australian politician and former austra\n",
      "  lian labor party member of the new south wales legislative council serving\n",
      "\n",
      "* Pat Studdy-Clift                                   0.97643\n",
      "  pat studdyclift is an australian author specialising in historical fiction and nonfictionb\n",
      "  orn in 1925 she lived in gunnedah until she was sent to a boarding\n",
      "\n",
      "* Alexandra Potter                                   0.97646\n",
      "  alexandra potter born 1970 is a british author of romantic comediesborn in bradford yorksh\n",
      "  ire england and educated at liverpool university gaining an honors degree in\n",
      "==========================================================\n",
      "Cluster 1    \n",
      "league:0.040\n",
      "season:0.036\n",
      "team:0.029\n",
      "football:0.029\n",
      "played:0.028\n",
      "\n",
      "\n",
      "* Todd Williams                                      0.95468\n",
      "  todd michael williams born february 13 1971 in syracuse new york is a former major league \n",
      "  baseball relief pitcher he attended east syracuseminoa high school\n",
      "\n",
      "* Gord Sherven                                       0.95622\n",
      "  gordon r sherven born august 21 1963 in gravelbourg saskatchewan and raised in mankota sas\n",
      "  katchewan is a retired canadian professional ice hockey forward who played\n",
      "\n",
      "* Justin Knoedler                                    0.95639\n",
      "  justin joseph knoedler born july 17 1980 in springfield illinois is a former major league \n",
      "  baseball catcherknoedler was originally drafted by the st louis cardinals\n",
      "\n",
      "* Chris Day                                          0.95648\n",
      "  christopher nicholas chris day born 28 july 1975 is an english professional footballer who\n",
      "   plays as a goalkeeper for stevenageday started his career at tottenham\n",
      "\n",
      "* Tony Smith (footballer, born 1957)                 0.95653\n",
      "  anthony tony smith born 20 february 1957 is a former footballer who played as a central de\n",
      "  fender in the football league in the 1970s and\n",
      "\n",
      "* Ashley Prescott                                    0.95761\n",
      "  ashley prescott born 11 september 1972 is a former australian rules footballer he played w\n",
      "  ith the richmond and fremantle football clubs in the afl between\n",
      "\n",
      "* Leslie Lea                                         0.95802\n",
      "  leslie lea born 5 october 1942 in manchester is an english former professional footballer \n",
      "  he played as a midfielderlea began his professional career with blackpool\n",
      "\n",
      "* Tommy Anderson (footballer)                        0.95818\n",
      "  thomas cowan tommy anderson born 24 september 1934 in haddington is a scottish former prof\n",
      "  essional footballer he played as a forward and was noted for\n",
      "==========================================================\n"
     ]
    }
   ],
   "source": [
    "'''Notice the extra pairs of parentheses for centroids and cluster_assignment.\n",
    "   The centroid and cluster_assignment are still inside the npz file,\n",
    "   and we need to explicitly indicate when to load them into memory.'''\n",
    "visualize_document_clusters(wiki, tf_idf, centroids[2], cluster_assignment[2], 2, map_index_to_word)"
   ]
  },
  {
   "cell_type": "markdown",
   "metadata": {},
   "source": [
    "Both clusters have mixed content, although cluster 1 is much purer than cluster 0:\n",
    "* Cluster 0: academia, law\n",
    "* Cluster 1: female figures, baseball players\n",
    "\n",
    "Roughly speaking, the entire dataset was divided into athletes and non-athletes. It would be better if we sub-divided non-atheletes into more categories. So let us use more clusters. How about `K=10`?"
   ]
  },
  {
   "cell_type": "code",
   "execution_count": 134,
   "metadata": {
    "scrolled": true
   },
   "outputs": [
    {
     "name": "stdout",
     "output_type": "stream",
     "text": [
      "==========================================================\n",
      "Cluster 0    \n",
      "film:0.020\n",
      "art:0.014\n",
      "he:0.011\n",
      "book:0.010\n",
      "television:0.010\n",
      "\n",
      "\n",
      "* Wilson McLean                                      0.97479\n",
      "  wilson mclean born 1937 is a scottish illustrator and artist he has illustrated primarily \n",
      "  in the field of advertising but has also provided cover art\n",
      "\n",
      "* Anton Hecht                                        0.97748\n",
      "  anton hecht is an english artist born in london in 2007 he asked musicians from around the\n",
      "   durham area to contribute to a soundtrack for\n",
      "\n",
      "* David Salle                                        0.97800\n",
      "  david salle born 1952 is an american painter printmaker and stage designer who helped defi\n",
      "  ne postmodern sensibility salle was born in norman oklahoma he earned\n",
      "\n",
      "* Vipin Sharma                                       0.97805\n",
      "  vipin sharma is an indian actor born in new delhi he is a graduate of national school of d\n",
      "  rama new delhi india and the canadian\n",
      "\n",
      "* Paul Swadel                                        0.97823\n",
      "  paul swadel is a new zealand film director and producerhe has directed and produced many s\n",
      "  uccessful short films which have screened in competition at cannes\n",
      "\n",
      "* Allan Stratton                                     0.97834\n",
      "  allan stratton born 1951 is a canadian playwright and novelistborn in stratford ontario st\n",
      "  ratton began his professional arts career while he was still in high\n",
      "\n",
      "* Bill Bennett (director)                            0.97848\n",
      "  bill bennett born 1953 is an australian film director producer and screenwriterhe dropped \n",
      "  out of medicine at queensland university in 1972 and joined the australian\n",
      "\n",
      "* Rafal Zielinski                                    0.97850\n",
      "  rafal zielinski born 1957 montreal is an independent filmmaker he is best known for direct\n",
      "  ing films such as fun sundance film festival special jury award\n",
      "==========================================================\n",
      "Cluster 1    \n",
      "league:0.052\n",
      "rugby:0.044\n",
      "club:0.042\n",
      "cup:0.042\n",
      "season:0.041\n",
      "\n",
      "\n",
      "* Chris Day                                          0.93220\n",
      "  christopher nicholas chris day born 28 july 1975 is an english professional footballer who\n",
      "   plays as a goalkeeper for stevenageday started his career at tottenham\n",
      "\n",
      "* Gary Hooper                                        0.93481\n",
      "  gary hooper born 26 january 1988 is an english professional footballer who plays as a forw\n",
      "  ard for norwich cityhooper started his career at nonleague grays\n",
      "\n",
      "* Tony Smith (footballer, born 1957)                 0.93504\n",
      "  anthony tony smith born 20 february 1957 is a former footballer who played as a central de\n",
      "  fender in the football league in the 1970s and\n",
      "\n",
      "* Jason Roberts (footballer)                         0.93527\n",
      "  jason andre davis roberts mbe born 25 january 1978 is a former professional footballer and\n",
      "   now a football punditborn in park royal london roberts was\n",
      "\n",
      "* Paul Robinson (footballer, born 1979)              0.93587\n",
      "  paul william robinson born 15 october 1979 is an english professional footballer who plays\n",
      "   for blackburn rovers as a goalkeeper he is a former england\n",
      "\n",
      "* Alex Lawless                                       0.93732\n",
      "  alexander graham alex lawless born 26 march 1985 is a welsh professional footballer who pl\n",
      "  ays for luton town as a midfielderlawless began his career with\n",
      "\n",
      "* Neil Grayson                                       0.93748\n",
      "  neil grayson born 1 november 1964 in york is an english footballer who last played as a st\n",
      "  riker for sutton towngraysons first club was local\n",
      "\n",
      "* Sol Campbell                                       0.93759\n",
      "  sulzeer jeremiah sol campbell born 18 september 1974 is a former england international foo\n",
      "  tballer a central defender he had a 19year career playing in the\n",
      "==========================================================\n",
      "Cluster 2    \n",
      "championships:0.040\n",
      "tour:0.037\n",
      "championship:0.032\n",
      "world:0.029\n",
      "won:0.029\n",
      "\n",
      "\n",
      "* Alessandra Aguilar                                 0.94505\n",
      "  alessandra aguilar born 1 july 1978 in lugo is a spanish longdistance runner who specialis\n",
      "  es in marathon running she represented her country in the event\n",
      "\n",
      "* Heather Samuel                                     0.94529\n",
      "  heather barbara samuel born 6 july 1970 is a retired sprinter from antigua and barbuda who\n",
      "   specialized in the 100 and 200 metres in 1990\n",
      "\n",
      "* Viola Kibiwot                                      0.94617\n",
      "  viola jelagat kibiwot born december 22 1983 in keiyo district is a runner from kenya who s\n",
      "  pecialises in the 1500 metres kibiwot won her first\n",
      "\n",
      "* Ayelech Worku                                      0.94636\n",
      "  ayelech worku born june 12 1979 is an ethiopian longdistance runner most known for winning\n",
      "   two world championships bronze medals on the 5000 metres she\n",
      "\n",
      "* Morhad Amdouni                                     0.94763\n",
      "  morhad amdouni born 21 january 1988 in portovecchio is a french middle and longdistance ru\n",
      "  nner he was european junior champion in track and cross country\n",
      "\n",
      "* Krisztina Papp                                     0.94776\n",
      "  krisztina papp born 17 december 1982 in eger is a hungarian long distance runner she is th\n",
      "  e national indoor record holder over 5000 mpapp began\n",
      "\n",
      "* Petra Lammert                                      0.94869\n",
      "  petra lammert born 3 march 1984 in freudenstadt badenwrttemberg is a former german shot pu\n",
      "  tter and current bobsledder she was the 2009 european indoor champion\n",
      "\n",
      "* Hasan Mahboob                                      0.94880\n",
      "  hasan mahboob ali born silas kirui on 31 december 1981 in kapsabet is a bahraini longdista\n",
      "  nce runner he became naturalized in bahrain and switched from\n",
      "==========================================================\n",
      "Cluster 3    \n",
      "baseball:0.110\n",
      "league:0.103\n",
      "major:0.052\n",
      "games:0.047\n",
      "season:0.045\n",
      "\n",
      "\n",
      "* Steve Springer                                     0.89300\n",
      "  steven michael springer born february 11 1961 is an american former professional baseball \n",
      "  player who appeared in major league baseball as a third baseman and\n",
      "\n",
      "* Dave Ford                                          0.89547\n",
      "  david alan ford born december 29 1956 is a former major league baseball pitcher for the ba\n",
      "  ltimore orioles born in cleveland ohio ford attended lincolnwest\n",
      "\n",
      "* Todd Williams                                      0.89820\n",
      "  todd michael williams born february 13 1971 in syracuse new york is a former major league \n",
      "  baseball relief pitcher he attended east syracuseminoa high school\n",
      "\n",
      "* Justin Knoedler                                    0.90035\n",
      "  justin joseph knoedler born july 17 1980 in springfield illinois is a former major league \n",
      "  baseball catcherknoedler was originally drafted by the st louis cardinals\n",
      "\n",
      "* Kevin Nicholson (baseball)                         0.90643\n",
      "  kevin ronald nicholson born march 29 1976 is a canadian baseball shortstop he played part \n",
      "  of the 2000 season for the san diego padres of\n",
      "\n",
      "* James Baldwin (baseball)                           0.90648\n",
      "  james j baldwin jr born july 15 1971 is a former major league baseball pitcher he batted a\n",
      "  nd threw righthanded in his 11season career he\n",
      "\n",
      "* Joe Strong                                         0.90655\n",
      "  joseph benjamin strong born september 9 1962 in fairfield california is a former major lea\n",
      "  gue baseball pitcher who played for the florida marlins from 2000\n",
      "\n",
      "* Javier L%C3%B3pez (baseball)                       0.90691\n",
      "  javier alfonso lpez born july 11 1977 is a puerto rican professional baseball pitcher for \n",
      "  the san francisco giants of major league baseball he is\n",
      "==========================================================\n",
      "Cluster 4    \n",
      "research:0.038\n",
      "university:0.035\n",
      "professor:0.032\n",
      "science:0.023\n",
      "institute:0.019\n",
      "\n",
      "\n",
      "* Lawrence W. Green                                  0.95957\n",
      "  lawrence w green is best known by health education researchers as the originator of the pr\n",
      "  ecede model and codeveloper of the precedeproceed model which has\n",
      "\n",
      "* Timothy Luke                                       0.96057\n",
      "  timothy w luke is university distinguished professor of political science in the college o\n",
      "  f liberal arts and human sciences as well as program chair of\n",
      "\n",
      "* Ren%C3%A9e Fox                                     0.96100\n",
      "  rene c fox a summa cum laude graduate of smith college in 1949 earned her phd in sociology\n",
      "   in 1954 from radcliffe college harvard university\n"
     ]
    },
    {
     "name": "stdout",
     "output_type": "stream",
     "text": [
      "\n",
      "* Francis Gavin                                      0.96323\n",
      "  francis j gavin is first frank stanton chair in nuclear security policy studies and profes\n",
      "  sor of political science at mit before joining mit he was\n",
      "\n",
      "* Catherine Hakim                                    0.96374\n",
      "  catherine hakim born 30 may 1948 is a british sociologist who specialises in womens employ\n",
      "  ment and womens issues she is currently a professorial research fellow\n",
      "\n",
      "* Stephen Park Turner                                0.96405\n",
      "  stephen turner is a researcher in social practice social and political theory and the phil\n",
      "  osophy of the social sciences he is graduate research professor in\n",
      "\n",
      "* Robert Bates (political scientist)                 0.96489\n",
      "  robert hinrichs bates born 1942 is an american political scientist he is eaton professor o\n",
      "  f the science of government in the departments of government and\n",
      "\n",
      "* Georg von Krogh                                    0.96505\n",
      "  georg von krogh was born in oslo norway he is a professor at eth zurich and holds the chai\n",
      "  r of strategic management and innovation he\n",
      "==========================================================\n",
      "Cluster 5    \n",
      "football:0.076\n",
      "coach:0.060\n",
      "basketball:0.056\n",
      "season:0.044\n",
      "played:0.037\n",
      "\n",
      "\n",
      "* Todd Curley                                        0.92731\n",
      "  todd curley born 14 january 1973 is a former australian rules footballer who played for co\n",
      "  llingwood and the western bulldogs in the australian football league\n",
      "\n",
      "* Ashley Prescott                                    0.92992\n",
      "  ashley prescott born 11 september 1972 is a former australian rules footballer he played w\n",
      "  ith the richmond and fremantle football clubs in the afl between\n",
      "\n",
      "* Pete Richardson                                    0.93204\n",
      "  pete richardson born october 17 1946 in youngstown ohio is a former american football defe\n",
      "  nsive back in the national football league and former college head\n",
      "\n",
      "* Nathan Brown (Australian footballer born 1976)     0.93561\n",
      "  nathan daniel brown born 14 august 1976 is an australian rules footballer who played for t\n",
      "  he melbourne demons in the australian football leaguehe was drafted\n",
      "\n",
      "* Earl Spalding                                      0.93654\n",
      "  earl spalding born 11 march 1965 in south perth is a former australian rules footballer wh\n",
      "  o played for melbourne and carlton in the victorian football\n",
      "\n",
      "* Bud Grant                                          0.93766\n",
      "  harry peter bud grant jr born may 20 1927 is a former american football and canadian footb\n",
      "  all head coach grant served as the head coach\n",
      "\n",
      "* Tyrone Wheatley                                    0.93885\n",
      "  tyrone anthony wheatley born january 19 1972 is the running backs coach of michigan and a \n",
      "  former professional american football player who played 10 seasons\n",
      "\n",
      "* Nick Salter                                        0.93916\n",
      "  nick salter born 30 july 1987 is an australian rules footballer who played for port adelai\n",
      "  de football club in the australian football league aflhe was\n",
      "==========================================================\n",
      "Cluster 6    \n",
      "she:0.138\n",
      "her:0.089\n",
      "actress:0.014\n",
      "film:0.013\n",
      "miss:0.012\n",
      "\n",
      "\n",
      "* Lauren Royal                                       0.93445\n",
      "  lauren royal born march 3 circa 1965 is a book writer from california royal has written bo\n",
      "  th historic and novelistic booksa selfproclaimed angels baseball fan\n",
      "\n",
      "* Barbara Hershey                                    0.93496\n",
      "  barbara hershey born barbara lynn herzstein february 5 1948 once known as barbara seagull \n",
      "  is an american actress in a career spanning nearly 50 years\n",
      "\n",
      "* Janet Jackson                                      0.93559\n",
      "  janet damita jo jackson born may 16 1966 is an american singer songwriter and actress know\n",
      "  n for a series of sonically innovative socially conscious and\n",
      "\n",
      "* Jane Fonda                                         0.93759\n",
      "  jane fonda born lady jayne seymour fonda december 21 1937 is an american actress writer po\n",
      "  litical activist former fashion model and fitness guru she is\n",
      "\n",
      "* Janine Shepherd                                    0.93833\n",
      "  janine lee shepherd am born 1962 is an australian pilot and former crosscountry skier shep\n",
      "  herds career as an athlete ended when she suffered major injuries\n",
      "\n",
      "* Ellina Graypel                                     0.93847\n",
      "  ellina graypel born july 19 1972 is an awardwinning russian singersongwriter she was born \n",
      "  near the volga river in the heart of russia she spent\n",
      "\n",
      "* Alexandra Potter                                   0.93858\n",
      "  alexandra potter born 1970 is a british author of romantic comediesborn in bradford yorksh\n",
      "  ire england and educated at liverpool university gaining an honors degree in\n",
      "\n",
      "* Melissa Hart (actress)                             0.93913\n",
      "  melissa hart is an american actress singer and teacher she made her broadway debut in 1966\n",
      "   as an ensemble member in jerry bocks the apple\n",
      "==========================================================\n",
      "Cluster 7    \n",
      "music:0.057\n",
      "album:0.040\n",
      "band:0.035\n",
      "orchestra:0.023\n",
      "released:0.022\n",
      "\n",
      "\n",
      "* Brenton Broadstock                                 0.95722\n",
      "  brenton broadstock ao born 1952 is an australian composerbroadstock was born in melbourne \n",
      "  he studied history politics and music at monash university and later composition\n",
      "\n",
      "* Prince (musician)                                  0.96057\n",
      "  prince rogers nelson born june 7 1958 known by his mononym prince is an american singerson\n",
      "  gwriter multiinstrumentalist and actor he has produced ten platinum albums\n",
      "\n",
      "* Will.i.am                                          0.96066\n",
      "  william adams born march 15 1975 known by his stage name william pronounced will i am is a\n",
      "  n american rapper songwriter entrepreneur actor dj record\n",
      "\n",
      "* Tom Bancroft                                       0.96117\n",
      "  tom bancroft born 1967 london is a british jazz drummer and composer he began drumming age\n",
      "  d seven and started off playing jazz with his father\n",
      "\n",
      "* Julian Knowles                                     0.96152\n",
      "  julian knowles is an australian composer and performer specialising in new and emerging te\n",
      "  chnologies his creative work spans the fields of composition for theatre dance\n",
      "\n",
      "* Dan Siegel (musician)                              0.96223\n",
      "  dan siegel born in seattle washington is a pianist composer and record producer his earlie\n",
      "  r music has been described as new age while his more\n",
      "\n",
      "* Tony Mills (musician)                              0.96238\n",
      "  tony mills born 7 july 1962 in solihull england is an english rock singer best known for h\n",
      "  is work with shy and tnthailing from birmingham\n",
      "\n",
      "* Don Robertson (composer)                           0.96249\n",
      "  don robertson born 1942 is an american composerdon robertson was born in 1942 in denver co\n",
      "  lorado and began studying music with conductor and pianist antonia\n",
      "==========================================================\n",
      "Cluster 8    \n",
      "hockey:0.216\n",
      "nhl:0.134\n",
      "ice:0.065\n",
      "season:0.053\n",
      "league:0.047\n",
      "\n",
      "\n",
      "* Gord Sherven                                       0.83598\n",
      "  gordon r sherven born august 21 1963 in gravelbourg saskatchewan and raised in mankota sas\n",
      "  katchewan is a retired canadian professional ice hockey forward who played\n",
      "\n",
      "* Eric Brewer                                        0.83765\n",
      "  eric peter brewer born april 17 1979 is a canadian professional ice hockey defenceman for \n",
      "  the anaheim ducks of the national hockey league nhl he\n",
      "\n",
      "* Stephen Johns (ice hockey)                         0.84580\n",
      "  stephen johns born april 18 1992 is an american professional ice hockey defenceman he is c\n",
      "  urrently playing with the rockford icehogs of the american hockey\n",
      "\n",
      "* Mike Stevens (ice hockey, born 1965)               0.85320\n",
      "  mike stevens born december 30 1965 in kitchener ontario is a retired professional ice hock\n",
      "  ey player who played 23 games in the national hockey league\n",
      "\n",
      "* Tanner Glass                                       0.85484\n",
      "  tanner glass born november 29 1983 is a canadian professional ice hockey winger who plays \n",
      "  for the new york rangers of the national hockey league\n",
      "\n",
      "* Todd Strueby                                       0.86053\n",
      "  todd kenneth strueby born june 15 1963 in lanigan saskatchewan and raised in humboldt sask\n",
      "  atchewan is a retired canadian professional ice hockey centre who played\n",
      "\n",
      "* Steven King (ice hockey)                           0.86129\n",
      "  steven andrew king born july 22 1969 in east greenwich rhode island is a former ice hockey\n",
      "   forward who played professionally from 1991 to 2000\n",
      "\n",
      "* Don Jackson (ice hockey)                           0.86661\n",
      "  donald clinton jackson born september 2 1956 in minneapolis minnesota and bloomington minn\n",
      "  esota is an ice hockey coach and a retired professional ice hockey player\n",
      "==========================================================\n",
      "Cluster 9    \n",
      "party:0.028\n",
      "election:0.025\n",
      "minister:0.025\n",
      "served:0.021\n",
      "law:0.019\n",
      "\n"
     ]
    },
    {
     "name": "stdout",
     "output_type": "stream",
     "text": [
      "\n",
      "* Doug Lewis                                         0.96516\n",
      "  douglas grinslade doug lewis pc qc born april 17 1938 is a former canadian politician a ch\n",
      "  artered accountant and lawyer by training lewis entered the\n",
      "\n",
      "* David Anderson (British Columbia politician)       0.96530\n",
      "  david a anderson pc oc born august 16 1937 in victoria british columbia is a former canadi\n",
      "  an cabinet minister educated at victoria college in victoria\n",
      "\n",
      "* Lucienne Robillard                                 0.96679\n",
      "  lucienne robillard pc born june 16 1945 is a canadian politician and a member of the liber\n",
      "  al party of canada she sat in the house\n",
      "\n",
      "* Bob Menendez                                       0.96686\n",
      "  robert bob menendez born january 1 1954 is the senior united states senator from new jerse\n",
      "  y he is a member of the democratic party first\n",
      "\n",
      "* Mal Sandon                                         0.96706\n",
      "  malcolm john mal sandon born 16 september 1945 is an australian politician he was an austr\n",
      "  alian labor party member of the victorian legislative council from\n",
      "\n",
      "* Roger Price (Australian politician)                0.96717\n",
      "  leo roger spurway price born 26 november 1945 is a former australian politician he was ele\n",
      "  cted as a member of the australian house of representatives\n",
      "\n",
      "* Maureen Lyster                                     0.96734\n",
      "  maureen anne lyster born 10 september 1943 is an australian politician she was an australi\n",
      "  an labor party member of the victorian legislative assembly from 1985\n",
      "\n",
      "* Don Bell                                           0.96739\n",
      "  donald h bell born march 10 1942 in new westminster british columbia is a canadian politic\n",
      "  ian he is currently serving as a councillor for the\n",
      "==========================================================\n"
     ]
    }
   ],
   "source": [
    "k = 10\n",
    "visualize_document_clusters(wiki, tf_idf, centroids[k], cluster_assignment[k], k, map_index_to_word)"
   ]
  },
  {
   "cell_type": "markdown",
   "metadata": {},
   "source": [
    "Clusters 0, 1, and 5 appear to be still mixed, but others are quite consistent in content.\n",
    "* Cluster 0: artists, book, him/his\n",
    "* Cluster 1: film, theatre, films, tv, actor \n",
    "* Cluster 2: baseball players\n",
    "* Cluster 3: elections, ministers\n",
    "* Cluster 4: music, orchestra, symphony \n",
    "* Cluster 5: female figures from various fields\n",
    "* Cluster 6: composers, songwriters, singers, music producers\n",
    "* Cluster 7: law, courts, justice \n",
    "* Cluster 8: football \n",
    "* Cluster 9: academia\n",
    "\n",
    "Clusters are now more pure, but some are qualitatively \"bigger\" than others. For instance, the category of scholars is more general than the category of baseball players. Increasing the number of clusters may split larger clusters. Another way to look at the size of the clusters is to count the number of articles in each cluster."
   ]
  },
  {
   "cell_type": "code",
   "execution_count": 135,
   "metadata": {},
   "outputs": [
    {
     "data": {
      "text/plain": [
       "array([17602,  3415,  3535,  1736,  6445,  2552,  7106,  7155,   599,\n",
       "        8926])"
      ]
     },
     "execution_count": 135,
     "metadata": {},
     "output_type": "execute_result"
    }
   ],
   "source": [
    "np.bincount(cluster_assignment[10])"
   ]
  },
  {
   "cell_type": "markdown",
   "metadata": {},
   "source": [
    "**Quiz Question**. Which of the 10 clusters above contains the greatest number of articles?\n",
    "\n",
    "  1. [x] Cluster 0: artists, book, him/his\n",
    "  1. [ ] Cluster 4: music, orchestra, symphony \n",
    "  1. [ ] Cluster 5: female figures from various fields\n",
    "  1. [ ] Cluster 7: law, courts, justice \n",
    "  1. [ ] Cluster 9: academia"
   ]
  },
  {
   "cell_type": "markdown",
   "metadata": {},
   "source": [
    "**Quiz Question**. Which of the 10 clusters contains the least number of articles?\n",
    "\n",
    "  1. [ ]  Cluster 1: film, theatre, films, tv, actor \n",
    "  1. [ ]  Cluster 3: elections, ministers\n",
    "  1. [ ]  Cluster 6: composers, songwriters, singers, music producers\n",
    "  1. [ ]  Cluster 7: law, courts, justice \n",
    "  1. [x]  Cluster 8: football "
   ]
  },
  {
   "cell_type": "markdown",
   "metadata": {},
   "source": [
    "There appears to be at least some connection between the topical consistency of a cluster and the number of its member data points."
   ]
  },
  {
   "cell_type": "markdown",
   "metadata": {},
   "source": [
    "Let us visualize the case for K=25. <br /> \n",
    "For the sake of brevity, we do not print the content of documents. It turns out that the top words with highest TF-IDF weights in each cluster are representative of the cluster."
   ]
  },
  {
   "cell_type": "code",
   "execution_count": 136,
   "metadata": {
    "scrolled": true
   },
   "outputs": [
    {
     "name": "stdout",
     "output_type": "stream",
     "text": [
      "==========================================================\n",
      "Cluster 0    \n",
      "law:0.077\n",
      "district:0.048\n",
      "court:0.046\n",
      "republican:0.038\n",
      "senate:0.038\n",
      "\n",
      "==========================================================\n",
      "Cluster 1    \n",
      "research:0.054\n",
      "professor:0.033\n",
      "science:0.032\n",
      "university:0.031\n",
      "physics:0.029\n",
      "\n",
      "==========================================================\n",
      "Cluster 2    \n",
      "hockey:0.216\n",
      "nhl:0.134\n",
      "ice:0.065\n",
      "season:0.052\n",
      "league:0.047\n",
      "\n",
      "==========================================================\n",
      "Cluster 3    \n",
      "party:0.065\n",
      "election:0.042\n",
      "elected:0.031\n",
      "parliament:0.027\n",
      "member:0.023\n",
      "\n",
      "==========================================================\n",
      "Cluster 4    \n",
      "board:0.025\n",
      "president:0.023\n",
      "chairman:0.022\n",
      "business:0.022\n",
      "executive:0.020\n",
      "\n",
      "==========================================================\n",
      "Cluster 5    \n",
      "minister:0.160\n",
      "prime:0.056\n",
      "cabinet:0.044\n",
      "party:0.043\n",
      "election:0.042\n",
      "\n",
      "==========================================================\n",
      "Cluster 6    \n",
      "university:0.044\n",
      "professor:0.037\n",
      "studies:0.035\n",
      "history:0.034\n",
      "philosophy:0.031\n",
      "\n",
      "==========================================================\n",
      "Cluster 7    \n",
      "election:0.066\n",
      "manitoba:0.058\n",
      "liberal:0.051\n",
      "party:0.045\n",
      "riding:0.043\n",
      "\n",
      "==========================================================\n",
      "Cluster 8    \n",
      "racing:0.095\n",
      "formula:0.056\n",
      "championship:0.054\n",
      "race:0.052\n",
      "poker:0.051\n",
      "\n",
      "==========================================================\n",
      "Cluster 9    \n",
      "economics:0.146\n",
      "economic:0.096\n",
      "economist:0.053\n",
      "policy:0.048\n",
      "research:0.043\n",
      "\n",
      "==========================================================\n",
      "Cluster 10    \n",
      "championships:0.075\n",
      "olympics:0.050\n",
      "marathon:0.048\n",
      "metres:0.048\n",
      "she:0.048\n",
      "\n",
      "==========================================================\n",
      "Cluster 11    \n",
      "she:0.144\n",
      "her:0.092\n",
      "miss:0.016\n",
      "actress:0.015\n",
      "television:0.012\n",
      "\n",
      "==========================================================\n",
      "Cluster 12    \n",
      "he:0.011\n",
      "radio:0.009\n",
      "show:0.009\n",
      "that:0.009\n",
      "his:0.009\n",
      "\n",
      "==========================================================\n",
      "Cluster 13    \n",
      "baseball:0.109\n",
      "league:0.104\n",
      "major:0.052\n",
      "games:0.047\n",
      "season:0.045\n",
      "\n",
      "==========================================================\n",
      "Cluster 14    \n",
      "art:0.144\n",
      "museum:0.076\n",
      "gallery:0.056\n",
      "artist:0.033\n",
      "arts:0.031\n",
      "\n",
      "==========================================================\n",
      "Cluster 15    \n",
      "football:0.125\n",
      "afl:0.060\n",
      "nfl:0.051\n",
      "season:0.049\n",
      "played:0.045\n",
      "\n",
      "==========================================================\n",
      "Cluster 16    \n",
      "music:0.097\n",
      "jazz:0.061\n",
      "piano:0.033\n",
      "composer:0.029\n",
      "orchestra:0.028\n",
      "\n",
      "==========================================================\n",
      "Cluster 17    \n",
      "league:0.052\n",
      "rugby:0.044\n",
      "club:0.043\n",
      "cup:0.042\n",
      "season:0.042\n",
      "\n",
      "==========================================================\n",
      "Cluster 18    \n",
      "poetry:0.055\n",
      "novel:0.045\n",
      "book:0.042\n",
      "published:0.039\n",
      "fiction:0.035\n",
      "\n",
      "==========================================================\n",
      "Cluster 19    \n",
      "film:0.095\n",
      "theatre:0.038\n",
      "films:0.035\n",
      "directed:0.029\n",
      "television:0.028\n",
      "\n",
      "==========================================================\n",
      "Cluster 20    \n",
      "album:0.064\n",
      "band:0.049\n",
      "music:0.037\n",
      "released:0.033\n",
      "song:0.025\n",
      "\n",
      "==========================================================\n",
      "Cluster 21    \n",
      "bishop:0.075\n",
      "air:0.066\n",
      "force:0.048\n",
      "church:0.047\n",
      "command:0.045\n",
      "\n",
      "==========================================================\n",
      "Cluster 22    \n",
      "orchestra:0.146\n",
      "opera:0.116\n",
      "symphony:0.106\n",
      "conductor:0.077\n",
      "music:0.064\n",
      "\n",
      "==========================================================\n",
      "Cluster 23    \n",
      "basketball:0.120\n",
      "coach:0.105\n",
      "nba:0.065\n",
      "head:0.042\n",
      "season:0.040\n",
      "\n",
      "==========================================================\n",
      "Cluster 24    \n",
      "tour:0.256\n",
      "pga:0.213\n",
      "golf:0.142\n",
      "open:0.073\n",
      "golfer:0.062\n",
      "\n",
      "==========================================================\n"
     ]
    }
   ],
   "source": [
    "visualize_document_clusters(wiki, tf_idf, centroids[25], cluster_assignment[25], 25,\n",
    "                            map_index_to_word, display_content=False) # turn off text for brevity"
   ]
  },
  {
   "cell_type": "markdown",
   "metadata": {},
   "source": [
    "Looking at the representative examples and top words, we classify each cluster as follows.\n",
    "\n",
    "* Cluster 0: Literature / Politics\n",
    "* Cluster 1: Film and theater / Academia and research\n",
    "* Cluster 2: Law / Sport?\n",
    "* Cluster 3: Politics \n",
    "* Cluster 4: Classical music / Business and economics?\n",
    "* Cluster 5: Popular music / Politics\n",
    "* Cluster 6: Jazz music / Academia and research\n",
    "...\n",
    "* Cluster 7: Business and economics\n",
    "* Cluster 8: (mixed; no clear theme)\n",
    "* Cluster 9: Academia and research\n",
    "* Cluster 10: International affairs\n",
    "* Cluster 11: Baseball\n",
    "* Cluster 12: Art\n",
    "* Cluster 13: Military\n",
    "* Cluster 14: Politics\n",
    "* Cluster 15: Radio and TV\n",
    "* Cluster 16: Catholic church\n",
    "* Cluster 17: Opera and ballet\n",
    "* Cluster 18: Orchestra music\n",
    "* Cluster 19: Females from various fields\n",
    "* Cluster 20: Car racing\n",
    "* Cluster 21: General sports\n",
    "* Cluster 22: Rugby\n",
    "* Cluster 23: Rock music\n",
    "* Cluster 24: Team sports\n",
    "\n",
    "Indeed, increasing K achieved the desired effect of breaking up large clusters.  Depending on the application, this may or may not be preferable to the K=10 analysis.\n",
    "\n",
    "Let's take it to the extreme and set K=100. We have a suspicion that this value is too large. Let us look at the top words from each cluster:"
   ]
  },
  {
   "cell_type": "code",
   "execution_count": 137,
   "metadata": {},
   "outputs": [
    {
     "name": "stdout",
     "output_type": "stream",
     "text": [
      "==========================================================\n",
      "Cluster 0    \n",
      "brazilian:0.137\n",
      "brazil:0.082\n",
      "de:0.056\n",
      "rio:0.053\n",
      "paulo:0.050\n",
      "\n",
      "==========================================================\n",
      "Cluster 1    \n",
      "bishop:0.170\n",
      "diocese:0.085\n",
      "archbishop:0.083\n",
      "church:0.072\n",
      "ordained:0.058\n",
      "\n",
      "==========================================================\n",
      "Cluster 2    \n",
      "zealand:0.247\n",
      "new:0.069\n",
      "auckland:0.056\n",
      "wellington:0.031\n",
      "zealands:0.029\n",
      "\n",
      "==========================================================\n",
      "Cluster 3    \n",
      "comics:0.181\n",
      "comic:0.121\n",
      "strip:0.042\n",
      "graphic:0.036\n",
      "book:0.034\n",
      "\n",
      "==========================================================\n",
      "Cluster 4    \n",
      "puerto:0.309\n",
      "rico:0.220\n",
      "rican:0.066\n",
      "juan:0.041\n",
      "ricos:0.031\n",
      "\n",
      "==========================================================\n",
      "Cluster 5    \n",
      "bbc:0.192\n",
      "radio:0.127\n",
      "presenter:0.054\n",
      "show:0.046\n",
      "news:0.042\n",
      "\n",
      "==========================================================\n",
      "Cluster 6    \n",
      "senate:0.059\n",
      "district:0.053\n",
      "county:0.051\n",
      "committee:0.049\n",
      "state:0.044\n",
      "\n",
      "==========================================================\n",
      "Cluster 7    \n",
      "labor:0.105\n",
      "australian:0.099\n",
      "liberal:0.071\n",
      "election:0.067\n",
      "seat:0.061\n",
      "\n",
      "==========================================================\n",
      "Cluster 8    \n",
      "economics:0.065\n",
      "university:0.048\n",
      "research:0.045\n",
      "professor:0.043\n",
      "economic:0.043\n",
      "\n",
      "==========================================================\n",
      "Cluster 9    \n",
      "foreign:0.086\n",
      "ambassador:0.076\n",
      "affairs:0.061\n",
      "nations:0.053\n",
      "united:0.040\n",
      "\n",
      "==========================================================\n",
      "Cluster 10    \n",
      "she:0.188\n",
      "her:0.052\n",
      "women:0.026\n",
      "womens:0.020\n",
      "council:0.019\n",
      "\n",
      "==========================================================\n",
      "Cluster 11    \n",
      "rowing:0.246\n",
      "sculls:0.097\n",
      "rower:0.081\n",
      "olympics:0.073\n",
      "championships:0.068\n",
      "\n",
      "==========================================================\n",
      "Cluster 12    \n",
      "fashion:0.086\n",
      "photography:0.085\n",
      "photographer:0.057\n",
      "photographs:0.038\n",
      "art:0.025\n",
      "\n",
      "==========================================================\n",
      "Cluster 13    \n",
      "republican:0.098\n",
      "governor:0.051\n",
      "district:0.044\n",
      "election:0.043\n",
      "senate:0.043\n",
      "\n",
      "==========================================================\n",
      "Cluster 14    \n",
      "orchestra:0.227\n",
      "symphony:0.177\n",
      "philharmonic:0.084\n",
      "music:0.080\n",
      "conductor:0.057\n",
      "\n",
      "==========================================================\n",
      "Cluster 15    \n",
      "air:0.375\n",
      "force:0.242\n",
      "command:0.106\n",
      "commander:0.094\n",
      "base:0.080\n",
      "\n",
      "==========================================================\n",
      "Cluster 16    \n",
      "baseball:0.098\n",
      "league:0.097\n",
      "era:0.083\n",
      "pitcher:0.083\n",
      "pitched:0.075\n",
      "\n",
      "==========================================================\n",
      "Cluster 17    \n",
      "church:0.114\n",
      "theology:0.072\n",
      "theological:0.066\n",
      "seminary:0.047\n",
      "christian:0.037\n",
      "\n",
      "==========================================================\n",
      "Cluster 18    \n",
      "song:0.071\n",
      "songs:0.043\n",
      "music:0.041\n",
      "album:0.030\n",
      "singer:0.025\n",
      "\n",
      "==========================================================\n",
      "Cluster 19    \n",
      "basketball:0.165\n",
      "nba:0.113\n",
      "points:0.067\n",
      "season:0.044\n",
      "rebounds:0.044\n",
      "\n",
      "==========================================================\n",
      "Cluster 20    \n",
      "art:0.209\n",
      "museum:0.186\n",
      "gallery:0.082\n",
      "arts:0.046\n",
      "contemporary:0.044\n",
      "\n",
      "==========================================================\n",
      "Cluster 21    \n",
      "poetry:0.213\n",
      "poems:0.083\n",
      "poet:0.069\n",
      "poets:0.044\n",
      "literary:0.040\n",
      "\n",
      "==========================================================\n",
      "Cluster 22    \n",
      "guitar:0.215\n",
      "guitarist:0.045\n",
      "music:0.045\n",
      "guitars:0.037\n",
      "classical:0.028\n",
      "\n",
      "==========================================================\n",
      "Cluster 23    \n",
      "novel:0.127\n",
      "published:0.045\n",
      "novels:0.044\n",
      "book:0.039\n",
      "fiction:0.030\n",
      "\n",
      "==========================================================\n",
      "Cluster 24    \n",
      "jazz:0.205\n",
      "music:0.048\n",
      "band:0.034\n",
      "pianist:0.025\n",
      "recorded:0.023\n",
      "\n",
      "==========================================================\n",
      "Cluster 25    \n",
      "polish:0.211\n",
      "poland:0.097\n",
      "warsaw:0.091\n",
      "sejm:0.039\n",
      "she:0.023\n",
      "\n",
      "==========================================================\n",
      "Cluster 26    \n",
      "trinidad:0.259\n",
      "tobago:0.178\n",
      "calypso:0.058\n",
      "caribbean:0.033\n",
      "soca:0.027\n",
      "\n",
      "==========================================================\n",
      "Cluster 27    \n",
      "tour:0.261\n",
      "pga:0.220\n",
      "golf:0.140\n",
      "open:0.073\n",
      "golfer:0.063\n",
      "\n",
      "==========================================================\n",
      "Cluster 28    \n",
      "afl:0.177\n",
      "football:0.128\n",
      "australian:0.092\n",
      "adelaide:0.064\n",
      "season:0.062\n",
      "\n",
      "==========================================================\n",
      "Cluster 29    \n",
      "skating:0.263\n",
      "skater:0.107\n",
      "speed:0.095\n",
      "she:0.066\n",
      "ice:0.060\n",
      "\n",
      "==========================================================\n",
      "Cluster 30    \n",
      "party:0.073\n",
      "election:0.035\n",
      "elected:0.029\n",
      "candidate:0.022\n",
      "parliament:0.021\n",
      "\n",
      "==========================================================\n",
      "Cluster 31    \n",
      "rugby:0.198\n",
      "cup:0.049\n",
      "against:0.046\n",
      "played:0.045\n",
      "wales:0.040\n",
      "\n",
      "==========================================================\n",
      "Cluster 32    \n",
      "book:0.039\n",
      "books:0.029\n",
      "published:0.026\n",
      "editor:0.021\n",
      "author:0.017\n",
      "\n",
      "==========================================================\n",
      "Cluster 33    \n",
      "piano:0.150\n",
      "music:0.071\n",
      "orchestra:0.056\n",
      "competition:0.053\n",
      "pianist:0.051\n",
      "\n",
      "==========================================================\n",
      "Cluster 34    \n",
      "wrestling:0.299\n",
      "wwe:0.163\n",
      "wrestler:0.092\n",
      "championship:0.079\n",
      "tag:0.078\n",
      "\n",
      "==========================================================\n",
      "Cluster 35    \n",
      "opera:0.269\n",
      "she:0.067\n",
      "la:0.041\n",
      "sang:0.040\n",
      "operatic:0.036\n",
      "\n",
      "==========================================================\n",
      "Cluster 36    \n",
      "radio:0.080\n",
      "show:0.069\n",
      "host:0.038\n",
      "sports:0.030\n",
      "television:0.028\n",
      "\n",
      "==========================================================\n",
      "Cluster 37    \n",
      "music:0.131\n",
      "composition:0.038\n",
      "composer:0.037\n",
      "orchestra:0.026\n",
      "ensemble:0.023\n",
      "\n",
      "==========================================================\n",
      "Cluster 38    \n",
      "drummer:0.099\n",
      "band:0.092\n",
      "album:0.040\n",
      "drums:0.039\n",
      "rock:0.034\n",
      "\n",
      "==========================================================\n",
      "Cluster 39    \n",
      "moore:0.306\n",
      "moores:0.034\n",
      "her:0.021\n",
      "she:0.020\n",
      "sports:0.012\n",
      "\n",
      "==========================================================\n",
      "Cluster 40    \n",
      "computer:0.086\n",
      "engineering:0.072\n",
      "research:0.045\n",
      "science:0.044\n",
      "technology:0.042\n",
      "\n",
      "==========================================================\n",
      "Cluster 41    \n",
      "minister:0.164\n",
      "prime:0.068\n",
      "cabinet:0.043\n",
      "party:0.039\n",
      "government:0.038\n",
      "\n",
      "==========================================================\n",
      "Cluster 42    \n",
      "research:0.062\n",
      "professor:0.035\n",
      "university:0.034\n",
      "science:0.031\n",
      "psychology:0.030\n",
      "\n",
      "==========================================================\n",
      "Cluster 43    \n",
      "news:0.127\n",
      "anchor:0.062\n",
      "reporter:0.059\n",
      "she:0.045\n",
      "correspondent:0.045\n",
      "\n",
      "==========================================================\n",
      "Cluster 44    \n",
      "league:0.088\n",
      "town:0.060\n",
      "season:0.060\n",
      "club:0.059\n",
      "football:0.055\n",
      "\n",
      "==========================================================\n",
      "Cluster 45    \n",
      "football:0.046\n",
      "cup:0.044\n",
      "club:0.042\n",
      "team:0.041\n",
      "league:0.033\n",
      "\n",
      "==========================================================\n",
      "Cluster 46    \n",
      "football:0.108\n",
      "vfl:0.099\n",
      "australian:0.068\n",
      "melbourne:0.067\n",
      "goals:0.064\n",
      "\n",
      "==========================================================\n",
      "Cluster 47    \n",
      "design:0.166\n",
      "architecture:0.119\n",
      "architectural:0.058\n",
      "architects:0.038\n",
      "architect:0.037\n",
      "\n",
      "==========================================================\n",
      "Cluster 48    \n",
      "philosophy:0.227\n",
      "philosophical:0.045\n",
      "university:0.044\n",
      "professor:0.041\n",
      "philosopher:0.041\n",
      "\n",
      "==========================================================\n",
      "Cluster 49    \n",
      "physics:0.121\n",
      "mathematics:0.072\n",
      "mathematical:0.060\n",
      "theory:0.053\n",
      "professor:0.043\n",
      "\n",
      "==========================================================\n",
      "Cluster 50    \n",
      "baron:0.070\n",
      "lord:0.060\n",
      "lords:0.054\n",
      "chairman:0.035\n",
      "british:0.034\n",
      "\n",
      "==========================================================\n",
      "Cluster 51    \n",
      "chef:0.143\n",
      "food:0.136\n",
      "restaurant:0.095\n",
      "wine:0.086\n",
      "cooking:0.064\n",
      "\n",
      "==========================================================\n",
      "Cluster 52    \n",
      "fiction:0.138\n",
      "stories:0.069\n",
      "short:0.054\n",
      "fantasy:0.048\n",
      "writers:0.043\n",
      "\n",
      "==========================================================\n",
      "Cluster 53    \n",
      "poker:0.477\n",
      "wsop:0.121\n",
      "event:0.091\n",
      "limit:0.078\n",
      "winnings:0.072\n",
      "\n",
      "==========================================================\n",
      "Cluster 54    \n",
      "canadian:0.122\n",
      "canada:0.068\n",
      "toronto:0.053\n",
      "ontario:0.049\n",
      "curling:0.028\n",
      "\n",
      "==========================================================\n",
      "Cluster 55    \n",
      "sri:0.282\n",
      "lanka:0.183\n",
      "lankan:0.094\n",
      "colombo:0.046\n",
      "ceylon:0.027\n",
      "\n",
      "==========================================================\n",
      "Cluster 56    \n",
      "conductor:0.207\n",
      "orchestra:0.136\n",
      "conducting:0.087\n",
      "music:0.080\n",
      "symphony:0.073\n",
      "\n",
      "==========================================================\n",
      "Cluster 57    \n",
      "prison:0.035\n",
      "police:0.027\n",
      "sentenced:0.026\n",
      "court:0.025\n",
      "convicted:0.023\n",
      "\n",
      "==========================================================\n",
      "Cluster 58    \n"
     ]
    },
    {
     "name": "stdout",
     "output_type": "stream",
     "text": [
      "blues:0.234\n",
      "band:0.047\n",
      "music:0.039\n",
      "album:0.037\n",
      "guitar:0.035\n",
      "\n",
      "==========================================================\n",
      "Cluster 59    \n",
      "dj:0.093\n",
      "hop:0.052\n",
      "hip:0.051\n",
      "music:0.048\n",
      "album:0.037\n",
      "\n",
      "==========================================================\n",
      "Cluster 60    \n",
      "de:0.127\n",
      "la:0.059\n",
      "el:0.035\n",
      "mexico:0.026\n",
      "y:0.025\n",
      "\n",
      "==========================================================\n",
      "Cluster 61    \n",
      "jewish:0.193\n",
      "rabbi:0.132\n",
      "israel:0.052\n",
      "hebrew:0.038\n",
      "jews:0.032\n",
      "\n",
      "==========================================================\n",
      "Cluster 62    \n",
      "ballet:0.362\n",
      "dance:0.109\n",
      "dancer:0.084\n",
      "she:0.057\n",
      "danced:0.044\n",
      "\n",
      "==========================================================\n",
      "Cluster 63    \n",
      "hockey:0.220\n",
      "nhl:0.138\n",
      "ice:0.067\n",
      "season:0.053\n",
      "league:0.048\n",
      "\n",
      "==========================================================\n",
      "Cluster 64    \n",
      "law:0.148\n",
      "court:0.093\n",
      "judge:0.071\n",
      "district:0.051\n",
      "justice:0.043\n",
      "\n",
      "==========================================================\n",
      "Cluster 65    \n",
      "coach:0.205\n",
      "head:0.086\n",
      "basketball:0.059\n",
      "coaching:0.052\n",
      "football:0.046\n",
      "\n",
      "==========================================================\n",
      "Cluster 66    \n",
      "armenian:0.278\n",
      "armenia:0.168\n",
      "yerevan:0.100\n",
      "sargsyan:0.055\n",
      "genocide:0.031\n",
      "\n",
      "==========================================================\n",
      "Cluster 67    \n",
      "album:0.088\n",
      "released:0.044\n",
      "music:0.040\n",
      "records:0.033\n",
      "albums:0.027\n",
      "\n",
      "==========================================================\n",
      "Cluster 68    \n",
      "she:0.158\n",
      "her:0.152\n",
      "music:0.020\n",
      "album:0.016\n",
      "singer:0.013\n",
      "\n",
      "==========================================================\n",
      "Cluster 69    \n",
      "theatre:0.194\n",
      "directed:0.034\n",
      "production:0.031\n",
      "play:0.029\n",
      "actor:0.027\n",
      "\n",
      "==========================================================\n",
      "Cluster 70    \n",
      "health:0.099\n",
      "medical:0.089\n",
      "medicine:0.086\n",
      "research:0.039\n",
      "clinical:0.039\n",
      "\n",
      "==========================================================\n",
      "Cluster 71    \n",
      "european:0.145\n",
      "parliament:0.115\n",
      "party:0.053\n",
      "member:0.049\n",
      "committee:0.048\n",
      "\n",
      "==========================================================\n",
      "Cluster 72    \n",
      "marathon:0.459\n",
      "half:0.087\n",
      "she:0.082\n",
      "hours:0.063\n",
      "championships:0.062\n",
      "\n",
      "==========================================================\n",
      "Cluster 73    \n",
      "she:0.147\n",
      "her:0.105\n",
      "actress:0.098\n",
      "film:0.063\n",
      "role:0.054\n",
      "\n",
      "==========================================================\n",
      "Cluster 74    \n",
      "she:0.101\n",
      "her:0.065\n",
      "women:0.012\n",
      "show:0.010\n",
      "television:0.009\n",
      "\n",
      "==========================================================\n",
      "Cluster 75    \n",
      "lds:0.196\n",
      "church:0.177\n",
      "churchs:0.099\n",
      "latterday:0.074\n",
      "byu:0.073\n",
      "\n",
      "==========================================================\n",
      "Cluster 76    \n",
      "quebec:0.242\n",
      "qubcois:0.064\n",
      "universit:0.061\n",
      "minister:0.059\n",
      "parti:0.051\n",
      "\n",
      "==========================================================\n",
      "Cluster 77    \n",
      "film:0.233\n",
      "festival:0.085\n",
      "films:0.048\n",
      "documentary:0.048\n",
      "feature:0.045\n",
      "\n",
      "==========================================================\n",
      "Cluster 78    \n",
      "hong:0.288\n",
      "kong:0.268\n",
      "chinese:0.068\n",
      "china:0.037\n",
      "wong:0.035\n",
      "\n",
      "==========================================================\n",
      "Cluster 79    \n",
      "soccer:0.296\n",
      "league:0.072\n",
      "indoor:0.065\n",
      "team:0.053\n",
      "season:0.052\n",
      "\n",
      "==========================================================\n",
      "Cluster 80    \n",
      "he:0.011\n",
      "that:0.009\n",
      "his:0.009\n",
      "world:0.008\n",
      "it:0.007\n",
      "\n",
      "==========================================================\n",
      "Cluster 81    \n",
      "ireland:0.092\n",
      "northern:0.072\n",
      "election:0.072\n",
      "irish:0.066\n",
      "gael:0.054\n",
      "\n",
      "==========================================================\n",
      "Cluster 82    \n",
      "comedy:0.048\n",
      "series:0.047\n",
      "actor:0.043\n",
      "television:0.038\n",
      "role:0.037\n",
      "\n",
      "==========================================================\n",
      "Cluster 83    \n",
      "racing:0.128\n",
      "formula:0.080\n",
      "race:0.066\n",
      "car:0.061\n",
      "driver:0.055\n",
      "\n",
      "==========================================================\n",
      "Cluster 84    \n",
      "election:0.096\n",
      "manitoba:0.086\n",
      "liberal:0.071\n",
      "party:0.067\n",
      "conservative:0.060\n",
      "\n",
      "==========================================================\n",
      "Cluster 85    \n",
      "business:0.038\n",
      "company:0.031\n",
      "chairman:0.027\n",
      "ceo:0.025\n",
      "management:0.023\n",
      "\n",
      "==========================================================\n",
      "Cluster 86    \n",
      "chess:0.414\n",
      "grandmaster:0.085\n",
      "olympiad:0.066\n",
      "championship:0.064\n",
      "fide:0.059\n",
      "\n",
      "==========================================================\n",
      "Cluster 87    \n",
      "tennis:0.077\n",
      "doubles:0.068\n",
      "boxing:0.057\n",
      "title:0.048\n",
      "open:0.047\n",
      "\n",
      "==========================================================\n",
      "Cluster 88    \n",
      "president:0.038\n",
      "served:0.028\n",
      "board:0.028\n",
      "university:0.026\n",
      "education:0.022\n",
      "\n",
      "==========================================================\n",
      "Cluster 89    \n",
      "campaign:0.061\n",
      "presidential:0.054\n",
      "political:0.047\n",
      "republican:0.037\n",
      "bush:0.037\n",
      "\n",
      "==========================================================\n",
      "Cluster 90    \n",
      "football:0.120\n",
      "nfl:0.106\n",
      "yards:0.081\n",
      "bowl:0.052\n",
      "quarterback:0.041\n",
      "\n",
      "==========================================================\n",
      "Cluster 91    \n",
      "baseball:0.117\n",
      "league:0.108\n",
      "runs:0.061\n",
      "major:0.052\n",
      "batted:0.044\n",
      "\n",
      "==========================================================\n",
      "Cluster 92    \n",
      "album:0.115\n",
      "her:0.073\n",
      "billboard:0.066\n",
      "chart:0.064\n",
      "singles:0.064\n",
      "\n",
      "==========================================================\n",
      "Cluster 93    \n",
      "film:0.087\n",
      "films:0.050\n",
      "directed:0.029\n",
      "television:0.024\n",
      "actor:0.022\n",
      "\n",
      "==========================================================\n",
      "Cluster 94    \n",
      "championships:0.106\n",
      "metres:0.086\n",
      "she:0.059\n",
      "m:0.059\n",
      "athletics:0.054\n",
      "\n",
      "==========================================================\n",
      "Cluster 95    \n",
      "art:0.109\n",
      "gallery:0.040\n",
      "artist:0.036\n",
      "paintings:0.032\n",
      "painting:0.032\n",
      "\n",
      "==========================================================\n",
      "Cluster 96    \n",
      "band:0.120\n",
      "album:0.040\n",
      "bands:0.035\n",
      "bass:0.031\n",
      "rock:0.030\n",
      "\n",
      "==========================================================\n",
      "Cluster 97    \n",
      "miss:0.361\n",
      "pageant:0.209\n",
      "usa:0.127\n",
      "she:0.110\n",
      "teen:0.063\n",
      "\n",
      "==========================================================\n",
      "Cluster 98    \n",
      "freestyle:0.155\n",
      "swimming:0.120\n",
      "m:0.119\n",
      "swimmer:0.090\n",
      "heat:0.075\n",
      "\n",
      "==========================================================\n",
      "Cluster 99    \n",
      "army:0.081\n",
      "commander:0.080\n",
      "command:0.076\n",
      "military:0.076\n",
      "staff:0.058\n",
      "\n",
      "==========================================================\n"
     ]
    }
   ],
   "source": [
    "k=100\n",
    "visualize_document_clusters(wiki, tf_idf, centroids[k], cluster_assignment[k], k,\n",
    "                            map_index_to_word, display_content=False)\n",
    "# turn off text for brevity -- turn it on if you are curious ;)"
   ]
  },
  {
   "cell_type": "markdown",
   "metadata": {},
   "source": [
    "The class of team sports has been broken into several clusters, soccer (association football) (11, 22, 24), rugby (76), hockey (80), basketball (86), cricket (87), and American football (85).\n",
    "\n",
    "The class of baseball has been broken into San Francisco Giants (45), baseball (61, 74), and baseball stats (88).\n",
    "\n",
    "The class of car racing has been broken into Nascar (20) and Formula 1 (52).\n",
    "\n",
    "**A high value of K encourages pure clusters, but we cannot keep increasing K. For large enough K, related documents end up going to different clusters.**\n",
    "\n",
    "That said, the result for K=100 is not entirely bad. After all, it gives us separate clusters for such categories as Brazil, wrestling, computer science and the Mormon Church. <br /> \n",
    "If we set K somewhere between 25 and 100, we should be able to avoid breaking up clusters while discovering new ones.\n",
    "\n",
    "Also, we should ask ourselves how much **granularity** we want in our clustering. If we wanted a rough sketch of Wikipedia, we don't want too detailed clusters. On the other hand, having many clusters can be valuable when we are zooming into a certain part of Wikipedia.\n",
    "\n",
    "**There is no golden rule for choosing K. It all depends on the particular application and domain we are in.**\n",
    "\n",
    "Another heuristic people use that does not rely on so much visualization, which can be hard in many applications (including here!) is as follows: <br />\n",
    "Track heterogeneity versus K and look for the \"elbow\" of the curve where the heterogeneity decrease rapidly before this value of K, but then only gradually for larger values of K.  This naturally trades off between trying to minimize heterogeneity, but reduce model complexity.  In the heterogeneity versus K plot made above, we did not yet really see a flattening out of the heterogeneity, which might indicate that indeed K=100 is \"reasonable\" and we only see real overfitting for larger values of K (which are even harder to visualize using the methods we attempted above.)"
   ]
  },
  {
   "cell_type": "markdown",
   "metadata": {
    "collapsed": true
   },
   "source": [
    "**Quiz Question**. Another sign of too large K is having lots of small clusters. Look at the distribution of cluster sizes (by number of member data points). <br /> \n",
    "How many of the 100 clusters have fewer than 236 articles, i.e. 0.4% of the dataset?"
   ]
  },
  {
   "cell_type": "code",
   "execution_count": 142,
   "metadata": {},
   "outputs": [
    {
     "data": {
      "text/plain": [
       "29"
      ]
     },
     "execution_count": 142,
     "metadata": {},
     "output_type": "execute_result"
    }
   ],
   "source": [
    "assert k == 100\n",
    "np.sum(np.bincount(cluster_assignment[k]) <= 236)"
   ]
  },
  {
   "cell_type": "markdown",
   "metadata": {},
   "source": [
    "### Takeaway\n",
    "\n",
    "Keep in mind though that tiny clusters aren't necessarily bad. A tiny cluster of documents that really look like each others is definitely preferable to a medium-sized cluster of documents with mixed content. However, having too few articles in a cluster may cause overfitting by reading too much into a limited pool of training data."
   ]
  }
 ],
 "metadata": {
  "kernelspec": {
   "display_name": "Python 3",
   "language": "python",
   "name": "python3"
  },
  "language_info": {
   "codemirror_mode": {
    "name": "ipython",
    "version": 3
   },
   "file_extension": ".py",
   "mimetype": "text/x-python",
   "name": "python",
   "nbconvert_exporter": "python",
   "pygments_lexer": "ipython3",
   "version": "3.8.5"
  }
 },
 "nbformat": 4,
 "nbformat_minor": 1
}
